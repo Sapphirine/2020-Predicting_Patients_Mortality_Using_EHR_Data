{
 "cells": [
  {
   "cell_type": "code",
   "execution_count": 1,
   "metadata": {},
   "outputs": [],
   "source": [
    "import pandas as pd\n",
    "import matplotlib.pyplot as plt\n",
    "import seaborn as sns\n",
    "import numpy as np\n",
    "procedureDF = pd.read_csv('procedure.csv')"
   ]
  },
  {
   "cell_type": "code",
   "execution_count": 2,
   "metadata": {},
   "outputs": [],
   "source": [
    "persondrop=['location_id','provider_id','care_site_id','person_source_value','race_source_value',\n",
    "            'gender_source_value','ethnicity_source_value','birth_datetime']\n",
    "visitdrop=['visit_source_value','visit_start_date','visit_end_date','visit_start_datetime','visit_end_datetime']\n",
    "proceduredrop=['procedure_source_value','procedure_source_concept_id','procedure_date']"
   ]
  },
  {
   "cell_type": "code",
   "execution_count": 3,
   "metadata": {},
   "outputs": [],
   "source": [
    "procedureDF=procedureDF.drop(columns=persondrop)\n",
    "procedureDF=procedureDF.drop(columns=visitdrop)\n",
    "procedureDF=procedureDF.drop(columns=proceduredrop)"
   ]
  },
  {
   "cell_type": "code",
   "execution_count": 4,
   "metadata": {},
   "outputs": [],
   "source": [
    "procedureDF.loc[pd.isnull(procedureDF['death_date']) , 'death'] = 0\n",
    "procedureDF.loc[pd.isnull(procedureDF['death_date'])==False , 'death'] = 1"
   ]
  },
  {
   "cell_type": "code",
   "execution_count": 5,
   "metadata": {},
   "outputs": [],
   "source": [
    "deathdrop=['death_date','death_datetime','death_type_concept_id','cause_source_concept_id']\n",
    "procedureDF=procedureDF.drop(columns=deathdrop)"
   ]
  },
  {
   "cell_type": "code",
   "execution_count": 6,
   "metadata": {},
   "outputs": [],
   "source": [
    "procedureDF['procedure_datetime']=pd.to_datetime(procedureDF['procedure_datetime'])"
   ]
  },
  {
   "cell_type": "code",
   "execution_count": 7,
   "metadata": {},
   "outputs": [
    {
     "data": {
      "text/html": [
       "<div>\n",
       "<style scoped>\n",
       "    .dataframe tbody tr th:only-of-type {\n",
       "        vertical-align: middle;\n",
       "    }\n",
       "\n",
       "    .dataframe tbody tr th {\n",
       "        vertical-align: top;\n",
       "    }\n",
       "\n",
       "    .dataframe thead th {\n",
       "        text-align: right;\n",
       "    }\n",
       "</style>\n",
       "<table border=\"1\" class=\"dataframe\">\n",
       "  <thead>\n",
       "    <tr style=\"text-align: right;\">\n",
       "      <th></th>\n",
       "      <th>column_name</th>\n",
       "      <th>percent_missing</th>\n",
       "    </tr>\n",
       "  </thead>\n",
       "  <tbody>\n",
       "    <tr>\n",
       "      <th>person_id</th>\n",
       "      <td>person_id</td>\n",
       "      <td>0.000000</td>\n",
       "    </tr>\n",
       "    <tr>\n",
       "      <th>visit_occurrence_id</th>\n",
       "      <td>visit_occurrence_id</td>\n",
       "      <td>0.000026</td>\n",
       "    </tr>\n",
       "    <tr>\n",
       "      <th>year_of_birth</th>\n",
       "      <td>year_of_birth</td>\n",
       "      <td>0.000000</td>\n",
       "    </tr>\n",
       "    <tr>\n",
       "      <th>ethnicity_concept_id</th>\n",
       "      <td>ethnicity_concept_id</td>\n",
       "      <td>0.000000</td>\n",
       "    </tr>\n",
       "    <tr>\n",
       "      <th>month_of_birth</th>\n",
       "      <td>month_of_birth</td>\n",
       "      <td>0.000000</td>\n",
       "    </tr>\n",
       "    <tr>\n",
       "      <th>day_of_birth</th>\n",
       "      <td>day_of_birth</td>\n",
       "      <td>0.000000</td>\n",
       "    </tr>\n",
       "    <tr>\n",
       "      <th>race_concept_id</th>\n",
       "      <td>race_concept_id</td>\n",
       "      <td>14.449761</td>\n",
       "    </tr>\n",
       "    <tr>\n",
       "      <th>gender_concept_id</th>\n",
       "      <td>gender_concept_id</td>\n",
       "      <td>0.000000</td>\n",
       "    </tr>\n",
       "    <tr>\n",
       "      <th>visit_concept_id</th>\n",
       "      <td>visit_concept_id</td>\n",
       "      <td>0.000026</td>\n",
       "    </tr>\n",
       "    <tr>\n",
       "      <th>visit_type_concept_id</th>\n",
       "      <td>visit_type_concept_id</td>\n",
       "      <td>0.000026</td>\n",
       "    </tr>\n",
       "    <tr>\n",
       "      <th>procedure_datetime</th>\n",
       "      <td>procedure_datetime</td>\n",
       "      <td>10.067564</td>\n",
       "    </tr>\n",
       "    <tr>\n",
       "      <th>procedure_concept_id</th>\n",
       "      <td>procedure_concept_id</td>\n",
       "      <td>10.035120</td>\n",
       "    </tr>\n",
       "    <tr>\n",
       "      <th>procedure_occurrence_id</th>\n",
       "      <td>procedure_occurrence_id</td>\n",
       "      <td>10.035120</td>\n",
       "    </tr>\n",
       "    <tr>\n",
       "      <th>death</th>\n",
       "      <td>death</td>\n",
       "      <td>0.000000</td>\n",
       "    </tr>\n",
       "  </tbody>\n",
       "</table>\n",
       "</div>"
      ],
      "text/plain": [
       "                                     column_name  percent_missing\n",
       "person_id                              person_id         0.000000\n",
       "visit_occurrence_id          visit_occurrence_id         0.000026\n",
       "year_of_birth                      year_of_birth         0.000000\n",
       "ethnicity_concept_id        ethnicity_concept_id         0.000000\n",
       "month_of_birth                    month_of_birth         0.000000\n",
       "day_of_birth                        day_of_birth         0.000000\n",
       "race_concept_id                  race_concept_id        14.449761\n",
       "gender_concept_id              gender_concept_id         0.000000\n",
       "visit_concept_id                visit_concept_id         0.000026\n",
       "visit_type_concept_id      visit_type_concept_id         0.000026\n",
       "procedure_datetime            procedure_datetime        10.067564\n",
       "procedure_concept_id        procedure_concept_id        10.035120\n",
       "procedure_occurrence_id  procedure_occurrence_id        10.035120\n",
       "death                                      death         0.000000"
      ]
     },
     "execution_count": 7,
     "metadata": {},
     "output_type": "execute_result"
    }
   ],
   "source": [
    "percent_missing = procedureDF.isnull().sum() * 100 / len(procedureDF)\n",
    "missing_value_df = pd.DataFrame({'column_name': procedureDF.columns,\n",
    "                                 'percent_missing': percent_missing})\n",
    "missing_value_df"
   ]
  },
  {
   "cell_type": "code",
   "execution_count": 8,
   "metadata": {},
   "outputs": [],
   "source": [
    "categorical= ['person_id','visit_occurrence_id','ethnicity_concept_id','race_concept_id','gender_concept_id',\n",
    "             'visit_concept_id','visit_type_concept_id','procedure_concept_id','procedure_occurrence_id']\n",
    "for col in categorical:\n",
    "    procedureDF[col] = procedureDF[col].astype('object')\n",
    "procedureDF['death'] = procedureDF['death'].astype(int)"
   ]
  },
  {
   "cell_type": "code",
   "execution_count": 9,
   "metadata": {},
   "outputs": [
    {
     "data": {
      "text/plain": [
       "person_id                    97918\n",
       "visit_occurrence_id         943947\n",
       "ethnicity_concept_id             2\n",
       "race_concept_id                  6\n",
       "gender_concept_id                2\n",
       "visit_concept_id                 3\n",
       "visit_type_concept_id            1\n",
       "procedure_concept_id          6943\n",
       "procedure_occurrence_id    4695626\n",
       "dtype: int64"
      ]
     },
     "execution_count": 9,
     "metadata": {},
     "output_type": "execute_result"
    }
   ],
   "source": [
    "procedureDF.select_dtypes('object').apply(pd.Series.nunique, axis = 0)"
   ]
  },
  {
   "cell_type": "code",
   "execution_count": 10,
   "metadata": {},
   "outputs": [
    {
     "name": "stdout",
     "output_type": "stream",
     "text": [
      "2014-05-15 08:44:57.258833920\n",
      "2014-05-17 06:28:05.457545984\n"
     ]
    }
   ],
   "source": [
    "timeforalive=pd.to_datetime(procedureDF[procedureDF['death']==0].procedure_datetime.dropna().astype(np.int64).mean())\n",
    "timefordeath=pd.to_datetime(procedureDF[procedureDF['death']==1].procedure_datetime.dropna().astype(np.int64).mean())\n",
    "print(timeforalive)\n",
    "print(timefordeath)"
   ]
  },
  {
   "cell_type": "code",
   "execution_count": 11,
   "metadata": {},
   "outputs": [],
   "source": [
    "from scipy.stats import chi2_contingency\n",
    "\n",
    "def chisq_of_df_cols(df, c1, c2):\n",
    "    groupsizes = df.groupby([c1, c2]).size()\n",
    "    ctsum = groupsizes.unstack(c1)\n",
    "    # fillna(0) is necessary to remove any NAs which will cause exceptions\n",
    "    return(chi2_contingency(ctsum.fillna(0)))"
   ]
  },
  {
   "cell_type": "code",
   "execution_count": 12,
   "metadata": {},
   "outputs": [
    {
     "data": {
      "text/plain": [
       "(6995.1070085136125,\n",
       " 0.32447645217002186,\n",
       " 6942,\n",
       " array([[2.12412449e+05, 9.89612701e-01, 9.89612701e-01, ...,\n",
       "         8.11482415e+01, 3.95845081e+01, 5.73975367e+01],\n",
       "        [2.22955054e+03, 1.03872986e-02, 1.03872986e-02, ...,\n",
       "         8.51758483e-01, 4.15491943e-01, 6.02463317e-01]]))"
      ]
     },
     "execution_count": 12,
     "metadata": {},
     "output_type": "execute_result"
    }
   ],
   "source": [
    "chisq_of_df_cols(procedureDF, 'procedure_concept_id', 'death')"
   ]
  },
  {
   "cell_type": "code",
   "execution_count": null,
   "metadata": {},
   "outputs": [],
   "source": []
  }
 ],
 "metadata": {
  "kernelspec": {
   "display_name": "Python 3",
   "language": "python",
   "name": "python3"
  },
  "language_info": {
   "codemirror_mode": {
    "name": "ipython",
    "version": 3
   },
   "file_extension": ".py",
   "mimetype": "text/x-python",
   "name": "python",
   "nbconvert_exporter": "python",
   "pygments_lexer": "ipython3",
   "version": "3.7.3"
  }
 },
 "nbformat": 4,
 "nbformat_minor": 2
}
