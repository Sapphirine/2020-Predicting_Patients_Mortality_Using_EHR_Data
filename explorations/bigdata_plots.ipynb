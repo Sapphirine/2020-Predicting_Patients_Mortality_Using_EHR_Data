{
  "nbformat": 4,
  "nbformat_minor": 0,
  "metadata": {
    "colab": {
      "name": "bigdata_plots.ipynb",
      "provenance": [],
      "collapsed_sections": []
    },
    "kernelspec": {
      "name": "python3",
      "display_name": "Python 3"
    },
    "accelerator": "GPU"
  },
  "cells": [
    {
      "cell_type": "code",
      "metadata": {
        "id": "zeIK3NwO0GIN",
        "colab_type": "code",
        "colab": {}
      },
      "source": [
        "import pandas as pd\n",
        "import matplotlib.pyplot as plt\n",
        "import seaborn as sns\n",
        "import numpy as np"
      ],
      "execution_count": 0,
      "outputs": []
    },
    {
      "cell_type": "code",
      "metadata": {
        "id": "LaDYyYLO1Ajf",
        "colab_type": "code",
        "outputId": "86e4300d-2d9d-42e8-d0b5-420528249e35",
        "colab": {
          "base_uri": "https://localhost:8080/",
          "height": 127
        }
      },
      "source": [
        "from google.colab import drive\n",
        "drive.mount('/content/gdrive')"
      ],
      "execution_count": 0,
      "outputs": [
        {
          "output_type": "stream",
          "text": [
            "Go to this URL in a browser: https://accounts.google.com/o/oauth2/auth?client_id=947318989803-6bn6qk8qdgf4n4g3pfee6491hc0brc4i.apps.googleusercontent.com&redirect_uri=urn%3aietf%3awg%3aoauth%3a2.0%3aoob&response_type=code&scope=email%20https%3a%2f%2fwww.googleapis.com%2fauth%2fdocs.test%20https%3a%2f%2fwww.googleapis.com%2fauth%2fdrive%20https%3a%2f%2fwww.googleapis.com%2fauth%2fdrive.photos.readonly%20https%3a%2f%2fwww.googleapis.com%2fauth%2fpeopleapi.readonly\n",
            "\n",
            "Enter your authorization code:\n",
            "··········\n",
            "Mounted at /content/gdrive\n"
          ],
          "name": "stdout"
        }
      ]
    },
    {
      "cell_type": "code",
      "metadata": {
        "id": "YmC9IrdL1Fqm",
        "colab_type": "code",
        "colab": {}
      },
      "source": [
        "import os, shutil"
      ],
      "execution_count": 0,
      "outputs": []
    },
    {
      "cell_type": "code",
      "metadata": {
        "id": "hhGUkGHP1HDM",
        "colab_type": "code",
        "colab": {}
      },
      "source": [
        "df = pd.read_csv('gdrive/My Drive/bigdata/df_final4.csv')"
      ],
      "execution_count": 0,
      "outputs": []
    },
    {
      "cell_type": "code",
      "metadata": {
        "id": "BURVvxqy2dj7",
        "colab_type": "code",
        "outputId": "5520b623-813f-4d8f-bd33-d1fa2d6e401d",
        "colab": {
          "base_uri": "https://localhost:8080/",
          "height": 481
        }
      },
      "source": [
        "df.head(5)"
      ],
      "execution_count": 0,
      "outputs": [
        {
          "output_type": "execute_result",
          "data": {
            "text/html": [
              "<div>\n",
              "<style scoped>\n",
              "    .dataframe tbody tr th:only-of-type {\n",
              "        vertical-align: middle;\n",
              "    }\n",
              "\n",
              "    .dataframe tbody tr th {\n",
              "        vertical-align: top;\n",
              "    }\n",
              "\n",
              "    .dataframe thead th {\n",
              "        text-align: right;\n",
              "    }\n",
              "</style>\n",
              "<table border=\"1\" class=\"dataframe\">\n",
              "  <thead>\n",
              "    <tr style=\"text-align: right;\">\n",
              "      <th></th>\n",
              "      <th>Unnamed: 0</th>\n",
              "      <th>Unnamed: 0.1</th>\n",
              "      <th>person_id</th>\n",
              "      <th>year_of_birth</th>\n",
              "      <th>gender_concept_id</th>\n",
              "      <th>ethnicity_concept_id</th>\n",
              "      <th>race_concept_id</th>\n",
              "      <th>death_type_concept_id</th>\n",
              "      <th>death</th>\n",
              "      <th>basic_metabolic_panel</th>\n",
              "      <th>compreh_metabolic_panel</th>\n",
              "      <th>lipid_panel</th>\n",
              "      <th>hepatic_func_panel</th>\n",
              "      <th>Urinalysis_with_microscopy</th>\n",
              "      <th>Urinalysis_without_microscopy</th>\n",
              "      <th>Creatine kinase (CK), (CPK); total</th>\n",
              "      <th>Creatinine; blood</th>\n",
              "      <th>Hemoglobin; glycosylated (A1C)</th>\n",
              "      <th>Iron</th>\n",
              "      <th>Prostate specific antigen (PSA); total</th>\n",
              "      <th>Thyroid stimulating hormone (TSH)</th>\n",
              "      <th>Blood count; complete (CBC), automated (Hgb, Hct, RBC, WBC and platelet count) and automated differential WBC count</th>\n",
              "      <th>Blood count; complete (CBC), automated (Hgb, Hct, RBC, WBC and platelet count)</th>\n",
              "      <th>Prothrombin time</th>\n",
              "      <th>Culture, bacterial; quantitative colony count, urine</th>\n",
              "      <th>Electrocardiogram, routine ECG with at least 12 leads; with interpretation and report</th>\n",
              "      <th>Electrocardiogram, routine ECG with at least 12 leads; tracing only, without interpretation and report</th>\n",
              "      <th>Electrocardiogram, routine ECG with at least 12 leads; interpretation and report only</th>\n",
              "      <th>Type II diabetes mellitus uncontrolled</th>\n",
              "      <th>drug_num</th>\n",
              "      <th>0.0</th>\n",
              "      <th>Walking disability</th>\n",
              "      <th>Diabetic on insulin</th>\n",
              "      <th>High risk drug monitoring status</th>\n",
              "      <th>Ground mileage, per statute mile</th>\n",
              "      <th>Ambulance service, advanced life support, emergency transport, level 1 (als 1 - emergency)</th>\n",
              "      <th>Ambulance service, basic life support, non-emergency transport, (bls)</th>\n",
              "      <th>Ambulance service, basic life support, emergency transport (bls-emergency)</th>\n",
              "      <th>Low osmolar contrast material, 300-399 mg/ml iodine concentration, per ml</th>\n",
              "      <th>Vaccine required</th>\n",
              "      <th>Postoperative care</th>\n",
              "      <th>H/O: artificial joint</th>\n",
              "      <th>History of renal transplant</th>\n",
              "      <th>H/O: artificial eye lens</th>\n",
              "      <th>H/O: artificial heart valve</th>\n",
              "      <th>Dialysis finding</th>\n",
              "      <th>Family history of clinical finding</th>\n",
              "      <th>Aftercare</th>\n",
              "      <th>History of clinical finding in subject</th>\n",
              "      <th>Cardiac pacemaker in situ</th>\n",
              "      <th>condition_num</th>\n",
              "      <th>condition_type_concept_id</th>\n",
              "      <th>procedure_num</th>\n",
              "    </tr>\n",
              "  </thead>\n",
              "  <tbody>\n",
              "    <tr>\n",
              "      <th>0</th>\n",
              "      <td>0</td>\n",
              "      <td>0</td>\n",
              "      <td>0</td>\n",
              "      <td>1923</td>\n",
              "      <td>male</td>\n",
              "      <td>Not Hispanic or latino</td>\n",
              "      <td>Unknown</td>\n",
              "      <td>Unknown</td>\n",
              "      <td>0</td>\n",
              "      <td>none</td>\n",
              "      <td>none</td>\n",
              "      <td>none</td>\n",
              "      <td>none</td>\n",
              "      <td>none</td>\n",
              "      <td>none</td>\n",
              "      <td>none</td>\n",
              "      <td>none</td>\n",
              "      <td>none</td>\n",
              "      <td>none</td>\n",
              "      <td>none</td>\n",
              "      <td>none</td>\n",
              "      <td>none</td>\n",
              "      <td>none</td>\n",
              "      <td>220.0</td>\n",
              "      <td>none</td>\n",
              "      <td>none</td>\n",
              "      <td>none</td>\n",
              "      <td>none</td>\n",
              "      <td>none</td>\n",
              "      <td>1.0</td>\n",
              "      <td>0.0</td>\n",
              "      <td>0.0</td>\n",
              "      <td>0.0</td>\n",
              "      <td>1.0</td>\n",
              "      <td>0.0</td>\n",
              "      <td>0.0</td>\n",
              "      <td>0.0</td>\n",
              "      <td>0.0</td>\n",
              "      <td>0.0</td>\n",
              "      <td>0.0</td>\n",
              "      <td>0.0</td>\n",
              "      <td>1.0</td>\n",
              "      <td>0.0</td>\n",
              "      <td>1.0</td>\n",
              "      <td>0.0</td>\n",
              "      <td>0.0</td>\n",
              "      <td>0.0</td>\n",
              "      <td>0.0</td>\n",
              "      <td>1.0</td>\n",
              "      <td>0.0</td>\n",
              "      <td>1</td>\n",
              "      <td>Outpatient header - 1st position</td>\n",
              "      <td>1.0</td>\n",
              "    </tr>\n",
              "    <tr>\n",
              "      <th>1</th>\n",
              "      <td>1</td>\n",
              "      <td>1</td>\n",
              "      <td>10</td>\n",
              "      <td>1936</td>\n",
              "      <td>female</td>\n",
              "      <td>Not Hispanic or latino</td>\n",
              "      <td>Unknown</td>\n",
              "      <td>Unknown</td>\n",
              "      <td>0</td>\n",
              "      <td>266.0</td>\n",
              "      <td>206.0</td>\n",
              "      <td>266.0</td>\n",
              "      <td>83.0</td>\n",
              "      <td>none</td>\n",
              "      <td>none</td>\n",
              "      <td>12.0</td>\n",
              "      <td>none</td>\n",
              "      <td>10000000.0</td>\n",
              "      <td>223.0</td>\n",
              "      <td>3.0</td>\n",
              "      <td>272.0</td>\n",
              "      <td>155.0</td>\n",
              "      <td>134.0</td>\n",
              "      <td>26.0</td>\n",
              "      <td>44.0</td>\n",
              "      <td>237.0</td>\n",
              "      <td>none</td>\n",
              "      <td>173.0</td>\n",
              "      <td>20.0</td>\n",
              "      <td>1.0</td>\n",
              "      <td>0.0</td>\n",
              "      <td>0.0</td>\n",
              "      <td>0.0</td>\n",
              "      <td>0.0</td>\n",
              "      <td>0.0</td>\n",
              "      <td>0.0</td>\n",
              "      <td>0.0</td>\n",
              "      <td>0.0</td>\n",
              "      <td>0.0</td>\n",
              "      <td>0.0</td>\n",
              "      <td>0.0</td>\n",
              "      <td>0.0</td>\n",
              "      <td>0.0</td>\n",
              "      <td>0.0</td>\n",
              "      <td>0.0</td>\n",
              "      <td>0.0</td>\n",
              "      <td>0.0</td>\n",
              "      <td>0.0</td>\n",
              "      <td>0.0</td>\n",
              "      <td>0.0</td>\n",
              "      <td>1</td>\n",
              "      <td>Outpatient header - 1st position</td>\n",
              "      <td>3.0</td>\n",
              "    </tr>\n",
              "    <tr>\n",
              "      <th>2</th>\n",
              "      <td>2</td>\n",
              "      <td>2</td>\n",
              "      <td>100</td>\n",
              "      <td>1943</td>\n",
              "      <td>female</td>\n",
              "      <td>Not Hispanic or latino</td>\n",
              "      <td>Unknown</td>\n",
              "      <td>Unknown</td>\n",
              "      <td>0</td>\n",
              "      <td>301.0</td>\n",
              "      <td>none</td>\n",
              "      <td>210.0</td>\n",
              "      <td>none</td>\n",
              "      <td>148.0</td>\n",
              "      <td>none</td>\n",
              "      <td>none</td>\n",
              "      <td>none</td>\n",
              "      <td>none</td>\n",
              "      <td>none</td>\n",
              "      <td>none</td>\n",
              "      <td>none</td>\n",
              "      <td>none</td>\n",
              "      <td>none</td>\n",
              "      <td>none</td>\n",
              "      <td>none</td>\n",
              "      <td>none</td>\n",
              "      <td>none</td>\n",
              "      <td>21.0</td>\n",
              "      <td>none</td>\n",
              "      <td>5.0</td>\n",
              "      <td>0.0</td>\n",
              "      <td>0.0</td>\n",
              "      <td>0.0</td>\n",
              "      <td>0.0</td>\n",
              "      <td>0.0</td>\n",
              "      <td>0.0</td>\n",
              "      <td>0.0</td>\n",
              "      <td>0.0</td>\n",
              "      <td>0.0</td>\n",
              "      <td>0.0</td>\n",
              "      <td>0.0</td>\n",
              "      <td>0.0</td>\n",
              "      <td>0.0</td>\n",
              "      <td>0.0</td>\n",
              "      <td>0.0</td>\n",
              "      <td>0.0</td>\n",
              "      <td>0.0</td>\n",
              "      <td>0.0</td>\n",
              "      <td>0.0</td>\n",
              "      <td>0.0</td>\n",
              "      <td>1</td>\n",
              "      <td>Outpatient header - 1st position</td>\n",
              "      <td>150.0</td>\n",
              "    </tr>\n",
              "    <tr>\n",
              "      <th>3</th>\n",
              "      <td>3</td>\n",
              "      <td>3</td>\n",
              "      <td>100001</td>\n",
              "      <td>1947</td>\n",
              "      <td>male</td>\n",
              "      <td>Not Hispanic or latino</td>\n",
              "      <td>American Indian or Alaska Native</td>\n",
              "      <td>Unknown</td>\n",
              "      <td>0</td>\n",
              "      <td>none</td>\n",
              "      <td>171.0</td>\n",
              "      <td>244.0</td>\n",
              "      <td>none</td>\n",
              "      <td>none</td>\n",
              "      <td>none</td>\n",
              "      <td>none</td>\n",
              "      <td>none</td>\n",
              "      <td>none</td>\n",
              "      <td>none</td>\n",
              "      <td>none</td>\n",
              "      <td>244.0</td>\n",
              "      <td>299.0</td>\n",
              "      <td>none</td>\n",
              "      <td>290.0</td>\n",
              "      <td>none</td>\n",
              "      <td>9.0</td>\n",
              "      <td>135.0</td>\n",
              "      <td>134.0</td>\n",
              "      <td>none</td>\n",
              "      <td>1.0</td>\n",
              "      <td>1.0</td>\n",
              "      <td>1.0</td>\n",
              "      <td>1.0</td>\n",
              "      <td>1.0</td>\n",
              "      <td>1.0</td>\n",
              "      <td>1.0</td>\n",
              "      <td>1.0</td>\n",
              "      <td>1.0</td>\n",
              "      <td>1.0</td>\n",
              "      <td>1.0</td>\n",
              "      <td>1.0</td>\n",
              "      <td>1.0</td>\n",
              "      <td>1.0</td>\n",
              "      <td>0.0</td>\n",
              "      <td>0.0</td>\n",
              "      <td>0.0</td>\n",
              "      <td>1.0</td>\n",
              "      <td>1.0</td>\n",
              "      <td>1.0</td>\n",
              "      <td>1.0</td>\n",
              "      <td>75</td>\n",
              "      <td>Outpatient header - 1st position</td>\n",
              "      <td>150.0</td>\n",
              "    </tr>\n",
              "    <tr>\n",
              "      <th>4</th>\n",
              "      <td>4</td>\n",
              "      <td>4</td>\n",
              "      <td>100003</td>\n",
              "      <td>1936</td>\n",
              "      <td>female</td>\n",
              "      <td>Not Hispanic or latino</td>\n",
              "      <td>White</td>\n",
              "      <td>Unknown</td>\n",
              "      <td>0</td>\n",
              "      <td>none</td>\n",
              "      <td>none</td>\n",
              "      <td>196.0</td>\n",
              "      <td>none</td>\n",
              "      <td>none</td>\n",
              "      <td>none</td>\n",
              "      <td>none</td>\n",
              "      <td>none</td>\n",
              "      <td>none</td>\n",
              "      <td>none</td>\n",
              "      <td>none</td>\n",
              "      <td>none</td>\n",
              "      <td>none</td>\n",
              "      <td>none</td>\n",
              "      <td>none</td>\n",
              "      <td>none</td>\n",
              "      <td>none</td>\n",
              "      <td>none</td>\n",
              "      <td>none</td>\n",
              "      <td>0.0</td>\n",
              "      <td>1.0</td>\n",
              "      <td>0.0</td>\n",
              "      <td>0.0</td>\n",
              "      <td>0.0</td>\n",
              "      <td>0.0</td>\n",
              "      <td>0.0</td>\n",
              "      <td>0.0</td>\n",
              "      <td>0.0</td>\n",
              "      <td>0.0</td>\n",
              "      <td>0.0</td>\n",
              "      <td>0.0</td>\n",
              "      <td>0.0</td>\n",
              "      <td>0.0</td>\n",
              "      <td>0.0</td>\n",
              "      <td>0.0</td>\n",
              "      <td>0.0</td>\n",
              "      <td>0.0</td>\n",
              "      <td>0.0</td>\n",
              "      <td>0.0</td>\n",
              "      <td>0.0</td>\n",
              "      <td>0.0</td>\n",
              "      <td>55</td>\n",
              "      <td>Outpatient header - 1st position</td>\n",
              "      <td>1.0</td>\n",
              "    </tr>\n",
              "  </tbody>\n",
              "</table>\n",
              "</div>"
            ],
            "text/plain": [
              "   Unnamed: 0  Unnamed: 0.1  ...         condition_type_concept_id  procedure_num\n",
              "0           0             0  ...  Outpatient header - 1st position            1.0\n",
              "1           1             1  ...  Outpatient header - 1st position            3.0\n",
              "2           2             2  ...  Outpatient header - 1st position          150.0\n",
              "3           3             3  ...  Outpatient header - 1st position          150.0\n",
              "4           4             4  ...  Outpatient header - 1st position            1.0\n",
              "\n",
              "[5 rows x 53 columns]"
            ]
          },
          "metadata": {
            "tags": []
          },
          "execution_count": 5
        }
      ]
    },
    {
      "cell_type": "code",
      "metadata": {
        "id": "jKzVwqhR2kuz",
        "colab_type": "code",
        "outputId": "ce4a85dd-f0f0-4ee9-ba80-92868c0261b3",
        "colab": {
          "base_uri": "https://localhost:8080/",
          "height": 297
        }
      },
      "source": [
        "# Usual boxplot\n",
        "#fact 1 -- whether there is diff between num of conditions and death\n",
        "#df1 = df[df['drug_num']< 100]\n",
        "sns.boxplot( x=df[\"death\"], y=df[\"drug_num\"], palette=\"Blues\")\n"
      ],
      "execution_count": 0,
      "outputs": [
        {
          "output_type": "execute_result",
          "data": {
            "text/plain": [
              "<matplotlib.axes._subplots.AxesSubplot at 0x7fdf1263a908>"
            ]
          },
          "metadata": {
            "tags": []
          },
          "execution_count": 10
        },
        {
          "output_type": "display_data",
          "data": {
            "image/png": "[encoded data removed]",
            "text/plain": [
              "<Figure size 432x288 with 1 Axes>"
            ]
          },
          "metadata": {
            "tags": []
          }
        }
      ]
    },
    {
      "cell_type": "code",
      "metadata": {
        "id": "A_2zLarqm5u-",
        "colab_type": "code",
        "colab": {}
      },
      "source": [
        "numeric = ['year_of_birth', 'basic_metabolic_panel', 'compreh_metabolic_panel', 'lipid_panel','Hemoglobin; glycosylated (A1C)','Thyroid stimulating hormone (TSH)','Blood count; complete (CBC), automated (Hgb, Hct, RBC, WBC and platelet count) and automated differential WBC count','Prothrombin time', 'Electrocardiogram, routine ECG with at least 12 leads; interpretation and report only','Type II diabetes mellitus uncontrolled','drug_num','condition_num', 'procedure_num']\n",
        "df = df.replace(to_replace = 'none', value = np.nan) \n",
        "df[numeric] = df[numeric].apply(pd.to_numeric)"
      ],
      "execution_count": 0,
      "outputs": []
    },
    {
      "cell_type": "code",
      "metadata": {
        "id": "X-YWizRsV1Bg",
        "colab_type": "code",
        "outputId": "6c9a5211-98a8-4bf0-98ab-efe64abb194e",
        "colab": {
          "base_uri": "https://localhost:8080/",
          "height": 1000
        }
      },
      "source": [
        "# with regression\n",
        "sns.pairplot(df[['year_of_birth', 'condition_num', 'procedure_num']], kind=\"reg\")\n",
        "plt.show()\n",
        " \n",
        "# without regression\n",
        "sns.pairplot(df[['year_of_birth', 'condition_num', 'procedure_num']], kind=\"scatter\")\n",
        "plt.show()\n"
      ],
      "execution_count": 0,
      "outputs": [
        {
          "output_type": "display_data",
          "data": {
            "image/png": "[encoded data removed]",
            "text/plain": [
              "<Figure size 540x540 with 12 Axes>"
            ]
          },
          "metadata": {
            "tags": []
          }
        },
        {
          "output_type": "display_data",
          "data": {
            "image/png": "[encoded data removed]",
            "text/plain": [
              "<Figure size 540x540 with 12 Axes>"
            ]
          },
          "metadata": {
            "tags": []
          }
        }
      ]
    },
    {
      "cell_type": "code",
      "metadata": {
        "id": "LpDXK5fI8Ve-",
        "colab_type": "code",
        "outputId": "f87e05f0-b141-43bf-d01b-184e5580e0df",
        "colab": {
          "base_uri": "https://localhost:8080/",
          "height": 141
        }
      },
      "source": [
        "## fact2 -- death rate between genders\n",
        "# Age information into a separate dataframe\n",
        "gender_data = df[['death', 'gender_concept_id']]\n",
        "\n",
        "# Bin the age data\n",
        "gender_groups  = gender_data.groupby('gender_concept_id').mean()\n",
        "gender_groups"
      ],
      "execution_count": 0,
      "outputs": [
        {
          "output_type": "execute_result",
          "data": {
            "text/html": [
              "<div>\n",
              "<style scoped>\n",
              "    .dataframe tbody tr th:only-of-type {\n",
              "        vertical-align: middle;\n",
              "    }\n",
              "\n",
              "    .dataframe tbody tr th {\n",
              "        vertical-align: top;\n",
              "    }\n",
              "\n",
              "    .dataframe thead th {\n",
              "        text-align: right;\n",
              "    }\n",
              "</style>\n",
              "<table border=\"1\" class=\"dataframe\">\n",
              "  <thead>\n",
              "    <tr style=\"text-align: right;\">\n",
              "      <th></th>\n",
              "      <th>death</th>\n",
              "    </tr>\n",
              "    <tr>\n",
              "      <th>gender_concept_id</th>\n",
              "      <th></th>\n",
              "    </tr>\n",
              "  </thead>\n",
              "  <tbody>\n",
              "    <tr>\n",
              "      <th>female</th>\n",
              "      <td>0.011751</td>\n",
              "    </tr>\n",
              "    <tr>\n",
              "      <th>male</th>\n",
              "      <td>0.010908</td>\n",
              "    </tr>\n",
              "  </tbody>\n",
              "</table>\n",
              "</div>"
            ],
            "text/plain": [
              "                      death\n",
              "gender_concept_id          \n",
              "female             0.011751\n",
              "male               0.010908"
            ]
          },
          "metadata": {
            "tags": []
          },
          "execution_count": 32
        }
      ]
    },
    {
      "cell_type": "code",
      "metadata": {
        "id": "8jKKOWbo8x-u",
        "colab_type": "code",
        "colab": {}
      },
      "source": [
        "##fact3 -- does death happen related to race?\n",
        "#df2 = df[df['race_concept_id']!='Unknown']\n",
        "df2 = df\n",
        "#pd.DataFrame({'Percentage': df.groupby(('race_concept_id', 'death')).size() / len(df)})\n",
        "df2 = df.groupby('race_concept_id')['death'].sum()\n",
        "df3 = df.groupby('race_concept_id')['death'].size()\n"
      ],
      "execution_count": 0,
      "outputs": []
    },
    {
      "cell_type": "code",
      "metadata": {
        "id": "wMPbD2kDDD_a",
        "colab_type": "code",
        "outputId": "84768ac0-c32a-4719-c2dd-5985db8c50c5",
        "colab": {
          "base_uri": "https://localhost:8080/",
          "height": 264
        }
      },
      "source": [
        "pd.DataFrame({'death_rate': df2/df3})"
      ],
      "execution_count": 0,
      "outputs": [
        {
          "output_type": "execute_result",
          "data": {
            "text/html": [
              "<div>\n",
              "<style scoped>\n",
              "    .dataframe tbody tr th:only-of-type {\n",
              "        vertical-align: middle;\n",
              "    }\n",
              "\n",
              "    .dataframe tbody tr th {\n",
              "        vertical-align: top;\n",
              "    }\n",
              "\n",
              "    .dataframe thead th {\n",
              "        text-align: right;\n",
              "    }\n",
              "</style>\n",
              "<table border=\"1\" class=\"dataframe\">\n",
              "  <thead>\n",
              "    <tr style=\"text-align: right;\">\n",
              "      <th></th>\n",
              "      <th>death_rate</th>\n",
              "    </tr>\n",
              "    <tr>\n",
              "      <th>race_concept_id</th>\n",
              "      <th></th>\n",
              "    </tr>\n",
              "  </thead>\n",
              "  <tbody>\n",
              "    <tr>\n",
              "      <th>American Indian or Alaska Native</th>\n",
              "      <td>0.011587</td>\n",
              "    </tr>\n",
              "    <tr>\n",
              "      <th>Asian</th>\n",
              "      <td>0.010758</td>\n",
              "    </tr>\n",
              "    <tr>\n",
              "      <th>Black or African American</th>\n",
              "      <td>0.010169</td>\n",
              "    </tr>\n",
              "    <tr>\n",
              "      <th>Native Hawaiian or Other Pacific Islander</th>\n",
              "      <td>0.011105</td>\n",
              "    </tr>\n",
              "    <tr>\n",
              "      <th>Unknown</th>\n",
              "      <td>0.011250</td>\n",
              "    </tr>\n",
              "    <tr>\n",
              "      <th>White</th>\n",
              "      <td>0.012653</td>\n",
              "    </tr>\n",
              "  </tbody>\n",
              "</table>\n",
              "</div>"
            ],
            "text/plain": [
              "                                           death_rate\n",
              "race_concept_id                                      \n",
              "American Indian or Alaska Native             0.011587\n",
              "Asian                                        0.010758\n",
              "Black or African American                    0.010169\n",
              "Native Hawaiian or Other Pacific Islander    0.011105\n",
              "Unknown                                      0.011250\n",
              "White                                        0.012653"
            ]
          },
          "metadata": {
            "tags": []
          },
          "execution_count": 31
        }
      ]
    },
    {
      "cell_type": "code",
      "metadata": {
        "id": "BKz1T9tNfT4S",
        "colab_type": "code",
        "outputId": "e10ae8af-3df5-49fe-b312-d2738c6ac90f",
        "colab": {
          "base_uri": "https://localhost:8080/",
          "height": 89
        }
      },
      "source": [
        "df2.index"
      ],
      "execution_count": 0,
      "outputs": [
        {
          "output_type": "execute_result",
          "data": {
            "text/plain": [
              "Index(['American Indian or Alaska Native', 'Asian',\n",
              "       'Black or African American',\n",
              "       'Native Hawaiian or Other Pacific Islander', 'Unknown', 'White'],\n",
              "      dtype='object', name='race_concept_id')"
            ]
          },
          "metadata": {
            "tags": []
          },
          "execution_count": 29
        }
      ]
    },
    {
      "cell_type": "code",
      "metadata": {
        "id": "frCnqOMTl1SG",
        "colab_type": "code",
        "outputId": "878d6175-f295-4dd3-f87d-b9ce5f067481",
        "colab": {
          "base_uri": "https://localhost:8080/",
          "height": 141
        }
      },
      "source": [
        "df.groupby('death')[['condition_num', 'procedure_num','drug_num', 'year_of_birth']].agg('mean')"
      ],
      "execution_count": 0,
      "outputs": [
        {
          "output_type": "execute_result",
          "data": {
            "text/html": [
              "<div>\n",
              "<style scoped>\n",
              "    .dataframe tbody tr th:only-of-type {\n",
              "        vertical-align: middle;\n",
              "    }\n",
              "\n",
              "    .dataframe tbody tr th {\n",
              "        vertical-align: top;\n",
              "    }\n",
              "\n",
              "    .dataframe thead th {\n",
              "        text-align: right;\n",
              "    }\n",
              "</style>\n",
              "<table border=\"1\" class=\"dataframe\">\n",
              "  <thead>\n",
              "    <tr style=\"text-align: right;\">\n",
              "      <th></th>\n",
              "      <th>condition_num</th>\n",
              "      <th>procedure_num</th>\n",
              "      <th>drug_num</th>\n",
              "      <th>year_of_birth</th>\n",
              "    </tr>\n",
              "    <tr>\n",
              "      <th>death</th>\n",
              "      <th></th>\n",
              "      <th></th>\n",
              "      <th></th>\n",
              "      <th></th>\n",
              "    </tr>\n",
              "  </thead>\n",
              "  <tbody>\n",
              "    <tr>\n",
              "      <th>0</th>\n",
              "      <td>8.512005</td>\n",
              "      <td>30.943399</td>\n",
              "      <td>2.033410</td>\n",
              "      <td>1936.220995</td>\n",
              "    </tr>\n",
              "    <tr>\n",
              "      <th>1</th>\n",
              "      <td>6.704918</td>\n",
              "      <td>26.422951</td>\n",
              "      <td>2.081967</td>\n",
              "      <td>1935.096175</td>\n",
              "    </tr>\n",
              "  </tbody>\n",
              "</table>\n",
              "</div>"
            ],
            "text/plain": [
              "       condition_num  procedure_num  drug_num  year_of_birth\n",
              "death                                                       \n",
              "0           8.512005      30.943399  2.033410    1936.220995\n",
              "1           6.704918      26.422951  2.081967    1935.096175"
            ]
          },
          "metadata": {
            "tags": []
          },
          "execution_count": 40
        }
      ]
    },
    {
      "cell_type": "code",
      "metadata": {
        "id": "PvfQE_ttOHkp",
        "colab_type": "code",
        "colab": {}
      },
      "source": [
        "percent_missing = df.isnull().sum() * 100 / len(df)\n",
        "missing_value_df = pd.DataFrame({'column_name': df.columns,\n",
        "                                 'percent_missing': percent_missing})\n",
        "missing_value_df"
      ],
      "execution_count": 0,
      "outputs": []
    }
  ]
}