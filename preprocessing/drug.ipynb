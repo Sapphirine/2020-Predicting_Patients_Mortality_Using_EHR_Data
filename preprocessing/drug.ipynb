{
  "nbformat": 4,
  "nbformat_minor": 0,
  "metadata": {
    "colab": {
      "name": "drug.ipynb",
      "provenance": [],
      "collapsed_sections": [],
      "toc_visible": true,
      "machine_shape": "hm"
    },
    "kernelspec": {
      "name": "python3",
      "display_name": "Python 3"
    },
    "accelerator": "GPU"
  },
  "cells": [
    {
      "cell_type": "markdown",
      "metadata": {
        "id": "A5XM2aZF2PeA",
        "colab_type": "text"
      },
      "source": [
        "## Data import"
      ]
    },
    {
      "cell_type": "code",
      "metadata": {
        "id": "oY9tOAdxokvk",
        "colab_type": "code",
        "colab": {}
      },
      "source": [
        "import pandas as pd\n",
        "import matplotlib.pyplot as plt\n",
        "import seaborn as sns\n",
        "import numpy as np"
      ],
      "execution_count": 0,
      "outputs": []
    },
    {
      "cell_type": "code",
      "metadata": {
        "id": "StTYlrIlqhSE",
        "colab_type": "code",
        "outputId": "808dea9e-1470-4e48-ad2b-1461f6d465ca",
        "colab": {
          "base_uri": "https://localhost:8080/",
          "height": 127
        }
      },
      "source": [
        "from google.colab import drive\n",
        "drive.mount('/content/gdrive')"
      ],
      "execution_count": 0,
      "outputs": [
        {
          "output_type": "stream",
          "text": [
            "Go to this URL in a browser: https://accounts.google.com/o/oauth2/auth?client_id=947318989803-6bn6qk8qdgf4n4g3pfee6491hc0brc4i.apps.googleusercontent.com&redirect_uri=urn%3aietf%3awg%3aoauth%3a2.0%3aoob&response_type=code&scope=email%20https%3a%2f%2fwww.googleapis.com%2fauth%2fdocs.test%20https%3a%2f%2fwww.googleapis.com%2fauth%2fdrive%20https%3a%2f%2fwww.googleapis.com%2fauth%2fdrive.photos.readonly%20https%3a%2f%2fwww.googleapis.com%2fauth%2fpeopleapi.readonly\n",
            "\n",
            "Enter your authorization code:\n",
            "··········\n",
            "Mounted at /content/gdrive\n"
          ],
          "name": "stdout"
        }
      ]
    },
    {
      "cell_type": "code",
      "metadata": {
        "id": "g3MHjCNpqNoz",
        "colab_type": "code",
        "outputId": "07b58412-66df-4a76-e64c-ea3282bfd784",
        "colab": {
          "base_uri": "https://localhost:8080/",
          "height": 395
        }
      },
      "source": [
        "import os, shutil\n",
        "!ls \"/content/gdrive/My Drive/\""
      ],
      "execution_count": 0,
      "outputs": [
        {
          "output_type": "stream",
          "text": [
            " 8-2.mov\n",
            " Bayesian\n",
            " bigdata\n",
            " bq-results-20190920-004228-5xi034liest1\n",
            " bq-results-20190920-012138-er5eg3s9lxkj\n",
            " bq-results-20190920-012622-6g3qu1tkjun8\n",
            " bq-results-20191112-190906-w6n93g514345\n",
            " CAMELYON16\n",
            " checkpoints\n",
            "'Chu Yu-resume.pdf'\n",
            "'Colab Notebooks'\n",
            "'data science final scratch.gdoc'\n",
            "'Download eTranscripts ordered from your school (Windows) (1).gdoc'\n",
            " drug.csv\n",
            "'epi assignment 5.gdoc'\n",
            " measure.csv\n",
            " my_model.h5\n",
            " observation.csv\n",
            "'Phar stats final SAP.gdoc'\n",
            " scudata\n",
            " sculpture\n"
          ],
          "name": "stdout"
        }
      ]
    },
    {
      "cell_type": "code",
      "metadata": {
        "id": "fYE48dTHqv1X",
        "colab_type": "code",
        "colab": {}
      },
      "source": [
        "drug_df_o = pd.read_csv('/content/gdrive/My Drive/drug.csv')"
      ],
      "execution_count": 0,
      "outputs": []
    },
    {
      "cell_type": "code",
      "metadata": {
        "id": "8rxMx0COsVqL",
        "colab_type": "code",
        "outputId": "ae5f2959-a2f8-4916-ff0d-8ffcca979fd4",
        "colab": {
          "base_uri": "https://localhost:8080/",
          "height": 309
        }
      },
      "source": [
        "drug_df_o.head(5)"
      ],
      "execution_count": 0,
      "outputs": [
        {
          "output_type": "execute_result",
          "data": {
            "text/html": [
              "<div>\n",
              "<style scoped>\n",
              "    .dataframe tbody tr th:only-of-type {\n",
              "        vertical-align: middle;\n",
              "    }\n",
              "\n",
              "    .dataframe tbody tr th {\n",
              "        vertical-align: top;\n",
              "    }\n",
              "\n",
              "    .dataframe thead th {\n",
              "        text-align: right;\n",
              "    }\n",
              "</style>\n",
              "<table border=\"1\" class=\"dataframe\">\n",
              "  <thead>\n",
              "    <tr style=\"text-align: right;\">\n",
              "      <th></th>\n",
              "      <th>person_id</th>\n",
              "      <th>visit_occurrence_id</th>\n",
              "      <th>year_of_birth</th>\n",
              "      <th>gender_source_value</th>\n",
              "      <th>ethnicity_concept_id</th>\n",
              "      <th>person_source_value</th>\n",
              "      <th>month_of_birth</th>\n",
              "      <th>day_of_birth</th>\n",
              "      <th>ethnicity_source_value</th>\n",
              "      <th>location_id</th>\n",
              "      <th>race_concept_id</th>\n",
              "      <th>gender_concept_id</th>\n",
              "      <th>birth_datetime</th>\n",
              "      <th>race_source_value</th>\n",
              "      <th>death_date</th>\n",
              "      <th>death_datetime</th>\n",
              "      <th>death_type_concept_id</th>\n",
              "      <th>cause_source_concept_id</th>\n",
              "      <th>provider_id</th>\n",
              "      <th>visit_start_date</th>\n",
              "      <th>care_site_id</th>\n",
              "      <th>visit_source_value</th>\n",
              "      <th>visit_end_date</th>\n",
              "      <th>visit_start_datetime</th>\n",
              "      <th>visit_concept_id</th>\n",
              "      <th>visit_type_concept_id</th>\n",
              "      <th>visit_end_datetime</th>\n",
              "      <th>drug_exposure_start_date</th>\n",
              "      <th>drug_source_value</th>\n",
              "      <th>quantity</th>\n",
              "      <th>days_supply</th>\n",
              "      <th>drug_source_concept_id</th>\n",
              "      <th>drug_exposure_id</th>\n",
              "      <th>drug_exposure_start_datetime</th>\n",
              "      <th>verbatim_end_date</th>\n",
              "      <th>drug_concept_id</th>\n",
              "    </tr>\n",
              "  </thead>\n",
              "  <tbody>\n",
              "    <tr>\n",
              "      <th>0</th>\n",
              "      <td>5</td>\n",
              "      <td>4213630.0</td>\n",
              "      <td>1935</td>\n",
              "      <td>1</td>\n",
              "      <td>38003564</td>\n",
              "      <td>000308435E3E5B76</td>\n",
              "      <td>9</td>\n",
              "      <td>1</td>\n",
              "      <td>1</td>\n",
              "      <td>8</td>\n",
              "      <td>8557.0</td>\n",
              "      <td>8507</td>\n",
              "      <td>1935-09-01T00:00:00.000Z</td>\n",
              "      <td>1</td>\n",
              "      <td>NaN</td>\n",
              "      <td>NaN</td>\n",
              "      <td>NaN</td>\n",
              "      <td>NaN</td>\n",
              "      <td>68338.0</td>\n",
              "      <td>2009-01-09T00:00:00.000Z</td>\n",
              "      <td>2870.0</td>\n",
              "      <td>5.421323e+14</td>\n",
              "      <td>2009-01-09T00:00:00.000Z</td>\n",
              "      <td>2009-01-09T00:00:00.000Z</td>\n",
              "      <td>9202.0</td>\n",
              "      <td>44818517.0</td>\n",
              "      <td>2009-01-09T00:00:00.000Z</td>\n",
              "      <td>NaN</td>\n",
              "      <td>NaN</td>\n",
              "      <td>NaN</td>\n",
              "      <td>NaN</td>\n",
              "      <td>NaN</td>\n",
              "      <td>NaN</td>\n",
              "      <td>NaN</td>\n",
              "      <td>NaN</td>\n",
              "      <td>NaN</td>\n",
              "    </tr>\n",
              "    <tr>\n",
              "      <th>1</th>\n",
              "      <td>41</td>\n",
              "      <td>1656926.0</td>\n",
              "      <td>1941</td>\n",
              "      <td>2</td>\n",
              "      <td>38003564</td>\n",
              "      <td>001F988D97A7759B</td>\n",
              "      <td>2</td>\n",
              "      <td>1</td>\n",
              "      <td>1</td>\n",
              "      <td>59</td>\n",
              "      <td>8527.0</td>\n",
              "      <td>8532</td>\n",
              "      <td>1941-02-01T00:00:00.000Z</td>\n",
              "      <td>1</td>\n",
              "      <td>NaN</td>\n",
              "      <td>NaN</td>\n",
              "      <td>NaN</td>\n",
              "      <td>NaN</td>\n",
              "      <td>179231.0</td>\n",
              "      <td>2008-10-09T00:00:00.000Z</td>\n",
              "      <td>42872.0</td>\n",
              "      <td>8.874434e+14</td>\n",
              "      <td>2008-10-09T00:00:00.000Z</td>\n",
              "      <td>2008-10-09T00:00:00.000Z</td>\n",
              "      <td>0.0</td>\n",
              "      <td>44818517.0</td>\n",
              "      <td>2008-10-09T00:00:00.000Z</td>\n",
              "      <td>NaN</td>\n",
              "      <td>NaN</td>\n",
              "      <td>NaN</td>\n",
              "      <td>NaN</td>\n",
              "      <td>NaN</td>\n",
              "      <td>NaN</td>\n",
              "      <td>NaN</td>\n",
              "      <td>NaN</td>\n",
              "      <td>NaN</td>\n",
              "    </tr>\n",
              "    <tr>\n",
              "      <th>2</th>\n",
              "      <td>62</td>\n",
              "      <td>3963163.0</td>\n",
              "      <td>1943</td>\n",
              "      <td>1</td>\n",
              "      <td>38003564</td>\n",
              "      <td>002B6203FF086ABA</td>\n",
              "      <td>9</td>\n",
              "      <td>1</td>\n",
              "      <td>1</td>\n",
              "      <td>35</td>\n",
              "      <td>8516.0</td>\n",
              "      <td>8507</td>\n",
              "      <td>1943-09-01T00:00:00.000Z</td>\n",
              "      <td>1</td>\n",
              "      <td>NaN</td>\n",
              "      <td>NaN</td>\n",
              "      <td>NaN</td>\n",
              "      <td>NaN</td>\n",
              "      <td>189926.0</td>\n",
              "      <td>2008-06-30T00:00:00.000Z</td>\n",
              "      <td>86906.0</td>\n",
              "      <td>8.872734e+14</td>\n",
              "      <td>2008-06-30T00:00:00.000Z</td>\n",
              "      <td>2008-06-30T00:00:00.000Z</td>\n",
              "      <td>0.0</td>\n",
              "      <td>44818517.0</td>\n",
              "      <td>2008-06-30T00:00:00.000Z</td>\n",
              "      <td>NaN</td>\n",
              "      <td>NaN</td>\n",
              "      <td>NaN</td>\n",
              "      <td>NaN</td>\n",
              "      <td>NaN</td>\n",
              "      <td>NaN</td>\n",
              "      <td>NaN</td>\n",
              "      <td>NaN</td>\n",
              "      <td>NaN</td>\n",
              "    </tr>\n",
              "    <tr>\n",
              "      <th>3</th>\n",
              "      <td>103</td>\n",
              "      <td>58348.0</td>\n",
              "      <td>1935</td>\n",
              "      <td>1</td>\n",
              "      <td>38003564</td>\n",
              "      <td>0050CF9059ABFF59</td>\n",
              "      <td>6</td>\n",
              "      <td>1</td>\n",
              "      <td>1</td>\n",
              "      <td>134</td>\n",
              "      <td>8657.0</td>\n",
              "      <td>8507</td>\n",
              "      <td>1935-06-01T00:00:00.000Z</td>\n",
              "      <td>1</td>\n",
              "      <td>NaN</td>\n",
              "      <td>NaN</td>\n",
              "      <td>NaN</td>\n",
              "      <td>NaN</td>\n",
              "      <td>42069.0</td>\n",
              "      <td>2009-07-25T00:00:00.000Z</td>\n",
              "      <td>5573.0</td>\n",
              "      <td>8.874534e+14</td>\n",
              "      <td>2009-07-25T00:00:00.000Z</td>\n",
              "      <td>2009-07-25T00:00:00.000Z</td>\n",
              "      <td>0.0</td>\n",
              "      <td>44818517.0</td>\n",
              "      <td>2009-07-25T00:00:00.000Z</td>\n",
              "      <td>NaN</td>\n",
              "      <td>NaN</td>\n",
              "      <td>NaN</td>\n",
              "      <td>NaN</td>\n",
              "      <td>NaN</td>\n",
              "      <td>NaN</td>\n",
              "      <td>NaN</td>\n",
              "      <td>NaN</td>\n",
              "      <td>NaN</td>\n",
              "    </tr>\n",
              "    <tr>\n",
              "      <th>4</th>\n",
              "      <td>125</td>\n",
              "      <td>1886636.0</td>\n",
              "      <td>1926</td>\n",
              "      <td>1</td>\n",
              "      <td>38003564</td>\n",
              "      <td>0064148837D38095</td>\n",
              "      <td>5</td>\n",
              "      <td>1</td>\n",
              "      <td>1</td>\n",
              "      <td>154</td>\n",
              "      <td>8657.0</td>\n",
              "      <td>8507</td>\n",
              "      <td>1926-05-01T00:00:00.000Z</td>\n",
              "      <td>1</td>\n",
              "      <td>NaN</td>\n",
              "      <td>NaN</td>\n",
              "      <td>NaN</td>\n",
              "      <td>NaN</td>\n",
              "      <td>54829.0</td>\n",
              "      <td>2009-01-13T00:00:00.000Z</td>\n",
              "      <td>30634.0</td>\n",
              "      <td>8.870134e+14</td>\n",
              "      <td>2009-01-13T00:00:00.000Z</td>\n",
              "      <td>2009-01-13T00:00:00.000Z</td>\n",
              "      <td>0.0</td>\n",
              "      <td>44818517.0</td>\n",
              "      <td>2009-01-13T00:00:00.000Z</td>\n",
              "      <td>2008-01-27T00:00:00.000Z</td>\n",
              "      <td>58016097590</td>\n",
              "      <td>10.0</td>\n",
              "      <td>0.0</td>\n",
              "      <td>44902911.0</td>\n",
              "      <td>2826933.0</td>\n",
              "      <td>2008-01-27T00:00:00.000Z</td>\n",
              "      <td>2015-10-13T00:00:00.000Z</td>\n",
              "      <td>1742284.0</td>\n",
              "    </tr>\n",
              "  </tbody>\n",
              "</table>\n",
              "</div>"
            ],
            "text/plain": [
              "   person_id  visit_occurrence_id  ...         verbatim_end_date  drug_concept_id\n",
              "0          5            4213630.0  ...                       NaN              NaN\n",
              "1         41            1656926.0  ...                       NaN              NaN\n",
              "2         62            3963163.0  ...                       NaN              NaN\n",
              "3        103              58348.0  ...                       NaN              NaN\n",
              "4        125            1886636.0  ...  2015-10-13T00:00:00.000Z        1742284.0\n",
              "\n",
              "[5 rows x 36 columns]"
            ]
          },
          "metadata": {
            "tags": []
          },
          "execution_count": 5
        }
      ]
    },
    {
      "cell_type": "code",
      "metadata": {
        "id": "rKDPmSxTyKbe",
        "colab_type": "code",
        "colab": {}
      },
      "source": [
        "drug_df = drug_df_o"
      ],
      "execution_count": 0,
      "outputs": []
    },
    {
      "cell_type": "code",
      "metadata": {
        "id": "orLuIToOQNYa",
        "colab_type": "code",
        "colab": {}
      },
      "source": [
        "#drug_df = drug_df.apply(lambda x:x.fillna(x.value_counts().index[0]))\n",
        "drug_df = drug_df[drug_df['visit_start_datetime'] == drug_df.groupby('person_id')['visit_start_datetime'].transform('max')]"
      ],
      "execution_count": 0,
      "outputs": []
    },
    {
      "cell_type": "code",
      "metadata": {
        "id": "c98-X5siNfYr",
        "colab_type": "code",
        "outputId": "87db3ecd-b61e-462c-b453-5f291401d969",
        "colab": {
          "base_uri": "https://localhost:8080/",
          "height": 125
        }
      },
      "source": [
        "table1 = drug_df[['person_id', 'drug_exposure_id','quantity']]\n",
        "table1[['person_id','drug_exposure_id']] = table1[['person_id','drug_exposure_id']].astype(str)"
      ],
      "execution_count": 0,
      "outputs": [
        {
          "output_type": "stream",
          "text": [
            "/usr/local/lib/python3.6/dist-packages/pandas/core/frame.py:3509: SettingWithCopyWarning: \n",
            "A value is trying to be set on a copy of a slice from a DataFrame.\n",
            "Try using .loc[row_indexer,col_indexer] = value instead\n",
            "\n",
            "See the caveats in the documentation: http://pandas.pydata.org/pandas-docs/stable/user_guide/indexing.html#returning-a-view-versus-a-copy\n",
            "  self[k1] = value[k2]\n"
          ],
          "name": "stderr"
        }
      ]
    },
    {
      "cell_type": "code",
      "metadata": {
        "id": "yoY_ZtdZRJb9",
        "colab_type": "code",
        "outputId": "e642cc19-2e87-4f74-b947-ecb39ef4fdb1",
        "colab": {
          "base_uri": "https://localhost:8080/",
          "height": 413
        }
      },
      "source": [
        "table1.groupby('person_id')['drug_exposure_id'].apply(len).head(20)"
      ],
      "execution_count": 0,
      "outputs": [
        {
          "output_type": "execute_result",
          "data": {
            "text/plain": [
              "person_id\n",
              "0         1\n",
              "10        1\n",
              "100       5\n",
              "10000     1\n",
              "100000    2\n",
              "100001    1\n",
              "100003    1\n",
              "100005    6\n",
              "100007    1\n",
              "100008    1\n",
              "10001     1\n",
              "100010    1\n",
              "100011    5\n",
              "100012    1\n",
              "100013    1\n",
              "100014    1\n",
              "100015    1\n",
              "100017    9\n",
              "100019    1\n",
              "10002     1\n",
              "Name: drug_exposure_id, dtype: int64"
            ]
          },
          "metadata": {
            "tags": []
          },
          "execution_count": 24
        }
      ]
    },
    {
      "cell_type": "markdown",
      "metadata": {
        "id": "LFW81z642ZTU",
        "colab_type": "text"
      },
      "source": [
        "## data preprocessing"
      ]
    },
    {
      "cell_type": "code",
      "metadata": {
        "id": "8eG0PmP6s_8u",
        "colab_type": "code",
        "colab": {}
      },
      "source": [
        "persondrop = ['person_source_value','ethnicity_source_value', 'gender_source_value','location_id', 'race_source_value', 'care_site_id']\n",
        "visitdrop = ['visit_source_value','visit_start_date','visit_end_date','visit_end_datetime']\n",
        "drugdrop = ['drug_source_value', 'drug_source_concept_id', 'drug_exposure_start_date']"
      ],
      "execution_count": 0,
      "outputs": []
    },
    {
      "cell_type": "code",
      "metadata": {
        "id": "ezpvTFcEzr0j",
        "colab_type": "code",
        "colab": {}
      },
      "source": [
        "drug_df=drug_df.drop(columns=persondrop)\n",
        "drug_df=drug_df.drop(columns=visitdrop)\n",
        "drug_df=drug_df.drop(columns=drugdrop)"
      ],
      "execution_count": 0,
      "outputs": []
    },
    {
      "cell_type": "code",
      "metadata": {
        "id": "abAeNGaZ0Hrt",
        "colab_type": "code",
        "colab": {}
      },
      "source": [
        "drug_df.loc[pd.isnull(drug_df['death_date']) , 'death'] = 0\n",
        "drug_df.loc[pd.isnull(drug_df['death_date'])==False , 'death'] = 1"
      ],
      "execution_count": 0,
      "outputs": []
    },
    {
      "cell_type": "code",
      "metadata": {
        "id": "iRNJbzcA1yZk",
        "colab_type": "code",
        "colab": {}
      },
      "source": [
        "deathdrop=['death_date','death_datetime','death_type_concept_id','cause_source_concept_id']\n",
        "drug_df=drug_df.drop(columns=deathdrop)"
      ],
      "execution_count": 0,
      "outputs": []
    },
    {
      "cell_type": "code",
      "metadata": {
        "id": "PEgUwVvo1_u0",
        "colab_type": "code",
        "outputId": "d66ef686-c82d-4ae1-bbee-3d8eee7b6c93",
        "colab": {
          "base_uri": "https://localhost:8080/",
          "height": 309
        }
      },
      "source": [
        "drug_df.head(5)"
      ],
      "execution_count": 0,
      "outputs": [
        {
          "output_type": "execute_result",
          "data": {
            "text/html": [
              "<div>\n",
              "<style scoped>\n",
              "    .dataframe tbody tr th:only-of-type {\n",
              "        vertical-align: middle;\n",
              "    }\n",
              "\n",
              "    .dataframe tbody tr th {\n",
              "        vertical-align: top;\n",
              "    }\n",
              "\n",
              "    .dataframe thead th {\n",
              "        text-align: right;\n",
              "    }\n",
              "</style>\n",
              "<table border=\"1\" class=\"dataframe\">\n",
              "  <thead>\n",
              "    <tr style=\"text-align: right;\">\n",
              "      <th></th>\n",
              "      <th>person_id</th>\n",
              "      <th>visit_occurrence_id</th>\n",
              "      <th>year_of_birth</th>\n",
              "      <th>ethnicity_concept_id</th>\n",
              "      <th>month_of_birth</th>\n",
              "      <th>day_of_birth</th>\n",
              "      <th>race_concept_id</th>\n",
              "      <th>gender_concept_id</th>\n",
              "      <th>birth_datetime</th>\n",
              "      <th>provider_id</th>\n",
              "      <th>visit_start_datetime</th>\n",
              "      <th>visit_concept_id</th>\n",
              "      <th>visit_type_concept_id</th>\n",
              "      <th>quantity</th>\n",
              "      <th>days_supply</th>\n",
              "      <th>drug_exposure_id</th>\n",
              "      <th>drug_exposure_start_datetime</th>\n",
              "      <th>verbatim_end_date</th>\n",
              "      <th>drug_concept_id</th>\n",
              "      <th>death</th>\n",
              "    </tr>\n",
              "  </thead>\n",
              "  <tbody>\n",
              "    <tr>\n",
              "      <th>4</th>\n",
              "      <td>125</td>\n",
              "      <td>1886636.0</td>\n",
              "      <td>1926</td>\n",
              "      <td>38003564</td>\n",
              "      <td>5</td>\n",
              "      <td>1</td>\n",
              "      <td>8657.0</td>\n",
              "      <td>8507</td>\n",
              "      <td>1926-05-01T00:00:00.000Z</td>\n",
              "      <td>54829.0</td>\n",
              "      <td>2009-01-13T00:00:00.000Z</td>\n",
              "      <td>0.0</td>\n",
              "      <td>44818517.0</td>\n",
              "      <td>10.0</td>\n",
              "      <td>0.0</td>\n",
              "      <td>2826933.0</td>\n",
              "      <td>2008-01-27T00:00:00.000Z</td>\n",
              "      <td>2015-10-13T00:00:00.000Z</td>\n",
              "      <td>1742284.0</td>\n",
              "      <td>0.0</td>\n",
              "    </tr>\n",
              "    <tr>\n",
              "      <th>5</th>\n",
              "      <td>190</td>\n",
              "      <td>5040769.0</td>\n",
              "      <td>1927</td>\n",
              "      <td>38003564</td>\n",
              "      <td>12</td>\n",
              "      <td>1</td>\n",
              "      <td>8516.0</td>\n",
              "      <td>8507</td>\n",
              "      <td>1927-12-01T00:00:00.000Z</td>\n",
              "      <td>117478.0</td>\n",
              "      <td>2009-04-20T00:00:00.000Z</td>\n",
              "      <td>0.0</td>\n",
              "      <td>44818517.0</td>\n",
              "      <td>NaN</td>\n",
              "      <td>NaN</td>\n",
              "      <td>NaN</td>\n",
              "      <td>NaN</td>\n",
              "      <td>NaN</td>\n",
              "      <td>NaN</td>\n",
              "      <td>0.0</td>\n",
              "    </tr>\n",
              "    <tr>\n",
              "      <th>9</th>\n",
              "      <td>225</td>\n",
              "      <td>2530146.0</td>\n",
              "      <td>1938</td>\n",
              "      <td>38003564</td>\n",
              "      <td>8</td>\n",
              "      <td>1</td>\n",
              "      <td>8657.0</td>\n",
              "      <td>8532</td>\n",
              "      <td>1938-08-01T00:00:00.000Z</td>\n",
              "      <td>221228.0</td>\n",
              "      <td>2009-10-29T00:00:00.000Z</td>\n",
              "      <td>0.0</td>\n",
              "      <td>44818517.0</td>\n",
              "      <td>NaN</td>\n",
              "      <td>NaN</td>\n",
              "      <td>NaN</td>\n",
              "      <td>NaN</td>\n",
              "      <td>NaN</td>\n",
              "      <td>NaN</td>\n",
              "      <td>0.0</td>\n",
              "    </tr>\n",
              "    <tr>\n",
              "      <th>19</th>\n",
              "      <td>512</td>\n",
              "      <td>2141915.0</td>\n",
              "      <td>1939</td>\n",
              "      <td>38003564</td>\n",
              "      <td>1</td>\n",
              "      <td>1</td>\n",
              "      <td>8527.0</td>\n",
              "      <td>8532</td>\n",
              "      <td>1939-01-01T00:00:00.000Z</td>\n",
              "      <td>238202.0</td>\n",
              "      <td>2009-07-27T00:00:00.000Z</td>\n",
              "      <td>0.0</td>\n",
              "      <td>44818517.0</td>\n",
              "      <td>NaN</td>\n",
              "      <td>NaN</td>\n",
              "      <td>NaN</td>\n",
              "      <td>NaN</td>\n",
              "      <td>NaN</td>\n",
              "      <td>NaN</td>\n",
              "      <td>0.0</td>\n",
              "    </tr>\n",
              "    <tr>\n",
              "      <th>21</th>\n",
              "      <td>573</td>\n",
              "      <td>989410.0</td>\n",
              "      <td>1936</td>\n",
              "      <td>38003564</td>\n",
              "      <td>3</td>\n",
              "      <td>1</td>\n",
              "      <td>8527.0</td>\n",
              "      <td>8532</td>\n",
              "      <td>1936-03-01T00:00:00.000Z</td>\n",
              "      <td>224.0</td>\n",
              "      <td>2009-11-16T00:00:00.000Z</td>\n",
              "      <td>0.0</td>\n",
              "      <td>44818517.0</td>\n",
              "      <td>NaN</td>\n",
              "      <td>NaN</td>\n",
              "      <td>NaN</td>\n",
              "      <td>NaN</td>\n",
              "      <td>NaN</td>\n",
              "      <td>NaN</td>\n",
              "      <td>0.0</td>\n",
              "    </tr>\n",
              "  </tbody>\n",
              "</table>\n",
              "</div>"
            ],
            "text/plain": [
              "    person_id  visit_occurrence_id  ...  drug_concept_id  death\n",
              "4         125            1886636.0  ...        1742284.0    0.0\n",
              "5         190            5040769.0  ...              NaN    0.0\n",
              "9         225            2530146.0  ...              NaN    0.0\n",
              "19        512            2141915.0  ...              NaN    0.0\n",
              "21        573             989410.0  ...              NaN    0.0\n",
              "\n",
              "[5 rows x 20 columns]"
            ]
          },
          "metadata": {
            "tags": []
          },
          "execution_count": 12
        }
      ]
    },
    {
      "cell_type": "code",
      "metadata": {
        "id": "oPsfVLnDS91l",
        "colab_type": "code",
        "outputId": "c7bf5c47-7575-4c0e-db9d-5b22888febcb",
        "colab": {
          "base_uri": "https://localhost:8080/",
          "height": 35
        }
      },
      "source": [
        "len(drug_df)"
      ],
      "execution_count": 0,
      "outputs": [
        {
          "output_type": "execute_result",
          "data": {
            "text/plain": [
              "199967"
            ]
          },
          "metadata": {
            "tags": []
          },
          "execution_count": 13
        }
      ]
    },
    {
      "cell_type": "code",
      "metadata": {
        "id": "ddjhx_7nxehO",
        "colab_type": "code",
        "colab": {}
      },
      "source": [
        "len(drug_df.person_id.unique)"
      ],
      "execution_count": 0,
      "outputs": []
    },
    {
      "cell_type": "code",
      "metadata": {
        "id": "jZhu0SCC2NmT",
        "colab_type": "code",
        "outputId": "50a7e1a1-63f1-41b8-f473-5c9d8ad5f7c8",
        "colab": {
          "base_uri": "https://localhost:8080/",
          "height": 125
        }
      },
      "source": [
        "## change the types of columns\n",
        "categorical= ['person_id','visit_occurrence_id','ethnicity_concept_id','race_concept_id','gender_concept_id',\n",
        "             'visit_concept_id','visit_type_concept_id','drug_exposure_id','drug_concept_id'] ## 9 objects\n",
        "for col in categorical:\n",
        "    drug_df[col] = drug_df[col].astype('object')\n",
        "#drug_df['death'] = drug_df['death'].astype(int)"
      ],
      "execution_count": 0,
      "outputs": [
        {
          "output_type": "stream",
          "text": [
            "/usr/local/lib/python3.6/dist-packages/ipykernel_launcher.py:4: SettingWithCopyWarning: \n",
            "A value is trying to be set on a copy of a slice from a DataFrame.\n",
            "Try using .loc[row_indexer,col_indexer] = value instead\n",
            "\n",
            "See the caveats in the documentation: http://pandas.pydata.org/pandas-docs/stable/user_guide/indexing.html#returning-a-view-versus-a-copy\n",
            "  after removing the cwd from sys.path.\n"
          ],
          "name": "stderr"
        }
      ]
    },
    {
      "cell_type": "code",
      "metadata": {
        "id": "ErBY4uvlQFQn",
        "colab_type": "code",
        "colab": {}
      },
      "source": [
        ""
      ],
      "execution_count": 0,
      "outputs": []
    },
    {
      "cell_type": "code",
      "metadata": {
        "id": "0WzHEMn_wRd5",
        "colab_type": "code",
        "colab": {}
      },
      "source": [
        "import datetime\n",
        "drug_df['visit_start_datetime'] = drug_df['visit_start_datetime'].map(lambda x: datetime.datetime.strptime(x,\"%Y-%m-%dT%H:%M:%S.000Z\"))\n",
        "drug_df['birth_datetime'] = drug_df['birth_datetime'].map(lambda x: datetime.datetime.strptime(x,\"%Y-%m-%dT%H:%M:%S.000Z\"))"
      ],
      "execution_count": 0,
      "outputs": []
    },
    {
      "cell_type": "code",
      "metadata": {
        "id": "wkDNXSYbyyQu",
        "colab_type": "code",
        "colab": {}
      },
      "source": [
        "drug_df['age'] = drug_df['visit_start_datetime']-drug_df['birth_datetime']\n",
        "drug_df['age'] = drug_df['age'].dt.days.astype('int16')"
      ],
      "execution_count": 0,
      "outputs": []
    },
    {
      "cell_type": "markdown",
      "metadata": {
        "id": "ZZuMAYM_pO8B",
        "colab_type": "text"
      },
      "source": [
        "## exploration"
      ]
    },
    {
      "cell_type": "code",
      "metadata": {
        "id": "VZF5VhjU4ZVt",
        "colab_type": "code",
        "outputId": "e774340d-17d1-4a08-8960-7df060a18e5e",
        "colab": {
          "base_uri": "https://localhost:8080/",
          "height": 694
        }
      },
      "source": [
        "percent_missing = drug_df.isnull().sum() * 100 / len(drug_df)\n",
        "missing_value_df = pd.DataFrame({'column_name': drug_df.columns,\n",
        "                                 'percent_missing': percent_missing})\n",
        "missing_value_df"
      ],
      "execution_count": 0,
      "outputs": [
        {
          "output_type": "execute_result",
          "data": {
            "text/html": [
              "<div>\n",
              "<style scoped>\n",
              "    .dataframe tbody tr th:only-of-type {\n",
              "        vertical-align: middle;\n",
              "    }\n",
              "\n",
              "    .dataframe tbody tr th {\n",
              "        vertical-align: top;\n",
              "    }\n",
              "\n",
              "    .dataframe thead th {\n",
              "        text-align: right;\n",
              "    }\n",
              "</style>\n",
              "<table border=\"1\" class=\"dataframe\">\n",
              "  <thead>\n",
              "    <tr style=\"text-align: right;\">\n",
              "      <th></th>\n",
              "      <th>column_name</th>\n",
              "      <th>percent_missing</th>\n",
              "    </tr>\n",
              "  </thead>\n",
              "  <tbody>\n",
              "    <tr>\n",
              "      <th>person_id</th>\n",
              "      <td>person_id</td>\n",
              "      <td>0.000000</td>\n",
              "    </tr>\n",
              "    <tr>\n",
              "      <th>visit_occurrence_id</th>\n",
              "      <td>visit_occurrence_id</td>\n",
              "      <td>0.000000</td>\n",
              "    </tr>\n",
              "    <tr>\n",
              "      <th>year_of_birth</th>\n",
              "      <td>year_of_birth</td>\n",
              "      <td>0.000000</td>\n",
              "    </tr>\n",
              "    <tr>\n",
              "      <th>ethnicity_concept_id</th>\n",
              "      <td>ethnicity_concept_id</td>\n",
              "      <td>0.000000</td>\n",
              "    </tr>\n",
              "    <tr>\n",
              "      <th>month_of_birth</th>\n",
              "      <td>month_of_birth</td>\n",
              "      <td>0.000000</td>\n",
              "    </tr>\n",
              "    <tr>\n",
              "      <th>day_of_birth</th>\n",
              "      <td>day_of_birth</td>\n",
              "      <td>0.000000</td>\n",
              "    </tr>\n",
              "    <tr>\n",
              "      <th>race_concept_id</th>\n",
              "      <td>race_concept_id</td>\n",
              "      <td>14.292358</td>\n",
              "    </tr>\n",
              "    <tr>\n",
              "      <th>gender_concept_id</th>\n",
              "      <td>gender_concept_id</td>\n",
              "      <td>0.000000</td>\n",
              "    </tr>\n",
              "    <tr>\n",
              "      <th>birth_datetime</th>\n",
              "      <td>birth_datetime</td>\n",
              "      <td>0.000000</td>\n",
              "    </tr>\n",
              "    <tr>\n",
              "      <th>provider_id</th>\n",
              "      <td>provider_id</td>\n",
              "      <td>0.181530</td>\n",
              "    </tr>\n",
              "    <tr>\n",
              "      <th>visit_start_datetime</th>\n",
              "      <td>visit_start_datetime</td>\n",
              "      <td>0.000000</td>\n",
              "    </tr>\n",
              "    <tr>\n",
              "      <th>visit_concept_id</th>\n",
              "      <td>visit_concept_id</td>\n",
              "      <td>0.000000</td>\n",
              "    </tr>\n",
              "    <tr>\n",
              "      <th>visit_type_concept_id</th>\n",
              "      <td>visit_type_concept_id</td>\n",
              "      <td>0.000000</td>\n",
              "    </tr>\n",
              "    <tr>\n",
              "      <th>quantity</th>\n",
              "      <td>quantity</td>\n",
              "      <td>38.315322</td>\n",
              "    </tr>\n",
              "    <tr>\n",
              "      <th>days_supply</th>\n",
              "      <td>days_supply</td>\n",
              "      <td>38.315322</td>\n",
              "    </tr>\n",
              "    <tr>\n",
              "      <th>drug_exposure_id</th>\n",
              "      <td>drug_exposure_id</td>\n",
              "      <td>30.701566</td>\n",
              "    </tr>\n",
              "    <tr>\n",
              "      <th>drug_exposure_start_datetime</th>\n",
              "      <td>drug_exposure_start_datetime</td>\n",
              "      <td>30.701566</td>\n",
              "    </tr>\n",
              "    <tr>\n",
              "      <th>verbatim_end_date</th>\n",
              "      <td>verbatim_end_date</td>\n",
              "      <td>30.721069</td>\n",
              "    </tr>\n",
              "    <tr>\n",
              "      <th>drug_concept_id</th>\n",
              "      <td>drug_concept_id</td>\n",
              "      <td>30.701566</td>\n",
              "    </tr>\n",
              "    <tr>\n",
              "      <th>death</th>\n",
              "      <td>death</td>\n",
              "      <td>0.000000</td>\n",
              "    </tr>\n",
              "    <tr>\n",
              "      <th>age</th>\n",
              "      <td>age</td>\n",
              "      <td>0.000000</td>\n",
              "    </tr>\n",
              "  </tbody>\n",
              "</table>\n",
              "</div>"
            ],
            "text/plain": [
              "                                               column_name  percent_missing\n",
              "person_id                                        person_id         0.000000\n",
              "visit_occurrence_id                    visit_occurrence_id         0.000000\n",
              "year_of_birth                                year_of_birth         0.000000\n",
              "ethnicity_concept_id                  ethnicity_concept_id         0.000000\n",
              "month_of_birth                              month_of_birth         0.000000\n",
              "day_of_birth                                  day_of_birth         0.000000\n",
              "race_concept_id                            race_concept_id        14.292358\n",
              "gender_concept_id                        gender_concept_id         0.000000\n",
              "birth_datetime                              birth_datetime         0.000000\n",
              "provider_id                                    provider_id         0.181530\n",
              "visit_start_datetime                  visit_start_datetime         0.000000\n",
              "visit_concept_id                          visit_concept_id         0.000000\n",
              "visit_type_concept_id                visit_type_concept_id         0.000000\n",
              "quantity                                          quantity        38.315322\n",
              "days_supply                                    days_supply        38.315322\n",
              "drug_exposure_id                          drug_exposure_id        30.701566\n",
              "drug_exposure_start_datetime  drug_exposure_start_datetime        30.701566\n",
              "verbatim_end_date                        verbatim_end_date        30.721069\n",
              "drug_concept_id                            drug_concept_id        30.701566\n",
              "death                                                death         0.000000\n",
              "age                                                    age         0.000000"
            ]
          },
          "metadata": {
            "tags": []
          },
          "execution_count": 17
        }
      ]
    },
    {
      "cell_type": "code",
      "metadata": {
        "id": "J0tWkLE_SXey",
        "colab_type": "code",
        "colab": {}
      },
      "source": [
        "drug_df = drug_df.apply(lambda x:x.fillna(x.value_counts().index[0]))"
      ],
      "execution_count": 0,
      "outputs": []
    },
    {
      "cell_type": "code",
      "metadata": {
        "id": "_g_uCwzh4ZKB",
        "colab_type": "code",
        "outputId": "8bdee4f8-9432-4a28-fa19-414566d59f9b",
        "colab": {
          "base_uri": "https://localhost:8080/",
          "height": 413
        }
      },
      "source": [
        "drug_df.select_dtypes('object').apply(pd.Series.nunique, axis = 0)"
      ],
      "execution_count": 0,
      "outputs": [
        {
          "output_type": "execute_result",
          "data": {
            "text/plain": [
              "person_id                        97916\n",
              "visit_occurrence_id              94834\n",
              "ethnicity_concept_id                 2\n",
              "person_source_value              66223\n",
              "race_concept_id                      6\n",
              "gender_concept_id                    2\n",
              "birth_datetime                     900\n",
              "death_date                         594\n",
              "death_datetime                     594\n",
              "visit_start_date                   878\n",
              "visit_end_date                     898\n",
              "visit_start_datetime               878\n",
              "visit_concept_id                     3\n",
              "visit_type_concept_id                1\n",
              "visit_end_datetime                 898\n",
              "drug_exposure_start_date           897\n",
              "drug_source_value                85293\n",
              "drug_exposure_id                136275\n",
              "drug_exposure_start_datetime       897\n",
              "verbatim_end_date                 3098\n",
              "drug_concept_id                  10736\n",
              "dtype: int64"
            ]
          },
          "metadata": {
            "tags": []
          },
          "execution_count": 10
        }
      ]
    },
    {
      "cell_type": "markdown",
      "metadata": {
        "id": "53SaSy9U9gWY",
        "colab_type": "text"
      },
      "source": [
        "### feature engineering"
      ]
    },
    {
      "cell_type": "code",
      "metadata": {
        "id": "9DWV43rb6QaM",
        "colab_type": "code",
        "outputId": "807de6e2-4625-4a25-9ab6-ea7d80842a52",
        "colab": {
          "base_uri": "https://localhost:8080/",
          "height": 202
        }
      },
      "source": [
        "exp = drug_df[['quantity','days_supply','age']]\n",
        "exp.head(5)"
      ],
      "execution_count": 0,
      "outputs": [
        {
          "output_type": "execute_result",
          "data": {
            "text/html": [
              "<div>\n",
              "<style scoped>\n",
              "    .dataframe tbody tr th:only-of-type {\n",
              "        vertical-align: middle;\n",
              "    }\n",
              "\n",
              "    .dataframe tbody tr th {\n",
              "        vertical-align: top;\n",
              "    }\n",
              "\n",
              "    .dataframe thead th {\n",
              "        text-align: right;\n",
              "    }\n",
              "</style>\n",
              "<table border=\"1\" class=\"dataframe\">\n",
              "  <thead>\n",
              "    <tr style=\"text-align: right;\">\n",
              "      <th></th>\n",
              "      <th>quantity</th>\n",
              "      <th>days_supply</th>\n",
              "      <th>age</th>\n",
              "    </tr>\n",
              "  </thead>\n",
              "  <tbody>\n",
              "    <tr>\n",
              "      <th>4</th>\n",
              "      <td>10.0</td>\n",
              "      <td>0.0</td>\n",
              "      <td>30208</td>\n",
              "    </tr>\n",
              "    <tr>\n",
              "      <th>5</th>\n",
              "      <td>30.0</td>\n",
              "      <td>30.0</td>\n",
              "      <td>29726</td>\n",
              "    </tr>\n",
              "    <tr>\n",
              "      <th>9</th>\n",
              "      <td>30.0</td>\n",
              "      <td>30.0</td>\n",
              "      <td>26022</td>\n",
              "    </tr>\n",
              "    <tr>\n",
              "      <th>19</th>\n",
              "      <td>30.0</td>\n",
              "      <td>30.0</td>\n",
              "      <td>25775</td>\n",
              "    </tr>\n",
              "    <tr>\n",
              "      <th>21</th>\n",
              "      <td>30.0</td>\n",
              "      <td>30.0</td>\n",
              "      <td>26923</td>\n",
              "    </tr>\n",
              "  </tbody>\n",
              "</table>\n",
              "</div>"
            ],
            "text/plain": [
              "    quantity  days_supply    age\n",
              "4       10.0          0.0  30208\n",
              "5       30.0         30.0  29726\n",
              "9       30.0         30.0  26022\n",
              "19      30.0         30.0  25775\n",
              "21      30.0         30.0  26923"
            ]
          },
          "metadata": {
            "tags": []
          },
          "execution_count": 20
        }
      ]
    },
    {
      "cell_type": "code",
      "metadata": {
        "id": "9Hj7u7m4K3Oj",
        "colab_type": "code",
        "colab": {}
      },
      "source": [
        "from sklearn.preprocessing import StandardScaler"
      ],
      "execution_count": 0,
      "outputs": []
    },
    {
      "cell_type": "code",
      "metadata": {
        "id": "QpACRPaMrDMj",
        "colab_type": "code",
        "colab": {}
      },
      "source": [
        "### value data scaling\n",
        "scaler = StandardScaler()\n",
        "scaler.fit(drug_df[['quantity','days_supply','age']])\n",
        "drug_df[['quantity','days_supply','age']] = scaler.transform(drug_df[['quantity','days_supply','age']])"
      ],
      "execution_count": 0,
      "outputs": []
    },
    {
      "cell_type": "code",
      "metadata": {
        "id": "BuzqQjnGI09y",
        "colab_type": "code",
        "colab": {}
      },
      "source": [
        "def encode_onehot(df, cols):\n",
        "    vec = DictVectorizer()\n",
        "    \n",
        "    vec_data = pd.DataFrame(vec.fit_transform(df[cols].to_dict(orient ='records')).toarray())\n",
        "    vec_data.columns = vec.get_feature_names()\n",
        "    vec_data.index = df.index\n",
        "    \n",
        "    df = df.drop(cols, axis=1)\n",
        "    df[cols] = vec_data\n",
        "    return df\n"
      ],
      "execution_count": 0,
      "outputs": []
    },
    {
      "cell_type": "code",
      "metadata": {
        "id": "VSJEgqzsrDJM",
        "colab_type": "code",
        "colab": {}
      },
      "source": [
        "## encoding\n",
        "categorical= ['ethnicity_concept_id','race_concept_id','gender_concept_id',\n",
        "             'visit_concept_id','visit_type_concept_id','drug_exposure_id','drug_concept_id']\n",
        "pd.get_dummies(drug_df, columns=categorical).head(5)"
      ],
      "execution_count": 0,
      "outputs": []
    },
    {
      "cell_type": "code",
      "metadata": {
        "id": "Dy1g7PbHrDF0",
        "colab_type": "code",
        "colab": {}
      },
      "source": [
        "drug_df[categorical].head(5)"
      ],
      "execution_count": 0,
      "outputs": []
    },
    {
      "cell_type": "code",
      "metadata": {
        "id": "nAb_28wtrDBq",
        "colab_type": "code",
        "colab": {}
      },
      "source": [
        ""
      ],
      "execution_count": 0,
      "outputs": []
    },
    {
      "cell_type": "code",
      "metadata": {
        "id": "m2Q_SVuXrC3K",
        "colab_type": "code",
        "colab": {}
      },
      "source": [
        ""
      ],
      "execution_count": 0,
      "outputs": []
    },
    {
      "cell_type": "code",
      "metadata": {
        "id": "Dgr0q561JIpn",
        "colab_type": "code",
        "colab": {}
      },
      "source": [
        "a = [0.013689, 0.009606]\n",
        "a = np.asarray(a)\n",
        "t_mean = (0.013689 + 0.009606)/2\n",
        "std = np.sqrt(a.var(ddof = 1))\n",
        "t_stat = (a[0] - a[1])/std\n",
        "t_stat "
      ],
      "execution_count": 0,
      "outputs": []
    },
    {
      "cell_type": "markdown",
      "metadata": {
        "id": "Hiyba69R971n",
        "colab_type": "text"
      },
      "source": [
        "### about measurement info"
      ]
    },
    {
      "cell_type": "code",
      "metadata": {
        "id": "tYSqssgR9_P2",
        "colab_type": "code",
        "colab": {}
      },
      "source": [
        "## for measurement value in each unit\n",
        "g = sns.FacetGrid(measure_df, col='unit_concept_id')\n",
        "g.map(sns.boxplot, 'death','value_as_number')"
      ],
      "execution_count": 0,
      "outputs": []
    },
    {
      "cell_type": "code",
      "metadata": {
        "id": "bl9Uvw2yFGdS",
        "colab_type": "code",
        "colab": {}
      },
      "source": [
        "drug_df.loc[drug_df['value_as_number']> 100000 , 'value_as_number'] =None ##delete the extreme values"
      ],
      "execution_count": 0,
      "outputs": []
    },
    {
      "cell_type": "code",
      "metadata": {
        "id": "t4VCAy_z9_B0",
        "colab_type": "code",
        "colab": {}
      },
      "source": [
        "sns.boxplot(x = 'death', y = 'value_as_number', data = measure_df)"
      ],
      "execution_count": 0,
      "outputs": []
    },
    {
      "cell_type": "code",
      "metadata": {
        "id": "UKSrSrf3NF94",
        "colab_type": "code",
        "colab": {}
      },
      "source": [
        "type(measure_df.measurement_datetime)"
      ],
      "execution_count": 0,
      "outputs": []
    },
    {
      "cell_type": "code",
      "metadata": {
        "id": "ZFu4blNcNGwV",
        "colab_type": "code",
        "colab": {}
      },
      "source": [
        "measure_df['measure_date']= measure_df.measurement_datetime.dt.date"
      ],
      "execution_count": 0,
      "outputs": []
    },
    {
      "cell_type": "code",
      "metadata": {
        "id": "kgPQVrliNGky",
        "colab_type": "code",
        "colab": {}
      },
      "source": [
        ""
      ],
      "execution_count": 0,
      "outputs": []
    },
    {
      "cell_type": "code",
      "metadata": {
        "id": "7XoG6sRxNGZQ",
        "colab_type": "code",
        "colab": {}
      },
      "source": [
        ""
      ],
      "execution_count": 0,
      "outputs": []
    },
    {
      "cell_type": "code",
      "metadata": {
        "id": "Pa3tb_Wz-J1R",
        "colab_type": "code",
        "colab": {}
      },
      "source": [
        "measure_df.to_csv(\"measure2.csv\")"
      ],
      "execution_count": 0,
      "outputs": []
    }
  ]
}