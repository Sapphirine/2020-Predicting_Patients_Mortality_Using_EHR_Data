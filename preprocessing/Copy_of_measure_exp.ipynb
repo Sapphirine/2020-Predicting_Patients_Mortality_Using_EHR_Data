{
  "nbformat": 4,
  "nbformat_minor": 0,
  "metadata": {
    "colab": {
      "name": "Copy of measure_exp.ipynb",
      "provenance": [],
      "collapsed_sections": [],
      "machine_shape": "hm"
    },
    "kernelspec": {
      "name": "python3",
      "display_name": "Python 3"
    }
  },
  "cells": [
    {
      "cell_type": "markdown",
      "metadata": {
        "id": "A5XM2aZF2PeA",
        "colab_type": "text"
      },
      "source": [
        "## Data import"
      ]
    },
    {
      "cell_type": "code",
      "metadata": {
        "id": "oY9tOAdxokvk",
        "colab_type": "code",
        "colab": {}
      },
      "source": [
        "import pandas as pd\n",
        "import matplotlib.pyplot as plt\n",
        "import seaborn as sns\n",
        "import numpy as np"
      ],
      "execution_count": 0,
      "outputs": []
    },
    {
      "cell_type": "code",
      "metadata": {
        "id": "StTYlrIlqhSE",
        "colab_type": "code",
        "outputId": "b7f3dfc2-f364-4d49-f14a-56112116bf6c",
        "colab": {
          "base_uri": "https://localhost:8080/",
          "height": 123
        }
      },
      "source": [
        "from google.colab import drive\n",
        "drive.mount('/content/gdrive')"
      ],
      "execution_count": 0,
      "outputs": [
        {
          "output_type": "stream",
          "text": [
            "Go to this URL in a browser: https://accounts.google.com/o/oauth2/auth?client_id=947318989803-6bn6qk8qdgf4n4g3pfee6491hc0brc4i.apps.googleusercontent.com&redirect_uri=urn%3aietf%3awg%3aoauth%3a2.0%3aoob&response_type=code&scope=email%20https%3a%2f%2fwww.googleapis.com%2fauth%2fdocs.test%20https%3a%2f%2fwww.googleapis.com%2fauth%2fdrive%20https%3a%2f%2fwww.googleapis.com%2fauth%2fdrive.photos.readonly%20https%3a%2f%2fwww.googleapis.com%2fauth%2fpeopleapi.readonly\n",
            "\n",
            "Enter your authorization code:\n",
            "··········\n",
            "Mounted at /content/gdrive\n"
          ],
          "name": "stdout"
        }
      ]
    },
    {
      "cell_type": "code",
      "metadata": {
        "id": "g3MHjCNpqNoz",
        "colab_type": "code",
        "outputId": "3f6c5469-3390-4761-aa49-86a2f2346324",
        "colab": {
          "base_uri": "https://localhost:8080/",
          "height": 310
        }
      },
      "source": [
        "import os, shutil\n",
        "!ls \"/content/gdrive/My Drive/\""
      ],
      "execution_count": 0,
      "outputs": [
        {
          "output_type": "stream",
          "text": [
            " 8-2.mov\n",
            " Bayesian\n",
            " bq-results-20190920-004228-5xi034liest1\n",
            " bq-results-20190920-012138-er5eg3s9lxkj\n",
            " bq-results-20190920-012622-6g3qu1tkjun8\n",
            " bq-results-20191112-190906-w6n93g514345\n",
            "'Chu Yu-resume.pdf'\n",
            "'Colab Notebooks'\n",
            "'data science final scratch.gdoc'\n",
            "'Download eTranscripts ordered from your school (Windows) (1).gdoc'\n",
            " drug.csv\n",
            "'epi assignment 5.gdoc'\n",
            " measure.csv\n",
            " my_model.h5\n",
            "'Phar stats final SAP.gdoc'\n",
            " scudata\n",
            " sculpture\n"
          ],
          "name": "stdout"
        }
      ]
    },
    {
      "cell_type": "code",
      "metadata": {
        "id": "fYE48dTHqv1X",
        "colab_type": "code",
        "colab": {}
      },
      "source": [
        "measure_df = pd.read_csv('/content/gdrive/My Drive/measure.csv')"
      ],
      "execution_count": 0,
      "outputs": []
    },
    {
      "cell_type": "code",
      "metadata": {
        "id": "8rxMx0COsVqL",
        "colab_type": "code",
        "outputId": "d81526c0-3954-4b27-8bbe-87fda3c8176e",
        "colab": {
          "base_uri": "https://localhost:8080/",
          "height": 307
        }
      },
      "source": [
        "measure_df.head(5)"
      ],
      "execution_count": 0,
      "outputs": [
        {
          "output_type": "execute_result",
          "data": {
            "text/html": [
              "<div>\n",
              "<style scoped>\n",
              "    .dataframe tbody tr th:only-of-type {\n",
              "        vertical-align: middle;\n",
              "    }\n",
              "\n",
              "    .dataframe tbody tr th {\n",
              "        vertical-align: top;\n",
              "    }\n",
              "\n",
              "    .dataframe thead th {\n",
              "        text-align: right;\n",
              "    }\n",
              "</style>\n",
              "<table border=\"1\" class=\"dataframe\">\n",
              "  <thead>\n",
              "    <tr style=\"text-align: right;\">\n",
              "      <th></th>\n",
              "      <th>person_id</th>\n",
              "      <th>visit_occurrence_id</th>\n",
              "      <th>year_of_birth</th>\n",
              "      <th>gender_source_value</th>\n",
              "      <th>ethnicity_concept_id</th>\n",
              "      <th>person_source_value</th>\n",
              "      <th>month_of_birth</th>\n",
              "      <th>day_of_birth</th>\n",
              "      <th>ethnicity_source_value</th>\n",
              "      <th>location_id</th>\n",
              "      <th>race_concept_id</th>\n",
              "      <th>gender_concept_id</th>\n",
              "      <th>birth_datetime</th>\n",
              "      <th>race_source_value</th>\n",
              "      <th>death_date</th>\n",
              "      <th>death_datetime</th>\n",
              "      <th>death_type_concept_id</th>\n",
              "      <th>cause_source_concept_id</th>\n",
              "      <th>provider_id</th>\n",
              "      <th>visit_start_date</th>\n",
              "      <th>care_site_id</th>\n",
              "      <th>visit_source_value</th>\n",
              "      <th>visit_end_date</th>\n",
              "      <th>visit_start_datetime</th>\n",
              "      <th>visit_concept_id</th>\n",
              "      <th>visit_type_concept_id</th>\n",
              "      <th>visit_end_datetime</th>\n",
              "      <th>measurement_id</th>\n",
              "      <th>measurement_datetime</th>\n",
              "      <th>measurement_date</th>\n",
              "      <th>value_as_number</th>\n",
              "      <th>value_as_concept_id</th>\n",
              "      <th>measurement_concept_id</th>\n",
              "      <th>measurement_source_concept_id</th>\n",
              "      <th>unit_concept_id</th>\n",
              "      <th>measurement_source_value</th>\n",
              "    </tr>\n",
              "  </thead>\n",
              "  <tbody>\n",
              "    <tr>\n",
              "      <th>0</th>\n",
              "      <td>5</td>\n",
              "      <td>4213630.0</td>\n",
              "      <td>1935</td>\n",
              "      <td>1</td>\n",
              "      <td>38003564</td>\n",
              "      <td>000308435E3E5B76</td>\n",
              "      <td>9</td>\n",
              "      <td>1</td>\n",
              "      <td>1</td>\n",
              "      <td>8</td>\n",
              "      <td>8557.0</td>\n",
              "      <td>8507</td>\n",
              "      <td>1935-09-01T00:00:00.000Z</td>\n",
              "      <td>1</td>\n",
              "      <td>NaN</td>\n",
              "      <td>NaN</td>\n",
              "      <td>NaN</td>\n",
              "      <td>NaN</td>\n",
              "      <td>68338.0</td>\n",
              "      <td>2009-01-09T00:00:00.000Z</td>\n",
              "      <td>2870.0</td>\n",
              "      <td>5.421323e+14</td>\n",
              "      <td>2009-01-09T00:00:00.000Z</td>\n",
              "      <td>2009-01-09T00:00:00.000Z</td>\n",
              "      <td>9202.0</td>\n",
              "      <td>44818517.0</td>\n",
              "      <td>2009-01-09T00:00:00.000Z</td>\n",
              "      <td>2659876.0</td>\n",
              "      <td>2012-07-03T15:42:00.000Z</td>\n",
              "      <td>2010-04-02T00:00:00.000Z</td>\n",
              "      <td>151.0</td>\n",
              "      <td>0.0</td>\n",
              "      <td>2212294.0</td>\n",
              "      <td>2212294.0</td>\n",
              "      <td>9514.0</td>\n",
              "      <td>82565</td>\n",
              "    </tr>\n",
              "    <tr>\n",
              "      <th>1</th>\n",
              "      <td>5</td>\n",
              "      <td>4213630.0</td>\n",
              "      <td>1935</td>\n",
              "      <td>1</td>\n",
              "      <td>38003564</td>\n",
              "      <td>000308435E3E5B76</td>\n",
              "      <td>9</td>\n",
              "      <td>1</td>\n",
              "      <td>1</td>\n",
              "      <td>8</td>\n",
              "      <td>8557.0</td>\n",
              "      <td>8507</td>\n",
              "      <td>1935-09-01T00:00:00.000Z</td>\n",
              "      <td>1</td>\n",
              "      <td>NaN</td>\n",
              "      <td>NaN</td>\n",
              "      <td>NaN</td>\n",
              "      <td>NaN</td>\n",
              "      <td>68338.0</td>\n",
              "      <td>2009-01-09T00:00:00.000Z</td>\n",
              "      <td>2870.0</td>\n",
              "      <td>5.421323e+14</td>\n",
              "      <td>2009-01-09T00:00:00.000Z</td>\n",
              "      <td>2009-01-09T00:00:00.000Z</td>\n",
              "      <td>9202.0</td>\n",
              "      <td>44818517.0</td>\n",
              "      <td>2009-01-09T00:00:00.000Z</td>\n",
              "      <td>790690.0</td>\n",
              "      <td>2016-02-23T00:00:00.000Z</td>\n",
              "      <td>2008-12-23T00:00:00.000Z</td>\n",
              "      <td>224.0</td>\n",
              "      <td>0.0</td>\n",
              "      <td>2212290.0</td>\n",
              "      <td>2212290.0</td>\n",
              "      <td>4118323.0</td>\n",
              "      <td>82550</td>\n",
              "    </tr>\n",
              "    <tr>\n",
              "      <th>2</th>\n",
              "      <td>5</td>\n",
              "      <td>4213630.0</td>\n",
              "      <td>1935</td>\n",
              "      <td>1</td>\n",
              "      <td>38003564</td>\n",
              "      <td>000308435E3E5B76</td>\n",
              "      <td>9</td>\n",
              "      <td>1</td>\n",
              "      <td>1</td>\n",
              "      <td>8</td>\n",
              "      <td>8557.0</td>\n",
              "      <td>8507</td>\n",
              "      <td>1935-09-01T00:00:00.000Z</td>\n",
              "      <td>1</td>\n",
              "      <td>NaN</td>\n",
              "      <td>NaN</td>\n",
              "      <td>NaN</td>\n",
              "      <td>NaN</td>\n",
              "      <td>68338.0</td>\n",
              "      <td>2009-01-09T00:00:00.000Z</td>\n",
              "      <td>2870.0</td>\n",
              "      <td>5.421323e+14</td>\n",
              "      <td>2009-01-09T00:00:00.000Z</td>\n",
              "      <td>2009-01-09T00:00:00.000Z</td>\n",
              "      <td>9202.0</td>\n",
              "      <td>44818517.0</td>\n",
              "      <td>2009-01-09T00:00:00.000Z</td>\n",
              "      <td>1109419.0</td>\n",
              "      <td>2012-11-13T00:00:00.000Z</td>\n",
              "      <td>2008-12-15T00:00:00.000Z</td>\n",
              "      <td>232.0</td>\n",
              "      <td>0.0</td>\n",
              "      <td>438857.0</td>\n",
              "      <td>44826972.0</td>\n",
              "      <td>8753.0</td>\n",
              "      <td>78191</td>\n",
              "    </tr>\n",
              "    <tr>\n",
              "      <th>3</th>\n",
              "      <td>5</td>\n",
              "      <td>4213630.0</td>\n",
              "      <td>1935</td>\n",
              "      <td>1</td>\n",
              "      <td>38003564</td>\n",
              "      <td>000308435E3E5B76</td>\n",
              "      <td>9</td>\n",
              "      <td>1</td>\n",
              "      <td>1</td>\n",
              "      <td>8</td>\n",
              "      <td>8557.0</td>\n",
              "      <td>8507</td>\n",
              "      <td>1935-09-01T00:00:00.000Z</td>\n",
              "      <td>1</td>\n",
              "      <td>NaN</td>\n",
              "      <td>NaN</td>\n",
              "      <td>NaN</td>\n",
              "      <td>NaN</td>\n",
              "      <td>68338.0</td>\n",
              "      <td>2009-01-09T00:00:00.000Z</td>\n",
              "      <td>2870.0</td>\n",
              "      <td>5.421323e+14</td>\n",
              "      <td>2009-01-09T00:00:00.000Z</td>\n",
              "      <td>2009-01-09T00:00:00.000Z</td>\n",
              "      <td>9202.0</td>\n",
              "      <td>44818517.0</td>\n",
              "      <td>2009-01-09T00:00:00.000Z</td>\n",
              "      <td>2261247.0</td>\n",
              "      <td>2013-03-17T00:00:00.000Z</td>\n",
              "      <td>2009-12-05T00:00:00.000Z</td>\n",
              "      <td>223.0</td>\n",
              "      <td>0.0</td>\n",
              "      <td>4034850.0</td>\n",
              "      <td>44835527.0</td>\n",
              "      <td>8862.0</td>\n",
              "      <td>V7260</td>\n",
              "    </tr>\n",
              "    <tr>\n",
              "      <th>4</th>\n",
              "      <td>5</td>\n",
              "      <td>4213630.0</td>\n",
              "      <td>1935</td>\n",
              "      <td>1</td>\n",
              "      <td>38003564</td>\n",
              "      <td>000308435E3E5B76</td>\n",
              "      <td>9</td>\n",
              "      <td>1</td>\n",
              "      <td>1</td>\n",
              "      <td>8</td>\n",
              "      <td>8557.0</td>\n",
              "      <td>8507</td>\n",
              "      <td>1935-09-01T00:00:00.000Z</td>\n",
              "      <td>1</td>\n",
              "      <td>NaN</td>\n",
              "      <td>NaN</td>\n",
              "      <td>NaN</td>\n",
              "      <td>NaN</td>\n",
              "      <td>68338.0</td>\n",
              "      <td>2009-01-09T00:00:00.000Z</td>\n",
              "      <td>2870.0</td>\n",
              "      <td>5.421323e+14</td>\n",
              "      <td>2009-01-09T00:00:00.000Z</td>\n",
              "      <td>2009-01-09T00:00:00.000Z</td>\n",
              "      <td>9202.0</td>\n",
              "      <td>44818517.0</td>\n",
              "      <td>2009-01-09T00:00:00.000Z</td>\n",
              "      <td>3587049.0</td>\n",
              "      <td>2012-07-03T11:45:00.000Z</td>\n",
              "      <td>2008-03-21T00:00:00.000Z</td>\n",
              "      <td>263.0</td>\n",
              "      <td>0.0</td>\n",
              "      <td>2212731.0</td>\n",
              "      <td>2212731.0</td>\n",
              "      <td>4118323.0</td>\n",
              "      <td>85610</td>\n",
              "    </tr>\n",
              "  </tbody>\n",
              "</table>\n",
              "</div>"
            ],
            "text/plain": [
              "   person_id  visit_occurrence_id  ...  unit_concept_id  measurement_source_value\n",
              "0          5            4213630.0  ...           9514.0                     82565\n",
              "1          5            4213630.0  ...        4118323.0                     82550\n",
              "2          5            4213630.0  ...           8753.0                     78191\n",
              "3          5            4213630.0  ...           8862.0                     V7260\n",
              "4          5            4213630.0  ...        4118323.0                     85610\n",
              "\n",
              "[5 rows x 36 columns]"
            ]
          },
          "metadata": {
            "tags": []
          },
          "execution_count": 5
        }
      ]
    },
    {
      "cell_type": "markdown",
      "metadata": {
        "id": "LFW81z642ZTU",
        "colab_type": "text"
      },
      "source": [
        "## data preprocessing"
      ]
    },
    {
      "cell_type": "code",
      "metadata": {
        "id": "8eG0PmP6s_8u",
        "colab_type": "code",
        "colab": {}
      },
      "source": [
        "persondrop = ['person_source_value','ethnicity_source_value', 'gender_source_value','location_id','birth_datetime', 'race_source_value', 'care_site_id', 'provider_id']\n",
        "visitdrop = ['visit_source_value','visit_start_date','visit_end_date','visit_start_datetime','visit_end_datetime']\n",
        "measuredrop = ['measurement_source_value', 'measurement_source_concept_id', 'measurement_date']"
      ],
      "execution_count": 0,
      "outputs": []
    },
    {
      "cell_type": "code",
      "metadata": {
        "id": "wlkXAOia21ob",
        "colab_type": "code",
        "colab": {}
      },
      "source": [
        "measure_df=measure_df.drop(columns='gender_source_value')"
      ],
      "execution_count": 0,
      "outputs": []
    },
    {
      "cell_type": "code",
      "metadata": {
        "id": "ezpvTFcEzr0j",
        "colab_type": "code",
        "colab": {}
      },
      "source": [
        "measure_df=measure_df.drop(columns=persondrop)\n",
        "measure_df=measure_df.drop(columns=visitdrop)\n",
        "measure_df=measure_df.drop(columns=measuredrop)"
      ],
      "execution_count": 0,
      "outputs": []
    },
    {
      "cell_type": "code",
      "metadata": {
        "id": "abAeNGaZ0Hrt",
        "colab_type": "code",
        "colab": {}
      },
      "source": [
        "measure_df.loc[pd.isnull(measure_df['death_date']) , 'death'] = 0\n",
        "measure_df.loc[pd.isnull(measure_df['death_date'])==False , 'death'] = 1"
      ],
      "execution_count": 0,
      "outputs": []
    },
    {
      "cell_type": "code",
      "metadata": {
        "id": "iRNJbzcA1yZk",
        "colab_type": "code",
        "colab": {}
      },
      "source": [
        "deathdrop=['death_date','death_datetime','death_type_concept_id','cause_source_concept_id']\n",
        "measure_df=measure_df.drop(columns=deathdrop)"
      ],
      "execution_count": 0,
      "outputs": []
    },
    {
      "cell_type": "code",
      "metadata": {
        "id": "PEgUwVvo1_u0",
        "colab_type": "code",
        "outputId": "8cbca802-08c0-43fb-bd59-55d73b266528",
        "colab": {
          "base_uri": "https://localhost:8080/",
          "height": 307
        }
      },
      "source": [
        "measure_df.head(5)"
      ],
      "execution_count": 0,
      "outputs": [
        {
          "output_type": "execute_result",
          "data": {
            "text/html": [
              "<div>\n",
              "<style scoped>\n",
              "    .dataframe tbody tr th:only-of-type {\n",
              "        vertical-align: middle;\n",
              "    }\n",
              "\n",
              "    .dataframe tbody tr th {\n",
              "        vertical-align: top;\n",
              "    }\n",
              "\n",
              "    .dataframe thead th {\n",
              "        text-align: right;\n",
              "    }\n",
              "</style>\n",
              "<table border=\"1\" class=\"dataframe\">\n",
              "  <thead>\n",
              "    <tr style=\"text-align: right;\">\n",
              "      <th></th>\n",
              "      <th>person_id</th>\n",
              "      <th>visit_occurrence_id</th>\n",
              "      <th>year_of_birth</th>\n",
              "      <th>ethnicity_concept_id</th>\n",
              "      <th>month_of_birth</th>\n",
              "      <th>day_of_birth</th>\n",
              "      <th>race_concept_id</th>\n",
              "      <th>gender_concept_id</th>\n",
              "      <th>visit_concept_id</th>\n",
              "      <th>visit_type_concept_id</th>\n",
              "      <th>measurement_id</th>\n",
              "      <th>measurement_datetime</th>\n",
              "      <th>value_as_number</th>\n",
              "      <th>value_as_concept_id</th>\n",
              "      <th>measurement_concept_id</th>\n",
              "      <th>unit_concept_id</th>\n",
              "      <th>death</th>\n",
              "    </tr>\n",
              "  </thead>\n",
              "  <tbody>\n",
              "    <tr>\n",
              "      <th>0</th>\n",
              "      <td>5</td>\n",
              "      <td>4213630.0</td>\n",
              "      <td>1935</td>\n",
              "      <td>38003564</td>\n",
              "      <td>9</td>\n",
              "      <td>1</td>\n",
              "      <td>8557.0</td>\n",
              "      <td>8507</td>\n",
              "      <td>9202.0</td>\n",
              "      <td>44818517.0</td>\n",
              "      <td>2659876.0</td>\n",
              "      <td>2012-07-03T15:42:00.000Z</td>\n",
              "      <td>151.0</td>\n",
              "      <td>0.0</td>\n",
              "      <td>2212294.0</td>\n",
              "      <td>9514.0</td>\n",
              "      <td>0.0</td>\n",
              "    </tr>\n",
              "    <tr>\n",
              "      <th>1</th>\n",
              "      <td>5</td>\n",
              "      <td>4213630.0</td>\n",
              "      <td>1935</td>\n",
              "      <td>38003564</td>\n",
              "      <td>9</td>\n",
              "      <td>1</td>\n",
              "      <td>8557.0</td>\n",
              "      <td>8507</td>\n",
              "      <td>9202.0</td>\n",
              "      <td>44818517.0</td>\n",
              "      <td>790690.0</td>\n",
              "      <td>2016-02-23T00:00:00.000Z</td>\n",
              "      <td>224.0</td>\n",
              "      <td>0.0</td>\n",
              "      <td>2212290.0</td>\n",
              "      <td>4118323.0</td>\n",
              "      <td>0.0</td>\n",
              "    </tr>\n",
              "    <tr>\n",
              "      <th>2</th>\n",
              "      <td>5</td>\n",
              "      <td>4213630.0</td>\n",
              "      <td>1935</td>\n",
              "      <td>38003564</td>\n",
              "      <td>9</td>\n",
              "      <td>1</td>\n",
              "      <td>8557.0</td>\n",
              "      <td>8507</td>\n",
              "      <td>9202.0</td>\n",
              "      <td>44818517.0</td>\n",
              "      <td>1109419.0</td>\n",
              "      <td>2012-11-13T00:00:00.000Z</td>\n",
              "      <td>232.0</td>\n",
              "      <td>0.0</td>\n",
              "      <td>438857.0</td>\n",
              "      <td>8753.0</td>\n",
              "      <td>0.0</td>\n",
              "    </tr>\n",
              "    <tr>\n",
              "      <th>3</th>\n",
              "      <td>5</td>\n",
              "      <td>4213630.0</td>\n",
              "      <td>1935</td>\n",
              "      <td>38003564</td>\n",
              "      <td>9</td>\n",
              "      <td>1</td>\n",
              "      <td>8557.0</td>\n",
              "      <td>8507</td>\n",
              "      <td>9202.0</td>\n",
              "      <td>44818517.0</td>\n",
              "      <td>2261247.0</td>\n",
              "      <td>2013-03-17T00:00:00.000Z</td>\n",
              "      <td>223.0</td>\n",
              "      <td>0.0</td>\n",
              "      <td>4034850.0</td>\n",
              "      <td>8862.0</td>\n",
              "      <td>0.0</td>\n",
              "    </tr>\n",
              "    <tr>\n",
              "      <th>4</th>\n",
              "      <td>5</td>\n",
              "      <td>4213630.0</td>\n",
              "      <td>1935</td>\n",
              "      <td>38003564</td>\n",
              "      <td>9</td>\n",
              "      <td>1</td>\n",
              "      <td>8557.0</td>\n",
              "      <td>8507</td>\n",
              "      <td>9202.0</td>\n",
              "      <td>44818517.0</td>\n",
              "      <td>3587049.0</td>\n",
              "      <td>2012-07-03T11:45:00.000Z</td>\n",
              "      <td>263.0</td>\n",
              "      <td>0.0</td>\n",
              "      <td>2212731.0</td>\n",
              "      <td>4118323.0</td>\n",
              "      <td>0.0</td>\n",
              "    </tr>\n",
              "  </tbody>\n",
              "</table>\n",
              "</div>"
            ],
            "text/plain": [
              "   person_id  visit_occurrence_id  ...  unit_concept_id  death\n",
              "0          5            4213630.0  ...           9514.0    0.0\n",
              "1          5            4213630.0  ...        4118323.0    0.0\n",
              "2          5            4213630.0  ...           8753.0    0.0\n",
              "3          5            4213630.0  ...           8862.0    0.0\n",
              "4          5            4213630.0  ...        4118323.0    0.0\n",
              "\n",
              "[5 rows x 17 columns]"
            ]
          },
          "metadata": {
            "tags": []
          },
          "execution_count": 14
        }
      ]
    },
    {
      "cell_type": "code",
      "metadata": {
        "id": "jZhu0SCC2NmT",
        "colab_type": "code",
        "colab": {}
      },
      "source": [
        "## change the types of columns\n",
        "categorical= ['person_id','visit_occurrence_id','ethnicity_concept_id','race_concept_id','gender_concept_id',\n",
        "             'visit_concept_id','visit_type_concept_id','measurement_id','measurement_concept_id',\n",
        "             'value_as_concept_id','unit_concept_id']\n",
        "for col in categorical:\n",
        "    measure_df[col] = measure_df[col].astype('object')\n",
        "measure_df['death'] = measure_df['death'].astype(int)"
      ],
      "execution_count": 0,
      "outputs": []
    },
    {
      "cell_type": "markdown",
      "metadata": {
        "id": "ZZuMAYM_pO8B",
        "colab_type": "text"
      },
      "source": [
        "## exploration"
      ]
    },
    {
      "cell_type": "code",
      "metadata": {
        "id": "VZF5VhjU4ZVt",
        "colab_type": "code",
        "outputId": "f89e30b3-65be-4a22-b733-6ea6d2e37bc6",
        "colab": {
          "base_uri": "https://localhost:8080/",
          "height": 568
        }
      },
      "source": [
        "percent_missing = measure_df.isnull().sum() * 100 / len(measure_df)\n",
        "missing_value_df = pd.DataFrame({'column_name': measure_df.columns,\n",
        "                                 'percent_missing': percent_missing})\n",
        "missing_value_df"
      ],
      "execution_count": 0,
      "outputs": [
        {
          "output_type": "execute_result",
          "data": {
            "text/html": [
              "<div>\n",
              "<style scoped>\n",
              "    .dataframe tbody tr th:only-of-type {\n",
              "        vertical-align: middle;\n",
              "    }\n",
              "\n",
              "    .dataframe tbody tr th {\n",
              "        vertical-align: top;\n",
              "    }\n",
              "\n",
              "    .dataframe thead th {\n",
              "        text-align: right;\n",
              "    }\n",
              "</style>\n",
              "<table border=\"1\" class=\"dataframe\">\n",
              "  <thead>\n",
              "    <tr style=\"text-align: right;\">\n",
              "      <th></th>\n",
              "      <th>column_name</th>\n",
              "      <th>percent_missing</th>\n",
              "    </tr>\n",
              "  </thead>\n",
              "  <tbody>\n",
              "    <tr>\n",
              "      <th>person_id</th>\n",
              "      <td>person_id</td>\n",
              "      <td>0.000000</td>\n",
              "    </tr>\n",
              "    <tr>\n",
              "      <th>visit_occurrence_id</th>\n",
              "      <td>visit_occurrence_id</td>\n",
              "      <td>0.000017</td>\n",
              "    </tr>\n",
              "    <tr>\n",
              "      <th>year_of_birth</th>\n",
              "      <td>year_of_birth</td>\n",
              "      <td>0.000000</td>\n",
              "    </tr>\n",
              "    <tr>\n",
              "      <th>ethnicity_concept_id</th>\n",
              "      <td>ethnicity_concept_id</td>\n",
              "      <td>0.000000</td>\n",
              "    </tr>\n",
              "    <tr>\n",
              "      <th>month_of_birth</th>\n",
              "      <td>month_of_birth</td>\n",
              "      <td>0.000000</td>\n",
              "    </tr>\n",
              "    <tr>\n",
              "      <th>day_of_birth</th>\n",
              "      <td>day_of_birth</td>\n",
              "      <td>0.000000</td>\n",
              "    </tr>\n",
              "    <tr>\n",
              "      <th>race_concept_id</th>\n",
              "      <td>race_concept_id</td>\n",
              "      <td>13.544205</td>\n",
              "    </tr>\n",
              "    <tr>\n",
              "      <th>gender_concept_id</th>\n",
              "      <td>gender_concept_id</td>\n",
              "      <td>0.000000</td>\n",
              "    </tr>\n",
              "    <tr>\n",
              "      <th>visit_concept_id</th>\n",
              "      <td>visit_concept_id</td>\n",
              "      <td>0.000017</td>\n",
              "    </tr>\n",
              "    <tr>\n",
              "      <th>visit_type_concept_id</th>\n",
              "      <td>visit_type_concept_id</td>\n",
              "      <td>0.000017</td>\n",
              "    </tr>\n",
              "    <tr>\n",
              "      <th>measurement_id</th>\n",
              "      <td>measurement_id</td>\n",
              "      <td>5.556941</td>\n",
              "    </tr>\n",
              "    <tr>\n",
              "      <th>measurement_datetime</th>\n",
              "      <td>measurement_datetime</td>\n",
              "      <td>5.580081</td>\n",
              "    </tr>\n",
              "    <tr>\n",
              "      <th>value_as_number</th>\n",
              "      <td>value_as_number</td>\n",
              "      <td>5.865692</td>\n",
              "    </tr>\n",
              "    <tr>\n",
              "      <th>value_as_concept_id</th>\n",
              "      <td>value_as_concept_id</td>\n",
              "      <td>5.556941</td>\n",
              "    </tr>\n",
              "    <tr>\n",
              "      <th>measurement_concept_id</th>\n",
              "      <td>measurement_concept_id</td>\n",
              "      <td>5.556941</td>\n",
              "    </tr>\n",
              "    <tr>\n",
              "      <th>unit_concept_id</th>\n",
              "      <td>unit_concept_id</td>\n",
              "      <td>8.423164</td>\n",
              "    </tr>\n",
              "    <tr>\n",
              "      <th>death</th>\n",
              "      <td>death</td>\n",
              "      <td>0.000000</td>\n",
              "    </tr>\n",
              "  </tbody>\n",
              "</table>\n",
              "</div>"
            ],
            "text/plain": [
              "                                   column_name  percent_missing\n",
              "person_id                            person_id         0.000000\n",
              "visit_occurrence_id        visit_occurrence_id         0.000017\n",
              "year_of_birth                    year_of_birth         0.000000\n",
              "ethnicity_concept_id      ethnicity_concept_id         0.000000\n",
              "month_of_birth                  month_of_birth         0.000000\n",
              "day_of_birth                      day_of_birth         0.000000\n",
              "race_concept_id                race_concept_id        13.544205\n",
              "gender_concept_id            gender_concept_id         0.000000\n",
              "visit_concept_id              visit_concept_id         0.000017\n",
              "visit_type_concept_id    visit_type_concept_id         0.000017\n",
              "measurement_id                  measurement_id         5.556941\n",
              "measurement_datetime      measurement_datetime         5.580081\n",
              "value_as_number                value_as_number         5.865692\n",
              "value_as_concept_id        value_as_concept_id         5.556941\n",
              "measurement_concept_id  measurement_concept_id         5.556941\n",
              "unit_concept_id                unit_concept_id         8.423164\n",
              "death                                    death         0.000000"
            ]
          },
          "metadata": {
            "tags": []
          },
          "execution_count": 16
        }
      ]
    },
    {
      "cell_type": "code",
      "metadata": {
        "id": "_g_uCwzh4ZKB",
        "colab_type": "code",
        "outputId": "31e6650d-649d-4fdb-d1d5-2f2e05a8b94b",
        "colab": {
          "base_uri": "https://localhost:8080/",
          "height": 241
        }
      },
      "source": [
        "measure_df.select_dtypes('object').apply(pd.Series.nunique, axis = 0)"
      ],
      "execution_count": 0,
      "outputs": [
        {
          "output_type": "execute_result",
          "data": {
            "text/plain": [
              "person_id                   97918\n",
              "visit_occurrence_id        943947\n",
              "ethnicity_concept_id            2\n",
              "race_concept_id                 6\n",
              "gender_concept_id               2\n",
              "visit_concept_id                3\n",
              "visit_type_concept_id           1\n",
              "measurement_id            2213395\n",
              "measurement_datetime         3971\n",
              "value_as_concept_id             1\n",
              "measurement_concept_id       1019\n",
              "unit_concept_id                32\n",
              "dtype: int64"
            ]
          },
          "metadata": {
            "tags": []
          },
          "execution_count": 17
        }
      ]
    },
    {
      "cell_type": "markdown",
      "metadata": {
        "id": "53SaSy9U9gWY",
        "colab_type": "text"
      },
      "source": [
        "### Demographic information"
      ]
    },
    {
      "cell_type": "code",
      "metadata": {
        "id": "H0ISuAPS7rGz",
        "colab_type": "code",
        "outputId": "7adc1376-2f44-4907-aac0-44deca342353",
        "colab": {
          "base_uri": "https://localhost:8080/",
          "height": 325
        }
      },
      "source": [
        "plt.style.use('fivethirtyeight')\n",
        "\n",
        "# Plot the distribution of ages in years\n",
        "plt.hist(measure_df['year_of_birth'], edgecolor = 'k', bins = 25)\n",
        "plt.title('Age of Patient'); plt.xlabel('Year of birth'); plt.ylabel('Count');"
      ],
      "execution_count": 0,
      "outputs": [
        {
          "output_type": "display_data",
          "data": {
            "image/png": "[encoded data removed]",
            "text/plain": [
              "<Figure size 432x288 with 1 Axes>"
            ]
          },
          "metadata": {
            "tags": []
          }
        }
      ]
    },
    {
      "cell_type": "code",
      "metadata": {
        "id": "pDEXXo-27r0l",
        "colab_type": "code",
        "outputId": "861326b2-64f0-40b4-b1d9-1e2da4a114f8",
        "colab": {
          "base_uri": "https://localhost:8080/",
          "height": 558
        }
      },
      "source": [
        "plt.figure(figsize = (10, 8))\n",
        "\n",
        "# KDE plot of loans that were repaid on time\n",
        "sns.kdeplot(measure_df.loc[measure_df['death'] == 0, 'year_of_birth'], label = 'target == 0')\n",
        "\n",
        "# KDE plot of loans which were not repaid on time\n",
        "sns.kdeplot(measure_df.loc[measure_df['death'] == 1, 'year_of_birth'], label = 'target == 1')\n",
        "\n",
        "# Labeling of plot\n",
        "plt.xlabel('Year of birth'); plt.ylabel('Density'); plt.title('Distribution of Ages');"
      ],
      "execution_count": 0,
      "outputs": [
        {
          "output_type": "display_data",
          "data": {
            "image/png": "[encoded data removed]",
            "text/plain": [
              "<Figure size 720x576 with 1 Axes>"
            ]
          },
          "metadata": {
            "tags": []
          }
        }
      ]
    },
    {
      "cell_type": "code",
      "metadata": {
        "id": "51Pzlr_M7sq-",
        "colab_type": "code",
        "outputId": "a618d6f8-9d52-4964-8f6d-a00d831bf53b",
        "colab": {
          "base_uri": "https://localhost:8080/",
          "height": 508
        }
      },
      "source": [
        "# Age information into a separate dataframe\n",
        "age_data = measure_df[['death', 'year_of_birth']]\n",
        "\n",
        "# Bin the age data\n",
        "age_data['YEARS_BINNED'] = pd.cut(age_data['year_of_birth'], bins = np.linspace(1900, 2000, num = 11))\n",
        "age_groups  = age_data.groupby('YEARS_BINNED').mean()\n",
        "age_groups"
      ],
      "execution_count": 0,
      "outputs": [
        {
          "output_type": "stream",
          "text": [
            "/usr/local/lib/python3.6/dist-packages/ipykernel_launcher.py:4: SettingWithCopyWarning: \n",
            "A value is trying to be set on a copy of a slice from a DataFrame.\n",
            "Try using .loc[row_indexer,col_indexer] = value instead\n",
            "\n",
            "See the caveats in the documentation: http://pandas.pydata.org/pandas-docs/stable/user_guide/indexing.html#returning-a-view-versus-a-copy\n",
            "  after removing the cwd from sys.path.\n"
          ],
          "name": "stderr"
        },
        {
          "output_type": "execute_result",
          "data": {
            "text/html": [
              "<div>\n",
              "<style scoped>\n",
              "    .dataframe tbody tr th:only-of-type {\n",
              "        vertical-align: middle;\n",
              "    }\n",
              "\n",
              "    .dataframe tbody tr th {\n",
              "        vertical-align: top;\n",
              "    }\n",
              "\n",
              "    .dataframe thead th {\n",
              "        text-align: right;\n",
              "    }\n",
              "</style>\n",
              "<table border=\"1\" class=\"dataframe\">\n",
              "  <thead>\n",
              "    <tr style=\"text-align: right;\">\n",
              "      <th></th>\n",
              "      <th>death</th>\n",
              "      <th>year_of_birth</th>\n",
              "    </tr>\n",
              "    <tr>\n",
              "      <th>YEARS_BINNED</th>\n",
              "      <th></th>\n",
              "      <th></th>\n",
              "    </tr>\n",
              "  </thead>\n",
              "  <tbody>\n",
              "    <tr>\n",
              "      <th>(1900.0, 1910.0]</th>\n",
              "      <td>0.000769</td>\n",
              "      <td>1909.471426</td>\n",
              "    </tr>\n",
              "    <tr>\n",
              "      <th>(1910.0, 1920.0]</th>\n",
              "      <td>0.004098</td>\n",
              "      <td>1916.659975</td>\n",
              "    </tr>\n",
              "    <tr>\n",
              "      <th>(1920.0, 1930.0]</th>\n",
              "      <td>0.009183</td>\n",
              "      <td>1926.141644</td>\n",
              "    </tr>\n",
              "    <tr>\n",
              "      <th>(1930.0, 1940.0]</th>\n",
              "      <td>0.015001</td>\n",
              "      <td>1935.860721</td>\n",
              "    </tr>\n",
              "    <tr>\n",
              "      <th>(1940.0, 1950.0]</th>\n",
              "      <td>0.006678</td>\n",
              "      <td>1943.419201</td>\n",
              "    </tr>\n",
              "    <tr>\n",
              "      <th>(1950.0, 1960.0]</th>\n",
              "      <td>0.005856</td>\n",
              "      <td>1955.275167</td>\n",
              "    </tr>\n",
              "    <tr>\n",
              "      <th>(1960.0, 1970.0]</th>\n",
              "      <td>0.018415</td>\n",
              "      <td>1964.727143</td>\n",
              "    </tr>\n",
              "    <tr>\n",
              "      <th>(1970.0, 1980.0]</th>\n",
              "      <td>0.001553</td>\n",
              "      <td>1974.768383</td>\n",
              "    </tr>\n",
              "    <tr>\n",
              "      <th>(1980.0, 1990.0]</th>\n",
              "      <td>0.001690</td>\n",
              "      <td>1982.258666</td>\n",
              "    </tr>\n",
              "    <tr>\n",
              "      <th>(1990.0, 2000.0]</th>\n",
              "      <td>NaN</td>\n",
              "      <td>NaN</td>\n",
              "    </tr>\n",
              "  </tbody>\n",
              "</table>\n",
              "</div>"
            ],
            "text/plain": [
              "                     death  year_of_birth\n",
              "YEARS_BINNED                             \n",
              "(1900.0, 1910.0]  0.000769    1909.471426\n",
              "(1910.0, 1920.0]  0.004098    1916.659975\n",
              "(1920.0, 1930.0]  0.009183    1926.141644\n",
              "(1930.0, 1940.0]  0.015001    1935.860721\n",
              "(1940.0, 1950.0]  0.006678    1943.419201\n",
              "(1950.0, 1960.0]  0.005856    1955.275167\n",
              "(1960.0, 1970.0]  0.018415    1964.727143\n",
              "(1970.0, 1980.0]  0.001553    1974.768383\n",
              "(1980.0, 1990.0]  0.001690    1982.258666\n",
              "(1990.0, 2000.0]       NaN            NaN"
            ]
          },
          "metadata": {
            "tags": []
          },
          "execution_count": 20
        }
      ]
    },
    {
      "cell_type": "code",
      "metadata": {
        "id": "xiKtacLP9Fs4",
        "colab_type": "code",
        "outputId": "0a47ecdd-d19c-4056-da30-dd30d358b453",
        "colab": {
          "base_uri": "https://localhost:8080/",
          "height": 661
        }
      },
      "source": [
        "plt.figure(figsize = (8, 8))\n",
        "\n",
        "# Graph the age bins and the average of the target as a bar plot\n",
        "plt.bar(age_groups.index.astype(str), 100 * age_groups['death'])\n",
        "\n",
        "# Plot labeling\n",
        "plt.xticks(rotation = 75); plt.xlabel('Age Group (birth year)'); plt.ylabel('Death (%)')\n",
        "plt.title('Death by Age Group');"
      ],
      "execution_count": 0,
      "outputs": [
        {
          "output_type": "display_data",
          "data": {
            "image/png": "[encoded data removed]",
            "text/plain": [
              "<Figure size 576x576 with 1 Axes>"
            ]
          },
          "metadata": {
            "tags": []
          }
        }
      ]
    },
    {
      "cell_type": "code",
      "metadata": {
        "id": "7rbcoj-g9J-U",
        "colab_type": "code",
        "outputId": "4c82fd62-d5ac-40b2-96ad-dcc46b5f91f4",
        "colab": {
          "base_uri": "https://localhost:8080/",
          "height": 140
        }
      },
      "source": [
        "# Age information into a separate dataframe\n",
        "gender_data = measure_df[['death', 'gender_concept_id']]\n",
        "\n",
        "# Bin the age data\n",
        "gender_groups  = gender_data.groupby('gender_concept_id').mean()\n",
        "gender_groups"
      ],
      "execution_count": 0,
      "outputs": [
        {
          "output_type": "execute_result",
          "data": {
            "text/html": [
              "<div>\n",
              "<style scoped>\n",
              "    .dataframe tbody tr th:only-of-type {\n",
              "        vertical-align: middle;\n",
              "    }\n",
              "\n",
              "    .dataframe tbody tr th {\n",
              "        vertical-align: top;\n",
              "    }\n",
              "\n",
              "    .dataframe thead th {\n",
              "        text-align: right;\n",
              "    }\n",
              "</style>\n",
              "<table border=\"1\" class=\"dataframe\">\n",
              "  <thead>\n",
              "    <tr style=\"text-align: right;\">\n",
              "      <th></th>\n",
              "      <th>death</th>\n",
              "    </tr>\n",
              "    <tr>\n",
              "      <th>gender_concept_id</th>\n",
              "      <th></th>\n",
              "    </tr>\n",
              "  </thead>\n",
              "  <tbody>\n",
              "    <tr>\n",
              "      <th>8507</th>\n",
              "      <td>0.010211</td>\n",
              "    </tr>\n",
              "    <tr>\n",
              "      <th>8532</th>\n",
              "      <td>0.010584</td>\n",
              "    </tr>\n",
              "  </tbody>\n",
              "</table>\n",
              "</div>"
            ],
            "text/plain": [
              "                      death\n",
              "gender_concept_id          \n",
              "8507               0.010211\n",
              "8532               0.010584"
            ]
          },
          "metadata": {
            "tags": []
          },
          "execution_count": 22
        }
      ]
    },
    {
      "cell_type": "code",
      "metadata": {
        "id": "-4PGAMBy9rW3",
        "colab_type": "code",
        "outputId": "298abeba-944c-407f-a692-7dea67b57018",
        "colab": {
          "base_uri": "https://localhost:8080/",
          "height": 582
        }
      },
      "source": [
        "plt.figure(figsize = (8, 8))\n",
        "\n",
        "# Graph the age bins and the average of the target as a bar plot\n",
        "plt.bar(gender_groups.index.astype(str), 100 * gender_groups['death'])\n",
        "\n",
        "# Plot labeling\n",
        "plt.xticks(rotation = 75); plt.xlabel('Gender Group'); plt.ylabel('Death (%)')\n",
        "plt.title('Death by Gender Group');"
      ],
      "execution_count": 0,
      "outputs": [
        {
          "output_type": "display_data",
          "data": {
            "image/png": "[encoded data removed]",
            "text/plain": [
              "<Figure size 576x576 with 1 Axes>"
            ]
          },
          "metadata": {
            "tags": []
          }
        }
      ]
    },
    {
      "cell_type": "markdown",
      "metadata": {
        "id": "Hiyba69R971n",
        "colab_type": "text"
      },
      "source": [
        "### about measurement info"
      ]
    },
    {
      "cell_type": "code",
      "metadata": {
        "id": "tYSqssgR9_P2",
        "colab_type": "code",
        "outputId": "81cfa48a-a8b4-4e28-917c-aad42e90964a",
        "colab": {
          "base_uri": "https://localhost:8080/",
          "height": 289
        }
      },
      "source": [
        "## for measurement value in each unit\n",
        "g = sns.FacetGrid(measure_df, col='unit_concept_id')\n",
        "g.map(sns.boxplot, 'death','value_as_number')"
      ],
      "execution_count": 0,
      "outputs": [
        {
          "output_type": "stream",
          "text": [
            "/usr/local/lib/python3.6/dist-packages/seaborn/axisgrid.py:715: UserWarning: Using the boxplot function without specifying `order` is likely to produce an incorrect plot.\n",
            "  warnings.warn(warning)\n"
          ],
          "name": "stderr"
        },
        {
          "output_type": "execute_result",
          "data": {
            "text/plain": [
              "<seaborn.axisgrid.FacetGrid at 0x7fbd89149cf8>"
            ]
          },
          "metadata": {
            "tags": []
          },
          "execution_count": 41
        },
        {
          "output_type": "display_data",
          "data": {
            "image/png": "[encoded data removed]",
            "text/plain": [
              "<Figure size 6912x216 with 32 Axes>"
            ]
          },
          "metadata": {
            "tags": []
          }
        }
      ]
    },
    {
      "cell_type": "code",
      "metadata": {
        "id": "bl9Uvw2yFGdS",
        "colab_type": "code",
        "colab": {}
      },
      "source": [
        "measure_df.loc[measure_df['value_as_number']> 100000 , 'value_as_number'] =None ##delete the extreme values"
      ],
      "execution_count": 0,
      "outputs": []
    },
    {
      "cell_type": "code",
      "metadata": {
        "id": "t4VCAy_z9_B0",
        "colab_type": "code",
        "outputId": "915bd42e-5942-4410-f5db-4adbadbd1d33",
        "colab": {
          "base_uri": "https://localhost:8080/",
          "height": 321
        }
      },
      "source": [
        "sns.boxplot(x = 'death', y = 'value_as_number', data = measure_df)"
      ],
      "execution_count": 0,
      "outputs": [
        {
          "output_type": "execute_result",
          "data": {
            "text/plain": [
              "<matplotlib.axes._subplots.AxesSubplot at 0x7fbd8e439ef0>"
            ]
          },
          "metadata": {
            "tags": []
          },
          "execution_count": 34
        },
        {
          "output_type": "display_data",
          "data": {
            "image/png": "[encoded data removed]",
            "text/plain": [
              "<Figure size 432x288 with 1 Axes>"
            ]
          },
          "metadata": {
            "tags": []
          }
        }
      ]
    },
    {
      "cell_type": "code",
      "metadata": {
        "id": "UKSrSrf3NF94",
        "colab_type": "code",
        "outputId": "b28947f8-53ad-4ac6-c59e-89432b5a9a36",
        "colab": {
          "base_uri": "https://localhost:8080/",
          "height": 34
        }
      },
      "source": [
        "type(measure_df.measurement_datetime)"
      ],
      "execution_count": 0,
      "outputs": [
        {
          "output_type": "execute_result",
          "data": {
            "text/plain": [
              "pandas.core.series.Series"
            ]
          },
          "metadata": {
            "tags": []
          },
          "execution_count": 43
        }
      ]
    },
    {
      "cell_type": "code",
      "metadata": {
        "id": "ZFu4blNcNGwV",
        "colab_type": "code",
        "colab": {}
      },
      "source": [
        "measure_df['measure_date']= measure_df.measurement_datetime.dt.date"
      ],
      "execution_count": 0,
      "outputs": []
    },
    {
      "cell_type": "code",
      "metadata": {
        "id": "kgPQVrliNGky",
        "colab_type": "code",
        "colab": {}
      },
      "source": [
        ""
      ],
      "execution_count": 0,
      "outputs": []
    },
    {
      "cell_type": "code",
      "metadata": {
        "id": "7XoG6sRxNGZQ",
        "colab_type": "code",
        "colab": {}
      },
      "source": [
        ""
      ],
      "execution_count": 0,
      "outputs": []
    },
    {
      "cell_type": "code",
      "metadata": {
        "id": "Pa3tb_Wz-J1R",
        "colab_type": "code",
        "colab": {}
      },
      "source": [
        "measure_df.to_csv(\"measure2.csv\")"
      ],
      "execution_count": 0,
      "outputs": []
    },
    {
      "cell_type": "code",
      "metadata": {
        "id": "b4immDo_Evyp",
        "colab_type": "code",
        "outputId": "cdc8339a-2f13-446d-ada0-aa17b32d95bd",
        "colab": {
          "base_uri": "https://localhost:8080/",
          "height": 895
        }
      },
      "source": [
        "measure_df.value_as_number.head(50)"
      ],
      "execution_count": 0,
      "outputs": [
        {
          "output_type": "execute_result",
          "data": {
            "text/plain": [
              "0     151.0\n",
              "1     224.0\n",
              "2     232.0\n",
              "3     223.0\n",
              "4     263.0\n",
              "5     316.0\n",
              "6       9.0\n",
              "7     201.0\n",
              "8      42.0\n",
              "9     270.0\n",
              "10    249.0\n",
              "11    271.0\n",
              "12    237.0\n",
              "13    272.0\n",
              "14    127.0\n",
              "15     44.0\n",
              "16    104.0\n",
              "17    128.0\n",
              "18     33.0\n",
              "19     91.0\n",
              "20    233.0\n",
              "21     47.0\n",
              "22     47.0\n",
              "23    173.0\n",
              "24    149.0\n",
              "25    312.0\n",
              "26    299.0\n",
              "27    105.0\n",
              "28     18.0\n",
              "29    222.0\n",
              "30    212.0\n",
              "31     49.0\n",
              "32    162.0\n",
              "33    101.0\n",
              "34    161.0\n",
              "35      NaN\n",
              "36     87.0\n",
              "37    289.0\n",
              "38     26.0\n",
              "39    205.0\n",
              "40     69.0\n",
              "41     67.0\n",
              "42    267.0\n",
              "43    199.0\n",
              "44    212.0\n",
              "45    113.0\n",
              "46    290.0\n",
              "47     63.0\n",
              "48     78.0\n",
              "49      NaN\n",
              "Name: value_as_number, dtype: float64"
            ]
          },
          "metadata": {
            "tags": []
          },
          "execution_count": 28
        }
      ]
    }
  ]
}