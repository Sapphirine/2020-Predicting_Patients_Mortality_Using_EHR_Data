{
  "nbformat": 4,
  "nbformat_minor": 0,
  "metadata": {
    "colab": {
      "name": "observation.ipynb",
      "provenance": [],
      "collapsed_sections": [],
      "toc_visible": true,
      "machine_shape": "hm"
    },
    "kernelspec": {
      "name": "python3",
      "display_name": "Python 3"
    },
    "accelerator": "GPU"
  },
  "cells": [
    {
      "cell_type": "markdown",
      "metadata": {
        "id": "A5XM2aZF2PeA",
        "colab_type": "text"
      },
      "source": [
        "## Data import"
      ]
    },
    {
      "cell_type": "code",
      "metadata": {
        "id": "oY9tOAdxokvk",
        "colab_type": "code",
        "colab": {}
      },
      "source": [
        "import pandas as pd\n",
        "import matplotlib.pyplot as plt\n",
        "import seaborn as sns\n",
        "import numpy as np"
      ],
      "execution_count": 0,
      "outputs": []
    },
    {
      "cell_type": "code",
      "metadata": {
        "id": "StTYlrIlqhSE",
        "colab_type": "code",
        "outputId": "868ebd0d-a44f-4fe7-8655-211bfa529780",
        "colab": {
          "base_uri": "https://localhost:8080/",
          "height": 35
        }
      },
      "source": [
        "from google.colab import drive\n",
        "drive.mount('/content/gdrive')"
      ],
      "execution_count": 0,
      "outputs": [
        {
          "output_type": "stream",
          "text": [
            "Drive already mounted at /content/gdrive; to attempt to forcibly remount, call drive.mount(\"/content/gdrive\", force_remount=True).\n"
          ],
          "name": "stdout"
        }
      ]
    },
    {
      "cell_type": "code",
      "metadata": {
        "id": "g3MHjCNpqNoz",
        "colab_type": "code",
        "outputId": "4a2a82b6-4296-4e14-ab6e-df908854de93",
        "colab": {
          "base_uri": "https://localhost:8080/",
          "height": 395
        }
      },
      "source": [
        "import os, shutil\n",
        "!ls \"/content/gdrive/My Drive/\""
      ],
      "execution_count": 0,
      "outputs": [
        {
          "output_type": "stream",
          "text": [
            " 8-2.mov\n",
            " Bayesian\n",
            " bigdata\n",
            " bq-results-20190920-004228-5xi034liest1\n",
            " bq-results-20190920-012138-er5eg3s9lxkj\n",
            " bq-results-20190920-012622-6g3qu1tkjun8\n",
            " bq-results-20191112-190906-w6n93g514345\n",
            " CAMELYON16\n",
            " checkpoints\n",
            "'Chu Yu-resume.pdf'\n",
            "'Colab Notebooks'\n",
            "'data science final scratch.gdoc'\n",
            "'Download eTranscripts ordered from your school (Windows) (1).gdoc'\n",
            " drug.csv\n",
            "'epi assignment 5.gdoc'\n",
            " measure.csv\n",
            " my_model.h5\n",
            " observation.csv\n",
            "'Phar stats final SAP.gdoc'\n",
            " scudata\n",
            " sculpture\n"
          ],
          "name": "stdout"
        }
      ]
    },
    {
      "cell_type": "code",
      "metadata": {
        "id": "fYE48dTHqv1X",
        "colab_type": "code",
        "colab": {}
      },
      "source": [
        "obs_df = pd.read_csv('/content/gdrive/My Drive/observation.csv')"
      ],
      "execution_count": 0,
      "outputs": []
    },
    {
      "cell_type": "code",
      "metadata": {
        "id": "8rxMx0COsVqL",
        "colab_type": "code",
        "outputId": "9536375a-a071-4bf8-fc4b-6034352d01a0",
        "colab": {
          "base_uri": "https://localhost:8080/",
          "height": 309
        }
      },
      "source": [
        "obs_df.head(5)"
      ],
      "execution_count": 0,
      "outputs": [
        {
          "output_type": "execute_result",
          "data": {
            "text/html": [
              "<div>\n",
              "<style scoped>\n",
              "    .dataframe tbody tr th:only-of-type {\n",
              "        vertical-align: middle;\n",
              "    }\n",
              "\n",
              "    .dataframe tbody tr th {\n",
              "        vertical-align: top;\n",
              "    }\n",
              "\n",
              "    .dataframe thead th {\n",
              "        text-align: right;\n",
              "    }\n",
              "</style>\n",
              "<table border=\"1\" class=\"dataframe\">\n",
              "  <thead>\n",
              "    <tr style=\"text-align: right;\">\n",
              "      <th></th>\n",
              "      <th>person_id</th>\n",
              "      <th>visit_occurrence_id</th>\n",
              "      <th>year_of_birth</th>\n",
              "      <th>gender_source_value</th>\n",
              "      <th>ethnicity_concept_id</th>\n",
              "      <th>person_source_value</th>\n",
              "      <th>month_of_birth</th>\n",
              "      <th>day_of_birth</th>\n",
              "      <th>ethnicity_source_value</th>\n",
              "      <th>location_id</th>\n",
              "      <th>race_concept_id</th>\n",
              "      <th>gender_concept_id</th>\n",
              "      <th>birth_datetime</th>\n",
              "      <th>race_source_value</th>\n",
              "      <th>death_date</th>\n",
              "      <th>death_datetime</th>\n",
              "      <th>death_type_concept_id</th>\n",
              "      <th>cause_source_concept_id</th>\n",
              "      <th>provider_id</th>\n",
              "      <th>visit_start_date</th>\n",
              "      <th>care_site_id</th>\n",
              "      <th>visit_source_value</th>\n",
              "      <th>visit_end_date</th>\n",
              "      <th>visit_start_datetime</th>\n",
              "      <th>visit_concept_id</th>\n",
              "      <th>visit_type_concept_id</th>\n",
              "      <th>visit_end_datetime</th>\n",
              "      <th>value_as_concept_id</th>\n",
              "      <th>observation_date</th>\n",
              "      <th>observation_source_concept_id</th>\n",
              "      <th>value_as_string</th>\n",
              "      <th>observation_concept_id</th>\n",
              "      <th>observation_id</th>\n",
              "      <th>observation_source_value</th>\n",
              "      <th>observation_source_concept_i</th>\n",
              "      <th>observation_datetime</th>\n",
              "    </tr>\n",
              "  </thead>\n",
              "  <tbody>\n",
              "    <tr>\n",
              "      <th>0</th>\n",
              "      <td>5</td>\n",
              "      <td>4213630.0</td>\n",
              "      <td>1935</td>\n",
              "      <td>1</td>\n",
              "      <td>38003564</td>\n",
              "      <td>000308435E3E5B76</td>\n",
              "      <td>9</td>\n",
              "      <td>1</td>\n",
              "      <td>1</td>\n",
              "      <td>8</td>\n",
              "      <td>8557.0</td>\n",
              "      <td>8507</td>\n",
              "      <td>1935-09-01T00:00:00.000Z</td>\n",
              "      <td>1</td>\n",
              "      <td>NaN</td>\n",
              "      <td>NaN</td>\n",
              "      <td>NaN</td>\n",
              "      <td>NaN</td>\n",
              "      <td>68338.0</td>\n",
              "      <td>2009-01-09T00:00:00.000Z</td>\n",
              "      <td>2870.0</td>\n",
              "      <td>5.421323e+14</td>\n",
              "      <td>2009-01-09T00:00:00.000Z</td>\n",
              "      <td>2009-01-09T00:00:00.000Z</td>\n",
              "      <td>9202.0</td>\n",
              "      <td>44818517.0</td>\n",
              "      <td>2009-01-09T00:00:00.000Z</td>\n",
              "      <td>NaN</td>\n",
              "      <td>NaN</td>\n",
              "      <td>NaN</td>\n",
              "      <td>NaN</td>\n",
              "      <td>NaN</td>\n",
              "      <td>NaN</td>\n",
              "      <td>NaN</td>\n",
              "      <td>NaN</td>\n",
              "      <td>NaN</td>\n",
              "    </tr>\n",
              "    <tr>\n",
              "      <th>1</th>\n",
              "      <td>41</td>\n",
              "      <td>1656926.0</td>\n",
              "      <td>1941</td>\n",
              "      <td>2</td>\n",
              "      <td>38003564</td>\n",
              "      <td>001F988D97A7759B</td>\n",
              "      <td>2</td>\n",
              "      <td>1</td>\n",
              "      <td>1</td>\n",
              "      <td>59</td>\n",
              "      <td>8527.0</td>\n",
              "      <td>8532</td>\n",
              "      <td>1941-02-01T00:00:00.000Z</td>\n",
              "      <td>1</td>\n",
              "      <td>NaN</td>\n",
              "      <td>NaN</td>\n",
              "      <td>NaN</td>\n",
              "      <td>NaN</td>\n",
              "      <td>179231.0</td>\n",
              "      <td>2008-10-09T00:00:00.000Z</td>\n",
              "      <td>42872.0</td>\n",
              "      <td>8.874434e+14</td>\n",
              "      <td>2008-10-09T00:00:00.000Z</td>\n",
              "      <td>2008-10-09T00:00:00.000Z</td>\n",
              "      <td>0.0</td>\n",
              "      <td>44818517.0</td>\n",
              "      <td>2008-10-09T00:00:00.000Z</td>\n",
              "      <td>NaN</td>\n",
              "      <td>NaN</td>\n",
              "      <td>NaN</td>\n",
              "      <td>NaN</td>\n",
              "      <td>NaN</td>\n",
              "      <td>NaN</td>\n",
              "      <td>NaN</td>\n",
              "      <td>NaN</td>\n",
              "      <td>NaN</td>\n",
              "    </tr>\n",
              "    <tr>\n",
              "      <th>2</th>\n",
              "      <td>62</td>\n",
              "      <td>3963163.0</td>\n",
              "      <td>1943</td>\n",
              "      <td>1</td>\n",
              "      <td>38003564</td>\n",
              "      <td>002B6203FF086ABA</td>\n",
              "      <td>9</td>\n",
              "      <td>1</td>\n",
              "      <td>1</td>\n",
              "      <td>35</td>\n",
              "      <td>8516.0</td>\n",
              "      <td>8507</td>\n",
              "      <td>1943-09-01T00:00:00.000Z</td>\n",
              "      <td>1</td>\n",
              "      <td>NaN</td>\n",
              "      <td>NaN</td>\n",
              "      <td>NaN</td>\n",
              "      <td>NaN</td>\n",
              "      <td>189926.0</td>\n",
              "      <td>2008-06-30T00:00:00.000Z</td>\n",
              "      <td>86906.0</td>\n",
              "      <td>8.872734e+14</td>\n",
              "      <td>2008-06-30T00:00:00.000Z</td>\n",
              "      <td>2008-06-30T00:00:00.000Z</td>\n",
              "      <td>0.0</td>\n",
              "      <td>44818517.0</td>\n",
              "      <td>2008-06-30T00:00:00.000Z</td>\n",
              "      <td>NaN</td>\n",
              "      <td>NaN</td>\n",
              "      <td>NaN</td>\n",
              "      <td>NaN</td>\n",
              "      <td>NaN</td>\n",
              "      <td>NaN</td>\n",
              "      <td>NaN</td>\n",
              "      <td>NaN</td>\n",
              "      <td>NaN</td>\n",
              "    </tr>\n",
              "    <tr>\n",
              "      <th>3</th>\n",
              "      <td>103</td>\n",
              "      <td>58348.0</td>\n",
              "      <td>1935</td>\n",
              "      <td>1</td>\n",
              "      <td>38003564</td>\n",
              "      <td>0050CF9059ABFF59</td>\n",
              "      <td>6</td>\n",
              "      <td>1</td>\n",
              "      <td>1</td>\n",
              "      <td>134</td>\n",
              "      <td>8657.0</td>\n",
              "      <td>8507</td>\n",
              "      <td>1935-06-01T00:00:00.000Z</td>\n",
              "      <td>1</td>\n",
              "      <td>NaN</td>\n",
              "      <td>NaN</td>\n",
              "      <td>NaN</td>\n",
              "      <td>NaN</td>\n",
              "      <td>42069.0</td>\n",
              "      <td>2009-07-25T00:00:00.000Z</td>\n",
              "      <td>5573.0</td>\n",
              "      <td>8.874534e+14</td>\n",
              "      <td>2009-07-25T00:00:00.000Z</td>\n",
              "      <td>2009-07-25T00:00:00.000Z</td>\n",
              "      <td>0.0</td>\n",
              "      <td>44818517.0</td>\n",
              "      <td>2009-07-25T00:00:00.000Z</td>\n",
              "      <td>NaN</td>\n",
              "      <td>NaN</td>\n",
              "      <td>NaN</td>\n",
              "      <td>NaN</td>\n",
              "      <td>NaN</td>\n",
              "      <td>NaN</td>\n",
              "      <td>NaN</td>\n",
              "      <td>NaN</td>\n",
              "      <td>NaN</td>\n",
              "    </tr>\n",
              "    <tr>\n",
              "      <th>4</th>\n",
              "      <td>125</td>\n",
              "      <td>1886636.0</td>\n",
              "      <td>1926</td>\n",
              "      <td>1</td>\n",
              "      <td>38003564</td>\n",
              "      <td>0064148837D38095</td>\n",
              "      <td>5</td>\n",
              "      <td>1</td>\n",
              "      <td>1</td>\n",
              "      <td>154</td>\n",
              "      <td>8657.0</td>\n",
              "      <td>8507</td>\n",
              "      <td>1926-05-01T00:00:00.000Z</td>\n",
              "      <td>1</td>\n",
              "      <td>NaN</td>\n",
              "      <td>NaN</td>\n",
              "      <td>NaN</td>\n",
              "      <td>NaN</td>\n",
              "      <td>54829.0</td>\n",
              "      <td>2009-01-13T00:00:00.000Z</td>\n",
              "      <td>30634.0</td>\n",
              "      <td>8.870134e+14</td>\n",
              "      <td>2009-01-13T00:00:00.000Z</td>\n",
              "      <td>2009-01-13T00:00:00.000Z</td>\n",
              "      <td>0.0</td>\n",
              "      <td>44818517.0</td>\n",
              "      <td>2009-01-13T00:00:00.000Z</td>\n",
              "      <td>NaN</td>\n",
              "      <td>NaN</td>\n",
              "      <td>NaN</td>\n",
              "      <td>NaN</td>\n",
              "      <td>NaN</td>\n",
              "      <td>NaN</td>\n",
              "      <td>NaN</td>\n",
              "      <td>NaN</td>\n",
              "      <td>NaN</td>\n",
              "    </tr>\n",
              "  </tbody>\n",
              "</table>\n",
              "</div>"
            ],
            "text/plain": [
              "   person_id  ...  observation_datetime\n",
              "0          5  ...                   NaN\n",
              "1         41  ...                   NaN\n",
              "2         62  ...                   NaN\n",
              "3        103  ...                   NaN\n",
              "4        125  ...                   NaN\n",
              "\n",
              "[5 rows x 36 columns]"
            ]
          },
          "metadata": {
            "tags": []
          },
          "execution_count": 5
        }
      ]
    },
    {
      "cell_type": "code",
      "metadata": {
        "id": "orLuIToOQNYa",
        "colab_type": "code",
        "colab": {}
      },
      "source": [
        "#drug_df = drug_df.apply(lambda x:x.fillna(x.value_counts().index[0]))\n",
        "obs_df = obs_df[obs_df['visit_start_datetime'] == obs_df.groupby('person_id')['visit_start_datetime'].transform('max')]"
      ],
      "execution_count": 0,
      "outputs": []
    },
    {
      "cell_type": "markdown",
      "metadata": {
        "id": "LFW81z642ZTU",
        "colab_type": "text"
      },
      "source": [
        "## data preprocessing"
      ]
    },
    {
      "cell_type": "code",
      "metadata": {
        "id": "8eG0PmP6s_8u",
        "colab_type": "code",
        "colab": {}
      },
      "source": [
        "persondrop = ['person_source_value','ethnicity_source_value', 'gender_source_value','location_id', 'race_source_value', 'care_site_id']\n",
        "visitdrop = ['visit_source_value','visit_start_date','visit_end_date','visit_end_datetime', 'provider_id', 'value_as_concept_id']\n",
        "drugdrop = [ 'observation_source_value', \"observation_date\", 'observation_source_concept_i']"
      ],
      "execution_count": 0,
      "outputs": []
    },
    {
      "cell_type": "code",
      "metadata": {
        "id": "ezpvTFcEzr0j",
        "colab_type": "code",
        "colab": {}
      },
      "source": [
        "obs_df=obs_df.drop(columns=persondrop)\n",
        "obs_df=obs_df.drop(columns=visitdrop)\n",
        "obs_df=obs_df.drop(columns=drugdrop)"
      ],
      "execution_count": 0,
      "outputs": []
    },
    {
      "cell_type": "code",
      "metadata": {
        "id": "p3biKcR0SOvn",
        "colab_type": "code",
        "colab": {}
      },
      "source": [
        "obs_df=obs_df.drop(columns=['observation_id', 'provider_id', 'visit_type_concept_id', ''])"
      ],
      "execution_count": 0,
      "outputs": []
    },
    {
      "cell_type": "code",
      "metadata": {
        "id": "abAeNGaZ0Hrt",
        "colab_type": "code",
        "colab": {}
      },
      "source": [
        "obs_df.loc[pd.isnull(obs_df['death_date']) , 'death'] = 0\n",
        "obs_df.loc[pd.isnull(obs_df['death_date'])==False , 'death'] = 1"
      ],
      "execution_count": 0,
      "outputs": []
    },
    {
      "cell_type": "code",
      "metadata": {
        "id": "iRNJbzcA1yZk",
        "colab_type": "code",
        "colab": {}
      },
      "source": [
        "deathdrop=['death_date','death_datetime','death_type_concept_id','cause_source_concept_id']\n",
        "obs_df=obs_df.drop(columns=deathdrop)"
      ],
      "execution_count": 0,
      "outputs": []
    },
    {
      "cell_type": "code",
      "metadata": {
        "id": "PEgUwVvo1_u0",
        "colab_type": "code",
        "outputId": "c543ea9c-10a0-4d5c-8be9-fc3fa179577a",
        "colab": {
          "base_uri": "https://localhost:8080/",
          "height": 309
        }
      },
      "source": [
        "obs_df.head(5)"
      ],
      "execution_count": 0,
      "outputs": [
        {
          "output_type": "execute_result",
          "data": {
            "text/html": [
              "<div>\n",
              "<style scoped>\n",
              "    .dataframe tbody tr th:only-of-type {\n",
              "        vertical-align: middle;\n",
              "    }\n",
              "\n",
              "    .dataframe tbody tr th {\n",
              "        vertical-align: top;\n",
              "    }\n",
              "\n",
              "    .dataframe thead th {\n",
              "        text-align: right;\n",
              "    }\n",
              "</style>\n",
              "<table border=\"1\" class=\"dataframe\">\n",
              "  <thead>\n",
              "    <tr style=\"text-align: right;\">\n",
              "      <th></th>\n",
              "      <th>person_id</th>\n",
              "      <th>visit_occurrence_id</th>\n",
              "      <th>year_of_birth</th>\n",
              "      <th>ethnicity_concept_id</th>\n",
              "      <th>month_of_birth</th>\n",
              "      <th>day_of_birth</th>\n",
              "      <th>race_concept_id</th>\n",
              "      <th>gender_concept_id</th>\n",
              "      <th>birth_datetime</th>\n",
              "      <th>provider_id</th>\n",
              "      <th>visit_start_datetime</th>\n",
              "      <th>visit_concept_id</th>\n",
              "      <th>visit_type_concept_id</th>\n",
              "      <th>value_as_concept_id</th>\n",
              "      <th>observation_source_concept_id</th>\n",
              "      <th>value_as_string</th>\n",
              "      <th>observation_concept_id</th>\n",
              "      <th>observation_id</th>\n",
              "      <th>observation_datetime</th>\n",
              "      <th>death</th>\n",
              "      <th>obs_od</th>\n",
              "    </tr>\n",
              "  </thead>\n",
              "  <tbody>\n",
              "    <tr>\n",
              "      <th>0</th>\n",
              "      <td>5</td>\n",
              "      <td>4.21363e+06</td>\n",
              "      <td>1935</td>\n",
              "      <td>38003564</td>\n",
              "      <td>9</td>\n",
              "      <td>1</td>\n",
              "      <td>8557</td>\n",
              "      <td>8507</td>\n",
              "      <td>1935-09-01T00:00:00.000Z</td>\n",
              "      <td>68338.0</td>\n",
              "      <td>2009-01-09T00:00:00.000Z</td>\n",
              "      <td>9202</td>\n",
              "      <td>4.48185e+07</td>\n",
              "      <td>NaN</td>\n",
              "      <td>NaN</td>\n",
              "      <td>NaN</td>\n",
              "      <td>NaN</td>\n",
              "      <td>NaN</td>\n",
              "      <td>NaN</td>\n",
              "      <td>0</td>\n",
              "      <td>NaN</td>\n",
              "    </tr>\n",
              "    <tr>\n",
              "      <th>1</th>\n",
              "      <td>41</td>\n",
              "      <td>1.65693e+06</td>\n",
              "      <td>1941</td>\n",
              "      <td>38003564</td>\n",
              "      <td>2</td>\n",
              "      <td>1</td>\n",
              "      <td>8527</td>\n",
              "      <td>8532</td>\n",
              "      <td>1941-02-01T00:00:00.000Z</td>\n",
              "      <td>179231.0</td>\n",
              "      <td>2008-10-09T00:00:00.000Z</td>\n",
              "      <td>0</td>\n",
              "      <td>4.48185e+07</td>\n",
              "      <td>NaN</td>\n",
              "      <td>NaN</td>\n",
              "      <td>NaN</td>\n",
              "      <td>NaN</td>\n",
              "      <td>NaN</td>\n",
              "      <td>NaN</td>\n",
              "      <td>0</td>\n",
              "      <td>NaN</td>\n",
              "    </tr>\n",
              "    <tr>\n",
              "      <th>2</th>\n",
              "      <td>62</td>\n",
              "      <td>3.96316e+06</td>\n",
              "      <td>1943</td>\n",
              "      <td>38003564</td>\n",
              "      <td>9</td>\n",
              "      <td>1</td>\n",
              "      <td>8516</td>\n",
              "      <td>8507</td>\n",
              "      <td>1943-09-01T00:00:00.000Z</td>\n",
              "      <td>189926.0</td>\n",
              "      <td>2008-06-30T00:00:00.000Z</td>\n",
              "      <td>0</td>\n",
              "      <td>4.48185e+07</td>\n",
              "      <td>NaN</td>\n",
              "      <td>NaN</td>\n",
              "      <td>NaN</td>\n",
              "      <td>NaN</td>\n",
              "      <td>NaN</td>\n",
              "      <td>NaN</td>\n",
              "      <td>0</td>\n",
              "      <td>NaN</td>\n",
              "    </tr>\n",
              "    <tr>\n",
              "      <th>3</th>\n",
              "      <td>103</td>\n",
              "      <td>58348</td>\n",
              "      <td>1935</td>\n",
              "      <td>38003564</td>\n",
              "      <td>6</td>\n",
              "      <td>1</td>\n",
              "      <td>8657</td>\n",
              "      <td>8507</td>\n",
              "      <td>1935-06-01T00:00:00.000Z</td>\n",
              "      <td>42069.0</td>\n",
              "      <td>2009-07-25T00:00:00.000Z</td>\n",
              "      <td>0</td>\n",
              "      <td>4.48185e+07</td>\n",
              "      <td>NaN</td>\n",
              "      <td>NaN</td>\n",
              "      <td>NaN</td>\n",
              "      <td>NaN</td>\n",
              "      <td>NaN</td>\n",
              "      <td>NaN</td>\n",
              "      <td>0</td>\n",
              "      <td>NaN</td>\n",
              "    </tr>\n",
              "    <tr>\n",
              "      <th>4</th>\n",
              "      <td>125</td>\n",
              "      <td>1.88664e+06</td>\n",
              "      <td>1926</td>\n",
              "      <td>38003564</td>\n",
              "      <td>5</td>\n",
              "      <td>1</td>\n",
              "      <td>8657</td>\n",
              "      <td>8507</td>\n",
              "      <td>1926-05-01T00:00:00.000Z</td>\n",
              "      <td>54829.0</td>\n",
              "      <td>2009-01-13T00:00:00.000Z</td>\n",
              "      <td>0</td>\n",
              "      <td>4.48185e+07</td>\n",
              "      <td>NaN</td>\n",
              "      <td>NaN</td>\n",
              "      <td>NaN</td>\n",
              "      <td>NaN</td>\n",
              "      <td>NaN</td>\n",
              "      <td>NaN</td>\n",
              "      <td>0</td>\n",
              "      <td>NaN</td>\n",
              "    </tr>\n",
              "  </tbody>\n",
              "</table>\n",
              "</div>"
            ],
            "text/plain": [
              "  person_id visit_occurrence_id  ...  death obs_od\n",
              "0         5         4.21363e+06  ...      0    NaN\n",
              "1        41         1.65693e+06  ...      0    NaN\n",
              "2        62         3.96316e+06  ...      0    NaN\n",
              "3       103               58348  ...      0    NaN\n",
              "4       125         1.88664e+06  ...      0    NaN\n",
              "\n",
              "[5 rows x 21 columns]"
            ]
          },
          "metadata": {
            "tags": []
          },
          "execution_count": 59
        }
      ]
    },
    {
      "cell_type": "code",
      "metadata": {
        "id": "oPsfVLnDS91l",
        "colab_type": "code",
        "outputId": "ba0c09b2-f21f-405e-d399-12dd26fdbc4d",
        "colab": {
          "base_uri": "https://localhost:8080/",
          "height": 35
        }
      },
      "source": [
        "len(obs_df)"
      ],
      "execution_count": 0,
      "outputs": [
        {
          "output_type": "execute_result",
          "data": {
            "text/plain": [
              "764639"
            ]
          },
          "metadata": {
            "tags": []
          },
          "execution_count": 12
        }
      ]
    },
    {
      "cell_type": "code",
      "metadata": {
        "id": "jZhu0SCC2NmT",
        "colab_type": "code",
        "colab": {}
      },
      "source": [
        "## change the types of columns\n",
        "categorical= ['person_id','visit_occurrence_id','ethnicity_concept_id','race_concept_id','gender_concept_id',\n",
        "             'visit_concept_id','visit_type_concept_id','value_as_string','observation_concept_id','observation_id'] ## 9 objects\n",
        "for col in categorical:\n",
        "    obs_df[col] = obs_df[col].astype('object')\n",
        "obs_df['death'] = obs_df['death'].astype(int)"
      ],
      "execution_count": 0,
      "outputs": []
    },
    {
      "cell_type": "code",
      "metadata": {
        "id": "wi5RnjUAxdDc",
        "colab_type": "code",
        "outputId": "4b92506f-0dcf-464c-c665-e47ad8a240c5",
        "colab": {
          "base_uri": "https://localhost:8080/",
          "height": 269
        }
      },
      "source": [
        "obs_df.select_dtypes('object').apply(pd.Series.nunique, axis = 0)"
      ],
      "execution_count": 0,
      "outputs": [
        {
          "output_type": "execute_result",
          "data": {
            "text/plain": [
              "person_id                  97916\n",
              "visit_occurrence_id        94834\n",
              "ethnicity_concept_id           2\n",
              "race_concept_id                6\n",
              "gender_concept_id              2\n",
              "birth_datetime               900\n",
              "visit_start_datetime         878\n",
              "visit_concept_id               3\n",
              "visit_type_concept_id          1\n",
              "value_as_string              129\n",
              "observation_concept_id       837\n",
              "observation_id            521834\n",
              "observation_datetime        2739\n",
              "dtype: int64"
            ]
          },
          "metadata": {
            "tags": []
          },
          "execution_count": 14
        }
      ]
    },
    {
      "cell_type": "code",
      "metadata": {
        "id": "Bux7JJvQJyqS",
        "colab_type": "code",
        "colab": {}
      },
      "source": [
        "obs1 = obs_df"
      ],
      "execution_count": 0,
      "outputs": []
    },
    {
      "cell_type": "code",
      "metadata": {
        "id": "JSuNv5WdyHzo",
        "colab_type": "code",
        "outputId": "0ad25361-3e60-4e04-c15f-a2a3c6374056",
        "colab": {
          "base_uri": "https://localhost:8080/",
          "height": 125
        }
      },
      "source": [
        "bos_type = obs1.groupby('observation_concept_id')['observation_concept_id'].agg({'count': len}).sort_values('count',ascending = False).head(20)"
      ],
      "execution_count": 0,
      "outputs": [
        {
          "output_type": "stream",
          "text": [
            "/usr/local/lib/python3.6/dist-packages/ipykernel_launcher.py:1: FutureWarning: using a dict on a Series for aggregation\n",
            "is deprecated and will be removed in a future version. Use                 named aggregation instead.\n",
            "\n",
            "    >>> grouper.agg(name_1=func_1, name_2=func_2)\n",
            "\n",
            "  \"\"\"Entry point for launching an IPython kernel.\n"
          ],
          "name": "stderr"
        }
      ]
    },
    {
      "cell_type": "code",
      "metadata": {
        "id": "gN2opNdkALNi",
        "colab_type": "code",
        "outputId": "efcebe9b-e9ae-4b89-a4be-dd437916665b",
        "colab": {
          "base_uri": "https://localhost:8080/",
          "height": 413
        }
      },
      "source": [
        "bos_type"
      ],
      "execution_count": 0,
      "outputs": [
        {
          "output_type": "execute_result",
          "data": {
            "text/plain": [
              "<bound method DataFrame.count of                          count\n",
              "observation_concept_id        \n",
              "4015724.0               235588\n",
              "440927.0                154704\n",
              "4214956.0               152443\n",
              "0.0                     144233\n",
              "2614666.0                71361\n",
              "4046550.0                42806\n",
              "4058431.0                36918\n",
              "2614669.0                33230\n",
              "440922.0                 29891\n",
              "4167217.0                27722\n",
              "439405.0                 27253\n",
              "4186037.0                25598\n",
              "2614668.0                25489\n",
              "4059467.0                23433\n",
              "2720870.0                18349\n",
              "40479553.0               17393\n",
              "4090651.0                17204\n",
              "4059356.0                15228\n",
              "2614670.0                14099\n",
              "4060089.0                10793>"
            ]
          },
          "metadata": {
            "tags": []
          },
          "execution_count": 51
        }
      ]
    },
    {
      "cell_type": "code",
      "metadata": {
        "id": "_NI_WNqwNk08",
        "colab_type": "code",
        "outputId": "a9468b43-02ca-489f-c3e1-1c9b4b29babd",
        "colab": {
          "base_uri": "https://localhost:8080/",
          "height": 35
        }
      },
      "source": [
        "type(obs_df['observation_concept_id'][1])"
      ],
      "execution_count": 0,
      "outputs": [
        {
          "output_type": "execute_result",
          "data": {
            "text/plain": [
              "numpy.float64"
            ]
          },
          "metadata": {
            "tags": []
          },
          "execution_count": 8
        }
      ]
    },
    {
      "cell_type": "code",
      "metadata": {
        "id": "d_db2sMm4iGF",
        "colab_type": "code",
        "colab": {}
      },
      "source": [
        "names = [4015724.0, 440927.0, 4214956.0, 0.0, 2614666.0, 4046550.0, 4058431.0, 2614669.0, 440922.0, 4167217.0, 439405.0, 4186037.0, 2614668.0, 4059467.0, 2720870.0, 4090651.0, 40479553.0, 4059356.0, 2614670.0, 4060089.0]"
      ],
      "execution_count": 0,
      "outputs": []
    },
    {
      "cell_type": "code",
      "metadata": {
        "id": "3WVNkZIsB37M",
        "colab_type": "code",
        "colab": {}
      },
      "source": [
        "obs_df = pd.DataFrame(obs_df)"
      ],
      "execution_count": 0,
      "outputs": []
    },
    {
      "cell_type": "code",
      "metadata": {
        "id": "pWp_ZForAizH",
        "colab_type": "code",
        "outputId": "f718b5e5-9af2-41a1-84a1-16d2e26fde56",
        "colab": {
          "base_uri": "https://localhost:8080/",
          "height": 35
        }
      },
      "source": [
        "type(obs_df['observation_concept_id'][:1:])"
      ],
      "execution_count": 0,
      "outputs": [
        {
          "output_type": "execute_result",
          "data": {
            "text/plain": [
              "pandas.core.series.Series"
            ]
          },
          "metadata": {
            "tags": []
          },
          "execution_count": 110
        }
      ]
    },
    {
      "cell_type": "code",
      "metadata": {
        "id": "5dbYIUHz0Q75",
        "colab_type": "code",
        "colab": {}
      },
      "source": [
        "obs_type = names\n",
        "new_type = []\n",
        "exist = []\n",
        "for i in range(len(obs_df)):\n",
        "   a = obs_df['observation_concept_id'][i]\n",
        "   if a in obs_type:\n",
        "     new_type.append(a)\n",
        "     exist.append(1)\n",
        "   else:\n",
        "     new_type.append(None)\n",
        "     exist.append(0)\n"
      ],
      "execution_count": 0,
      "outputs": []
    },
    {
      "cell_type": "code",
      "metadata": {
        "id": "ZOcKaaMDLfaP",
        "colab_type": "code",
        "colab": {}
      },
      "source": [
        "obs_df['obs_type'] = new_type\n",
        "obs_df['exist'] = exist"
      ],
      "execution_count": 0,
      "outputs": []
    },
    {
      "cell_type": "code",
      "metadata": {
        "id": "-5fAIJzeCca8",
        "colab_type": "code",
        "colab": {}
      },
      "source": [
        ""
      ],
      "execution_count": 0,
      "outputs": []
    },
    {
      "cell_type": "code",
      "metadata": {
        "id": "coV7ZX9Vgcry",
        "colab_type": "code",
        "outputId": "b238f0b5-e07f-4bf9-d53c-76ee6a824701",
        "colab": {
          "base_uri": "https://localhost:8080/",
          "height": 233
        }
      },
      "source": [
        "obs_df['obs_od']"
      ],
      "execution_count": 0,
      "outputs": [
        {
          "output_type": "execute_result",
          "data": {
            "text/plain": [
              "0         NaN\n",
              "1         NaN\n",
              "2         NaN\n",
              "3         NaN\n",
              "4         NaN\n",
              "           ..\n",
              "2495560   NaN\n",
              "2495561   NaN\n",
              "2495562   NaN\n",
              "2495563   NaN\n",
              "2495564   NaN\n",
              "Name: obs_od, Length: 2495565, dtype: float64"
            ]
          },
          "metadata": {
            "tags": []
          },
          "execution_count": 73
        }
      ]
    },
    {
      "cell_type": "code",
      "metadata": {
        "id": "N2LveNfDVxFy",
        "colab_type": "code",
        "outputId": "2f0d9b72-0b00-4f90-ccaf-5ee641175975",
        "colab": {
          "base_uri": "https://localhost:8080/",
          "height": 664
        }
      },
      "source": [
        "table1 = obs_df[['person_id', 'obs_type','visit_start_datetime', 'exist']]\n",
        "table1.head(20)"
      ],
      "execution_count": 0,
      "outputs": [
        {
          "output_type": "execute_result",
          "data": {
            "text/html": [
              "<div>\n",
              "<style scoped>\n",
              "    .dataframe tbody tr th:only-of-type {\n",
              "        vertical-align: middle;\n",
              "    }\n",
              "\n",
              "    .dataframe tbody tr th {\n",
              "        vertical-align: top;\n",
              "    }\n",
              "\n",
              "    .dataframe thead th {\n",
              "        text-align: right;\n",
              "    }\n",
              "</style>\n",
              "<table border=\"1\" class=\"dataframe\">\n",
              "  <thead>\n",
              "    <tr style=\"text-align: right;\">\n",
              "      <th></th>\n",
              "      <th>person_id</th>\n",
              "      <th>obs_type</th>\n",
              "      <th>visit_start_datetime</th>\n",
              "      <th>exist</th>\n",
              "    </tr>\n",
              "  </thead>\n",
              "  <tbody>\n",
              "    <tr>\n",
              "      <th>0</th>\n",
              "      <td>5</td>\n",
              "      <td>NaN</td>\n",
              "      <td>2009-01-09T00:00:00.000Z</td>\n",
              "      <td>0</td>\n",
              "    </tr>\n",
              "    <tr>\n",
              "      <th>1</th>\n",
              "      <td>41</td>\n",
              "      <td>NaN</td>\n",
              "      <td>2008-10-09T00:00:00.000Z</td>\n",
              "      <td>0</td>\n",
              "    </tr>\n",
              "    <tr>\n",
              "      <th>2</th>\n",
              "      <td>62</td>\n",
              "      <td>NaN</td>\n",
              "      <td>2008-06-30T00:00:00.000Z</td>\n",
              "      <td>0</td>\n",
              "    </tr>\n",
              "    <tr>\n",
              "      <th>3</th>\n",
              "      <td>103</td>\n",
              "      <td>NaN</td>\n",
              "      <td>2009-07-25T00:00:00.000Z</td>\n",
              "      <td>0</td>\n",
              "    </tr>\n",
              "    <tr>\n",
              "      <th>4</th>\n",
              "      <td>125</td>\n",
              "      <td>NaN</td>\n",
              "      <td>2009-01-13T00:00:00.000Z</td>\n",
              "      <td>0</td>\n",
              "    </tr>\n",
              "    <tr>\n",
              "      <th>5</th>\n",
              "      <td>190</td>\n",
              "      <td>NaN</td>\n",
              "      <td>2009-04-20T00:00:00.000Z</td>\n",
              "      <td>0</td>\n",
              "    </tr>\n",
              "    <tr>\n",
              "      <th>6</th>\n",
              "      <td>216</td>\n",
              "      <td>NaN</td>\n",
              "      <td>2008-08-09T00:00:00.000Z</td>\n",
              "      <td>0</td>\n",
              "    </tr>\n",
              "    <tr>\n",
              "      <th>7</th>\n",
              "      <td>221</td>\n",
              "      <td>NaN</td>\n",
              "      <td>2008-01-23T00:00:00.000Z</td>\n",
              "      <td>0</td>\n",
              "    </tr>\n",
              "    <tr>\n",
              "      <th>8</th>\n",
              "      <td>221</td>\n",
              "      <td>NaN</td>\n",
              "      <td>2009-08-19T00:00:00.000Z</td>\n",
              "      <td>0</td>\n",
              "    </tr>\n",
              "    <tr>\n",
              "      <th>9</th>\n",
              "      <td>225</td>\n",
              "      <td>NaN</td>\n",
              "      <td>2009-10-29T00:00:00.000Z</td>\n",
              "      <td>0</td>\n",
              "    </tr>\n",
              "    <tr>\n",
              "      <th>10</th>\n",
              "      <td>293</td>\n",
              "      <td>NaN</td>\n",
              "      <td>2009-06-21T00:00:00.000Z</td>\n",
              "      <td>0</td>\n",
              "    </tr>\n",
              "    <tr>\n",
              "      <th>11</th>\n",
              "      <td>303</td>\n",
              "      <td>NaN</td>\n",
              "      <td>2008-08-18T00:00:00.000Z</td>\n",
              "      <td>0</td>\n",
              "    </tr>\n",
              "    <tr>\n",
              "      <th>12</th>\n",
              "      <td>355</td>\n",
              "      <td>NaN</td>\n",
              "      <td>2008-12-16T00:00:00.000Z</td>\n",
              "      <td>0</td>\n",
              "    </tr>\n",
              "    <tr>\n",
              "      <th>13</th>\n",
              "      <td>382</td>\n",
              "      <td>NaN</td>\n",
              "      <td>2008-11-15T00:00:00.000Z</td>\n",
              "      <td>0</td>\n",
              "    </tr>\n",
              "    <tr>\n",
              "      <th>14</th>\n",
              "      <td>382</td>\n",
              "      <td>NaN</td>\n",
              "      <td>2010-04-30T00:00:00.000Z</td>\n",
              "      <td>0</td>\n",
              "    </tr>\n",
              "    <tr>\n",
              "      <th>15</th>\n",
              "      <td>382</td>\n",
              "      <td>NaN</td>\n",
              "      <td>2009-05-22T00:00:00.000Z</td>\n",
              "      <td>0</td>\n",
              "    </tr>\n",
              "    <tr>\n",
              "      <th>16</th>\n",
              "      <td>419</td>\n",
              "      <td>NaN</td>\n",
              "      <td>2009-05-24T00:00:00.000Z</td>\n",
              "      <td>0</td>\n",
              "    </tr>\n",
              "    <tr>\n",
              "      <th>17</th>\n",
              "      <td>474</td>\n",
              "      <td>NaN</td>\n",
              "      <td>2008-05-11T00:00:00.000Z</td>\n",
              "      <td>0</td>\n",
              "    </tr>\n",
              "    <tr>\n",
              "      <th>18</th>\n",
              "      <td>492</td>\n",
              "      <td>4214956.0</td>\n",
              "      <td>2008-11-27T00:00:00.000Z</td>\n",
              "      <td>1</td>\n",
              "    </tr>\n",
              "    <tr>\n",
              "      <th>19</th>\n",
              "      <td>512</td>\n",
              "      <td>NaN</td>\n",
              "      <td>2009-07-27T00:00:00.000Z</td>\n",
              "      <td>0</td>\n",
              "    </tr>\n",
              "  </tbody>\n",
              "</table>\n",
              "</div>"
            ],
            "text/plain": [
              "    person_id   obs_type      visit_start_datetime  exist\n",
              "0           5        NaN  2009-01-09T00:00:00.000Z      0\n",
              "1          41        NaN  2008-10-09T00:00:00.000Z      0\n",
              "2          62        NaN  2008-06-30T00:00:00.000Z      0\n",
              "3         103        NaN  2009-07-25T00:00:00.000Z      0\n",
              "4         125        NaN  2009-01-13T00:00:00.000Z      0\n",
              "5         190        NaN  2009-04-20T00:00:00.000Z      0\n",
              "6         216        NaN  2008-08-09T00:00:00.000Z      0\n",
              "7         221        NaN  2008-01-23T00:00:00.000Z      0\n",
              "8         221        NaN  2009-08-19T00:00:00.000Z      0\n",
              "9         225        NaN  2009-10-29T00:00:00.000Z      0\n",
              "10        293        NaN  2009-06-21T00:00:00.000Z      0\n",
              "11        303        NaN  2008-08-18T00:00:00.000Z      0\n",
              "12        355        NaN  2008-12-16T00:00:00.000Z      0\n",
              "13        382        NaN  2008-11-15T00:00:00.000Z      0\n",
              "14        382        NaN  2010-04-30T00:00:00.000Z      0\n",
              "15        382        NaN  2009-05-22T00:00:00.000Z      0\n",
              "16        419        NaN  2009-05-24T00:00:00.000Z      0\n",
              "17        474        NaN  2008-05-11T00:00:00.000Z      0\n",
              "18        492  4214956.0  2008-11-27T00:00:00.000Z      1\n",
              "19        512        NaN  2009-07-27T00:00:00.000Z      0"
            ]
          },
          "metadata": {
            "tags": []
          },
          "execution_count": 17
        }
      ]
    },
    {
      "cell_type": "code",
      "metadata": {
        "id": "aY0R3nM0DogP",
        "colab_type": "code",
        "colab": {}
      },
      "source": [
        "table2 = table1[table1['visit_start_datetime'] == table1.groupby('person_id')['visit_start_datetime'].transform('max')][['person_id', 'obs_type', 'exist']]\n",
        "##get the latest visit as records"
      ],
      "execution_count": 0,
      "outputs": []
    },
    {
      "cell_type": "code",
      "metadata": {
        "id": "u2S5oJfrEN8K",
        "colab_type": "code",
        "colab": {}
      },
      "source": [
        "table3 = pd.unique(table2[['person_id', 'obs_type', 'exist']])"
      ],
      "execution_count": 0,
      "outputs": []
    },
    {
      "cell_type": "code",
      "metadata": {
        "id": "rnBMU4JpFZ7p",
        "colab_type": "code",
        "outputId": "10d888ec-b716-491c-b1ca-d2158c337c4a",
        "colab": {
          "base_uri": "https://localhost:8080/",
          "height": 664
        }
      },
      "source": [
        "table2.head(20)"
      ],
      "execution_count": 0,
      "outputs": [
        {
          "output_type": "execute_result",
          "data": {
            "text/html": [
              "<div>\n",
              "<style scoped>\n",
              "    .dataframe tbody tr th:only-of-type {\n",
              "        vertical-align: middle;\n",
              "    }\n",
              "\n",
              "    .dataframe tbody tr th {\n",
              "        vertical-align: top;\n",
              "    }\n",
              "\n",
              "    .dataframe thead th {\n",
              "        text-align: right;\n",
              "    }\n",
              "</style>\n",
              "<table border=\"1\" class=\"dataframe\">\n",
              "  <thead>\n",
              "    <tr style=\"text-align: right;\">\n",
              "      <th></th>\n",
              "      <th>person_id</th>\n",
              "      <th>obs_type</th>\n",
              "      <th>exist</th>\n",
              "    </tr>\n",
              "  </thead>\n",
              "  <tbody>\n",
              "    <tr>\n",
              "      <th>4</th>\n",
              "      <td>125</td>\n",
              "      <td>NaN</td>\n",
              "      <td>0</td>\n",
              "    </tr>\n",
              "    <tr>\n",
              "      <th>5</th>\n",
              "      <td>190</td>\n",
              "      <td>NaN</td>\n",
              "      <td>0</td>\n",
              "    </tr>\n",
              "    <tr>\n",
              "      <th>9</th>\n",
              "      <td>225</td>\n",
              "      <td>NaN</td>\n",
              "      <td>0</td>\n",
              "    </tr>\n",
              "    <tr>\n",
              "      <th>19</th>\n",
              "      <td>512</td>\n",
              "      <td>NaN</td>\n",
              "      <td>0</td>\n",
              "    </tr>\n",
              "    <tr>\n",
              "      <th>21</th>\n",
              "      <td>573</td>\n",
              "      <td>NaN</td>\n",
              "      <td>0</td>\n",
              "    </tr>\n",
              "    <tr>\n",
              "      <th>23</th>\n",
              "      <td>618</td>\n",
              "      <td>NaN</td>\n",
              "      <td>0</td>\n",
              "    </tr>\n",
              "    <tr>\n",
              "      <th>47</th>\n",
              "      <td>971</td>\n",
              "      <td>NaN</td>\n",
              "      <td>0</td>\n",
              "    </tr>\n",
              "    <tr>\n",
              "      <th>58</th>\n",
              "      <td>1159</td>\n",
              "      <td>NaN</td>\n",
              "      <td>0</td>\n",
              "    </tr>\n",
              "    <tr>\n",
              "      <th>77</th>\n",
              "      <td>1242</td>\n",
              "      <td>NaN</td>\n",
              "      <td>0</td>\n",
              "    </tr>\n",
              "    <tr>\n",
              "      <th>93</th>\n",
              "      <td>1627</td>\n",
              "      <td>NaN</td>\n",
              "      <td>0</td>\n",
              "    </tr>\n",
              "    <tr>\n",
              "      <th>94</th>\n",
              "      <td>1664</td>\n",
              "      <td>NaN</td>\n",
              "      <td>0</td>\n",
              "    </tr>\n",
              "    <tr>\n",
              "      <th>132</th>\n",
              "      <td>2483</td>\n",
              "      <td>NaN</td>\n",
              "      <td>0</td>\n",
              "    </tr>\n",
              "    <tr>\n",
              "      <th>141</th>\n",
              "      <td>2906</td>\n",
              "      <td>2614668.0</td>\n",
              "      <td>1</td>\n",
              "    </tr>\n",
              "    <tr>\n",
              "      <th>142</th>\n",
              "      <td>2906</td>\n",
              "      <td>4058431.0</td>\n",
              "      <td>1</td>\n",
              "    </tr>\n",
              "    <tr>\n",
              "      <th>143</th>\n",
              "      <td>2906</td>\n",
              "      <td>4060089.0</td>\n",
              "      <td>1</td>\n",
              "    </tr>\n",
              "    <tr>\n",
              "      <th>144</th>\n",
              "      <td>2906</td>\n",
              "      <td>440927.0</td>\n",
              "      <td>1</td>\n",
              "    </tr>\n",
              "    <tr>\n",
              "      <th>145</th>\n",
              "      <td>2906</td>\n",
              "      <td>0.0</td>\n",
              "      <td>1</td>\n",
              "    </tr>\n",
              "    <tr>\n",
              "      <th>146</th>\n",
              "      <td>2906</td>\n",
              "      <td>4058431.0</td>\n",
              "      <td>1</td>\n",
              "    </tr>\n",
              "    <tr>\n",
              "      <th>147</th>\n",
              "      <td>2906</td>\n",
              "      <td>440927.0</td>\n",
              "      <td>1</td>\n",
              "    </tr>\n",
              "    <tr>\n",
              "      <th>148</th>\n",
              "      <td>2909</td>\n",
              "      <td>NaN</td>\n",
              "      <td>0</td>\n",
              "    </tr>\n",
              "  </tbody>\n",
              "</table>\n",
              "</div>"
            ],
            "text/plain": [
              "     person_id   obs_type  exist\n",
              "4          125        NaN      0\n",
              "5          190        NaN      0\n",
              "9          225        NaN      0\n",
              "19         512        NaN      0\n",
              "21         573        NaN      0\n",
              "23         618        NaN      0\n",
              "47         971        NaN      0\n",
              "58        1159        NaN      0\n",
              "77        1242        NaN      0\n",
              "93        1627        NaN      0\n",
              "94        1664        NaN      0\n",
              "132       2483        NaN      0\n",
              "141       2906  2614668.0      1\n",
              "142       2906  4058431.0      1\n",
              "143       2906  4060089.0      1\n",
              "144       2906   440927.0      1\n",
              "145       2906        0.0      1\n",
              "146       2906  4058431.0      1\n",
              "147       2906   440927.0      1\n",
              "148       2909        NaN      0"
            ]
          },
          "metadata": {
            "tags": []
          },
          "execution_count": 21
        }
      ]
    },
    {
      "cell_type": "code",
      "metadata": {
        "id": "toj2xeJwXYNQ",
        "colab_type": "code",
        "colab": {}
      },
      "source": [
        ""
      ],
      "execution_count": 0,
      "outputs": []
    },
    {
      "cell_type": "code",
      "metadata": {
        "id": "uVdACbnyig0E",
        "colab_type": "code",
        "colab": {}
      },
      "source": [
        "exist = []\n",
        "table1.loc[pd.isnull(table1['obs_od']) , 'exist'] = 0\n",
        "table1.loc[pd.isnull(table1['obs_od'])==False , 'exist'] = 1"
      ],
      "execution_count": 0,
      "outputs": []
    },
    {
      "cell_type": "code",
      "metadata": {
        "id": "2nxrsCSJW0ih",
        "colab_type": "code",
        "colab": {}
      },
      "source": [
        "table3 = table2.dropna()"
      ],
      "execution_count": 0,
      "outputs": []
    },
    {
      "cell_type": "code",
      "metadata": {
        "id": "nMGLO3RLMD1r",
        "colab_type": "code",
        "outputId": "9128d9bc-ed04-42c9-9dd0-c7a4944ab529",
        "colab": {
          "base_uri": "https://localhost:8080/",
          "height": 664
        }
      },
      "source": [
        "table3[['person_id', 'obs_type']] = table2.groupby(['person_id', 'obs_type']).transform('max').head(20)"
      ],
      "execution_count": 0,
      "outputs": [
        {
          "output_type": "execute_result",
          "data": {
            "text/html": [
              "<div>\n",
              "<style scoped>\n",
              "    .dataframe tbody tr th:only-of-type {\n",
              "        vertical-align: middle;\n",
              "    }\n",
              "\n",
              "    .dataframe tbody tr th {\n",
              "        vertical-align: top;\n",
              "    }\n",
              "\n",
              "    .dataframe thead th {\n",
              "        text-align: right;\n",
              "    }\n",
              "</style>\n",
              "<table border=\"1\" class=\"dataframe\">\n",
              "  <thead>\n",
              "    <tr style=\"text-align: right;\">\n",
              "      <th></th>\n",
              "      <th>exist</th>\n",
              "    </tr>\n",
              "  </thead>\n",
              "  <tbody>\n",
              "    <tr>\n",
              "      <th>4</th>\n",
              "      <td>NaN</td>\n",
              "    </tr>\n",
              "    <tr>\n",
              "      <th>5</th>\n",
              "      <td>NaN</td>\n",
              "    </tr>\n",
              "    <tr>\n",
              "      <th>9</th>\n",
              "      <td>NaN</td>\n",
              "    </tr>\n",
              "    <tr>\n",
              "      <th>19</th>\n",
              "      <td>NaN</td>\n",
              "    </tr>\n",
              "    <tr>\n",
              "      <th>21</th>\n",
              "      <td>NaN</td>\n",
              "    </tr>\n",
              "    <tr>\n",
              "      <th>23</th>\n",
              "      <td>NaN</td>\n",
              "    </tr>\n",
              "    <tr>\n",
              "      <th>47</th>\n",
              "      <td>NaN</td>\n",
              "    </tr>\n",
              "    <tr>\n",
              "      <th>58</th>\n",
              "      <td>NaN</td>\n",
              "    </tr>\n",
              "    <tr>\n",
              "      <th>77</th>\n",
              "      <td>NaN</td>\n",
              "    </tr>\n",
              "    <tr>\n",
              "      <th>93</th>\n",
              "      <td>NaN</td>\n",
              "    </tr>\n",
              "    <tr>\n",
              "      <th>94</th>\n",
              "      <td>NaN</td>\n",
              "    </tr>\n",
              "    <tr>\n",
              "      <th>132</th>\n",
              "      <td>NaN</td>\n",
              "    </tr>\n",
              "    <tr>\n",
              "      <th>141</th>\n",
              "      <td>1.0</td>\n",
              "    </tr>\n",
              "    <tr>\n",
              "      <th>142</th>\n",
              "      <td>1.0</td>\n",
              "    </tr>\n",
              "    <tr>\n",
              "      <th>143</th>\n",
              "      <td>1.0</td>\n",
              "    </tr>\n",
              "    <tr>\n",
              "      <th>144</th>\n",
              "      <td>1.0</td>\n",
              "    </tr>\n",
              "    <tr>\n",
              "      <th>145</th>\n",
              "      <td>1.0</td>\n",
              "    </tr>\n",
              "    <tr>\n",
              "      <th>146</th>\n",
              "      <td>1.0</td>\n",
              "    </tr>\n",
              "    <tr>\n",
              "      <th>147</th>\n",
              "      <td>1.0</td>\n",
              "    </tr>\n",
              "    <tr>\n",
              "      <th>148</th>\n",
              "      <td>NaN</td>\n",
              "    </tr>\n",
              "  </tbody>\n",
              "</table>\n",
              "</div>"
            ],
            "text/plain": [
              "     exist\n",
              "4      NaN\n",
              "5      NaN\n",
              "9      NaN\n",
              "19     NaN\n",
              "21     NaN\n",
              "23     NaN\n",
              "47     NaN\n",
              "58     NaN\n",
              "77     NaN\n",
              "93     NaN\n",
              "94     NaN\n",
              "132    NaN\n",
              "141    1.0\n",
              "142    1.0\n",
              "143    1.0\n",
              "144    1.0\n",
              "145    1.0\n",
              "146    1.0\n",
              "147    1.0\n",
              "148    NaN"
            ]
          },
          "metadata": {
            "tags": []
          },
          "execution_count": 20
        }
      ]
    },
    {
      "cell_type": "code",
      "metadata": {
        "id": "Tiebr5GSWI3K",
        "colab_type": "code",
        "colab": {}
      },
      "source": [
        "table3.pivot(values='exist', index='person_id', columns='obs_type')"
      ],
      "execution_count": 0,
      "outputs": []
    },
    {
      "cell_type": "code",
      "metadata": {
        "id": "0WzHEMn_wRd5",
        "colab_type": "code",
        "colab": {}
      },
      "source": [
        "import datetime\n",
        "obs_df['visit_start_datetime'] = obs_df['visit_start_datetime'].map(lambda x: datetime.datetime.strptime(x,\"%Y-%m-%dT%H:%M:%S.000Z\"))\n",
        "obs_df['birth_datetime'] = obs_df['birth_datetime'].map(lambda x: datetime.datetime.strptime(x,\"%Y-%m-%dT%H:%M:%S.000Z\"))"
      ],
      "execution_count": 0,
      "outputs": []
    },
    {
      "cell_type": "code",
      "metadata": {
        "id": "wkDNXSYbyyQu",
        "colab_type": "code",
        "colab": {}
      },
      "source": [
        "drug_df['age'] = drug_df['visit_start_datetime']-drug_df['birth_datetime']\n",
        "drug_df['age'] = drug_df['age'].dt.days.astype('int16')"
      ],
      "execution_count": 0,
      "outputs": []
    },
    {
      "cell_type": "markdown",
      "metadata": {
        "id": "ZZuMAYM_pO8B",
        "colab_type": "text"
      },
      "source": [
        "## exploration"
      ]
    },
    {
      "cell_type": "code",
      "metadata": {
        "id": "VZF5VhjU4ZVt",
        "colab_type": "code",
        "outputId": "c49c58a3-d311-4c2d-ad66-d539695f91d1",
        "colab": {
          "base_uri": "https://localhost:8080/",
          "height": 694
        }
      },
      "source": [
        "percent_missing = obs_df.isnull().sum() * 100 / len(obs_df)\n",
        "missing_value_df = pd.DataFrame({'column_name': obs_df.columns,\n",
        "                                 'percent_missing': percent_missing})\n",
        "missing_value_df"
      ],
      "execution_count": 0,
      "outputs": [
        {
          "output_type": "execute_result",
          "data": {
            "text/html": [
              "<div>\n",
              "<style scoped>\n",
              "    .dataframe tbody tr th:only-of-type {\n",
              "        vertical-align: middle;\n",
              "    }\n",
              "\n",
              "    .dataframe tbody tr th {\n",
              "        vertical-align: top;\n",
              "    }\n",
              "\n",
              "    .dataframe thead th {\n",
              "        text-align: right;\n",
              "    }\n",
              "</style>\n",
              "<table border=\"1\" class=\"dataframe\">\n",
              "  <thead>\n",
              "    <tr style=\"text-align: right;\">\n",
              "      <th></th>\n",
              "      <th>column_name</th>\n",
              "      <th>percent_missing</th>\n",
              "    </tr>\n",
              "  </thead>\n",
              "  <tbody>\n",
              "    <tr>\n",
              "      <th>person_id</th>\n",
              "      <td>person_id</td>\n",
              "      <td>0.000000</td>\n",
              "    </tr>\n",
              "    <tr>\n",
              "      <th>visit_occurrence_id</th>\n",
              "      <td>visit_occurrence_id</td>\n",
              "      <td>0.000080</td>\n",
              "    </tr>\n",
              "    <tr>\n",
              "      <th>year_of_birth</th>\n",
              "      <td>year_of_birth</td>\n",
              "      <td>0.000000</td>\n",
              "    </tr>\n",
              "    <tr>\n",
              "      <th>ethnicity_concept_id</th>\n",
              "      <td>ethnicity_concept_id</td>\n",
              "      <td>0.000000</td>\n",
              "    </tr>\n",
              "    <tr>\n",
              "      <th>month_of_birth</th>\n",
              "      <td>month_of_birth</td>\n",
              "      <td>0.000000</td>\n",
              "    </tr>\n",
              "    <tr>\n",
              "      <th>day_of_birth</th>\n",
              "      <td>day_of_birth</td>\n",
              "      <td>0.000000</td>\n",
              "    </tr>\n",
              "    <tr>\n",
              "      <th>race_concept_id</th>\n",
              "      <td>race_concept_id</td>\n",
              "      <td>14.403231</td>\n",
              "    </tr>\n",
              "    <tr>\n",
              "      <th>gender_concept_id</th>\n",
              "      <td>gender_concept_id</td>\n",
              "      <td>0.000000</td>\n",
              "    </tr>\n",
              "    <tr>\n",
              "      <th>birth_datetime</th>\n",
              "      <td>birth_datetime</td>\n",
              "      <td>0.000000</td>\n",
              "    </tr>\n",
              "    <tr>\n",
              "      <th>provider_id</th>\n",
              "      <td>provider_id</td>\n",
              "      <td>0.307425</td>\n",
              "    </tr>\n",
              "    <tr>\n",
              "      <th>visit_start_datetime</th>\n",
              "      <td>visit_start_datetime</td>\n",
              "      <td>0.000080</td>\n",
              "    </tr>\n",
              "    <tr>\n",
              "      <th>visit_concept_id</th>\n",
              "      <td>visit_concept_id</td>\n",
              "      <td>0.000080</td>\n",
              "    </tr>\n",
              "    <tr>\n",
              "      <th>visit_type_concept_id</th>\n",
              "      <td>visit_type_concept_id</td>\n",
              "      <td>0.000080</td>\n",
              "    </tr>\n",
              "    <tr>\n",
              "      <th>value_as_concept_id</th>\n",
              "      <td>value_as_concept_id</td>\n",
              "      <td>36.332133</td>\n",
              "    </tr>\n",
              "    <tr>\n",
              "      <th>observation_source_concept_id</th>\n",
              "      <td>observation_source_concept_id</td>\n",
              "      <td>35.951819</td>\n",
              "    </tr>\n",
              "    <tr>\n",
              "      <th>value_as_string</th>\n",
              "      <td>value_as_string</td>\n",
              "      <td>36.436919</td>\n",
              "    </tr>\n",
              "    <tr>\n",
              "      <th>observation_concept_id</th>\n",
              "      <td>observation_concept_id</td>\n",
              "      <td>35.951819</td>\n",
              "    </tr>\n",
              "    <tr>\n",
              "      <th>observation_id</th>\n",
              "      <td>observation_id</td>\n",
              "      <td>35.951819</td>\n",
              "    </tr>\n",
              "    <tr>\n",
              "      <th>observation_datetime</th>\n",
              "      <td>observation_datetime</td>\n",
              "      <td>35.976623</td>\n",
              "    </tr>\n",
              "    <tr>\n",
              "      <th>death</th>\n",
              "      <td>death</td>\n",
              "      <td>0.000000</td>\n",
              "    </tr>\n",
              "    <tr>\n",
              "      <th>obs_od</th>\n",
              "      <td>obs_od</td>\n",
              "      <td>54.970718</td>\n",
              "    </tr>\n",
              "  </tbody>\n",
              "</table>\n",
              "</div>"
            ],
            "text/plain": [
              "                                                 column_name  percent_missing\n",
              "person_id                                          person_id         0.000000\n",
              "visit_occurrence_id                      visit_occurrence_id         0.000080\n",
              "year_of_birth                                  year_of_birth         0.000000\n",
              "ethnicity_concept_id                    ethnicity_concept_id         0.000000\n",
              "month_of_birth                                month_of_birth         0.000000\n",
              "day_of_birth                                    day_of_birth         0.000000\n",
              "race_concept_id                              race_concept_id        14.403231\n",
              "gender_concept_id                          gender_concept_id         0.000000\n",
              "birth_datetime                                birth_datetime         0.000000\n",
              "provider_id                                      provider_id         0.307425\n",
              "visit_start_datetime                    visit_start_datetime         0.000080\n",
              "visit_concept_id                            visit_concept_id         0.000080\n",
              "visit_type_concept_id                  visit_type_concept_id         0.000080\n",
              "value_as_concept_id                      value_as_concept_id        36.332133\n",
              "observation_source_concept_id  observation_source_concept_id        35.951819\n",
              "value_as_string                              value_as_string        36.436919\n",
              "observation_concept_id                observation_concept_id        35.951819\n",
              "observation_id                                observation_id        35.951819\n",
              "observation_datetime                    observation_datetime        35.976623\n",
              "death                                                  death         0.000000\n",
              "obs_od                                                obs_od        54.970718"
            ]
          },
          "metadata": {
            "tags": []
          },
          "execution_count": 58
        }
      ]
    },
    {
      "cell_type": "code",
      "metadata": {
        "id": "J0tWkLE_SXey",
        "colab_type": "code",
        "colab": {}
      },
      "source": [
        "obs_df = obs_df.apply(lambda x:x.fillna(x.value_counts().index[0]))"
      ],
      "execution_count": 0,
      "outputs": []
    },
    {
      "cell_type": "code",
      "metadata": {
        "id": "_g_uCwzh4ZKB",
        "colab_type": "code",
        "outputId": "e84c3594-776d-4dc8-a149-38a0ff3be525",
        "colab": {
          "base_uri": "https://localhost:8080/",
          "height": 143
        }
      },
      "source": [
        "obs_df.select_dtypes('object').apply(pd.Series.nunique, axis = 0)"
      ],
      "execution_count": 0,
      "outputs": [
        {
          "output_type": "execute_result",
          "data": {
            "text/plain": [
              "birth_datetime               900\n",
              "visit_start_datetime         878\n",
              "observation_date             896\n",
              "value_as_string              129\n",
              "observation_source_value    1382\n",
              "observation_datetime        2739\n",
              "dtype: int64"
            ]
          },
          "metadata": {
            "tags": []
          },
          "execution_count": 27
        }
      ]
    },
    {
      "cell_type": "markdown",
      "metadata": {
        "id": "53SaSy9U9gWY",
        "colab_type": "text"
      },
      "source": [
        "### feature engineering"
      ]
    },
    {
      "cell_type": "code",
      "metadata": {
        "id": "9DWV43rb6QaM",
        "colab_type": "code",
        "colab": {}
      },
      "source": [
        "exp = obs_df[['quantity','days_supply','age']]\n",
        "exp.head(5)"
      ],
      "execution_count": 0,
      "outputs": []
    },
    {
      "cell_type": "code",
      "metadata": {
        "id": "9Hj7u7m4K3Oj",
        "colab_type": "code",
        "colab": {}
      },
      "source": [
        "from sklearn.preprocessing import StandardScaler"
      ],
      "execution_count": 0,
      "outputs": []
    },
    {
      "cell_type": "code",
      "metadata": {
        "id": "QpACRPaMrDMj",
        "colab_type": "code",
        "colab": {}
      },
      "source": [
        "### value data scaling\n",
        "scaler = StandardScaler()\n",
        "scaler.fit(drug_df[['value_as_number','days_supply','age']])\n",
        "drug_df[['quantity','days_supply','age']] = scaler.transform(drug_df[['quantity','days_supply','age']])"
      ],
      "execution_count": 0,
      "outputs": []
    },
    {
      "cell_type": "code",
      "metadata": {
        "id": "BuzqQjnGI09y",
        "colab_type": "code",
        "colab": {}
      },
      "source": [
        "def encode_onehot(df, cols):\n",
        "    vec = DictVectorizer()\n",
        "    \n",
        "    vec_data = pd.DataFrame(vec.fit_transform(df[cols].to_dict(orient ='records')).toarray())\n",
        "    vec_data.columns = vec.get_feature_names()\n",
        "    vec_data.index = df.index\n",
        "    \n",
        "    df = df.drop(cols, axis=1)\n",
        "    df[cols] = vec_data\n",
        "    return df\n"
      ],
      "execution_count": 0,
      "outputs": []
    },
    {
      "cell_type": "code",
      "metadata": {
        "id": "VSJEgqzsrDJM",
        "colab_type": "code",
        "colab": {}
      },
      "source": [
        "## encoding\n",
        "pd.get_dummies(drug_df, columns=categorical).head(5)"
      ],
      "execution_count": 0,
      "outputs": []
    },
    {
      "cell_type": "code",
      "metadata": {
        "id": "Dy1g7PbHrDF0",
        "colab_type": "code",
        "colab": {}
      },
      "source": [
        "drug_df[categorical].head(5)"
      ],
      "execution_count": 0,
      "outputs": []
    },
    {
      "cell_type": "code",
      "metadata": {
        "id": "nAb_28wtrDBq",
        "colab_type": "code",
        "colab": {}
      },
      "source": [
        ""
      ],
      "execution_count": 0,
      "outputs": []
    },
    {
      "cell_type": "code",
      "metadata": {
        "id": "m2Q_SVuXrC3K",
        "colab_type": "code",
        "colab": {}
      },
      "source": [
        ""
      ],
      "execution_count": 0,
      "outputs": []
    },
    {
      "cell_type": "code",
      "metadata": {
        "id": "Dgr0q561JIpn",
        "colab_type": "code",
        "colab": {}
      },
      "source": [
        "a = [0.013689, 0.009606]\n",
        "a = np.asarray(a)\n",
        "t_mean = (0.013689 + 0.009606)/2\n",
        "std = np.sqrt(a.var(ddof = 1))\n",
        "t_stat = (a[0] - a[1])/std\n",
        "t_stat "
      ],
      "execution_count": 0,
      "outputs": []
    },
    {
      "cell_type": "markdown",
      "metadata": {
        "id": "Hiyba69R971n",
        "colab_type": "text"
      },
      "source": [
        "### about measurement info"
      ]
    },
    {
      "cell_type": "code",
      "metadata": {
        "id": "tYSqssgR9_P2",
        "colab_type": "code",
        "colab": {}
      },
      "source": [
        "## for measurement value in each unit\n",
        "g = sns.FacetGrid(measure_df, col='unit_concept_id')\n",
        "g.map(sns.boxplot, 'death','value_as_number')"
      ],
      "execution_count": 0,
      "outputs": []
    },
    {
      "cell_type": "code",
      "metadata": {
        "id": "bl9Uvw2yFGdS",
        "colab_type": "code",
        "colab": {}
      },
      "source": [
        "drug_df.loc[drug_df['value_as_number']> 100000 , 'value_as_number'] =None ##delete the extreme values"
      ],
      "execution_count": 0,
      "outputs": []
    },
    {
      "cell_type": "code",
      "metadata": {
        "id": "t4VCAy_z9_B0",
        "colab_type": "code",
        "colab": {}
      },
      "source": [
        "sns.boxplot(x = 'death', y = 'value_as_number', data = measure_df)"
      ],
      "execution_count": 0,
      "outputs": []
    },
    {
      "cell_type": "code",
      "metadata": {
        "id": "UKSrSrf3NF94",
        "colab_type": "code",
        "colab": {}
      },
      "source": [
        "type(measure_df.measurement_datetime)"
      ],
      "execution_count": 0,
      "outputs": []
    },
    {
      "cell_type": "code",
      "metadata": {
        "id": "ZFu4blNcNGwV",
        "colab_type": "code",
        "colab": {}
      },
      "source": [
        "measure_df['measure_date']= measure_df.measurement_datetime.dt.date"
      ],
      "execution_count": 0,
      "outputs": []
    },
    {
      "cell_type": "code",
      "metadata": {
        "id": "kgPQVrliNGky",
        "colab_type": "code",
        "colab": {}
      },
      "source": [
        ""
      ],
      "execution_count": 0,
      "outputs": []
    },
    {
      "cell_type": "code",
      "metadata": {
        "id": "7XoG6sRxNGZQ",
        "colab_type": "code",
        "colab": {}
      },
      "source": [
        ""
      ],
      "execution_count": 0,
      "outputs": []
    },
    {
      "cell_type": "code",
      "metadata": {
        "id": "Pa3tb_Wz-J1R",
        "colab_type": "code",
        "colab": {}
      },
      "source": [
        "measure_df.to_csv(\"measure2.csv\")"
      ],
      "execution_count": 0,
      "outputs": []
    }
  ]
}