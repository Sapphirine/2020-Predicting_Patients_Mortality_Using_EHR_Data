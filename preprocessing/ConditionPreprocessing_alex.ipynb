{
 "cells": [
  {
   "cell_type": "code",
   "execution_count": 1,
   "metadata": {},
   "outputs": [],
   "source": [
    "import pandas as pd\n",
    "import matplotlib.pyplot as plt\n",
    "import seaborn as sns\n",
    "import numpy as np\n",
    "conditionDF = pd.read_csv('condition.csv')"
   ]
  },
  {
   "cell_type": "code",
   "execution_count": 2,
   "metadata": {},
   "outputs": [],
   "source": [
    "conditionDF['visit_start_datetime']=pd.to_datetime(conditionDF['visit_start_datetime'])\n",
    "conditionDF['visit_datetime_difference']=(pd.to_datetime(conditionDF['visit_end_datetime'])-pd.to_datetime(conditionDF['visit_start_datetime']))\n",
    "conditionDF['condition_datetime_difference']=(pd.to_datetime(conditionDF['condition_end_datetime'])-pd.to_datetime(conditionDF['condition_start_datetime']))"
   ]
  },
  {
   "cell_type": "code",
   "execution_count": 3,
   "metadata": {},
   "outputs": [],
   "source": [
    "persondrop=['location_id','provider_id','care_site_id','person_source_value','race_source_value',\n",
    "            'gender_source_value','ethnicity_source_value','birth_datetime']\n",
    "visitdrop=['visit_source_value','visit_start_date','visit_end_date','visit_end_datetime']\n",
    "conditiondrop=['condition_source_value','condition_source_concept_id','condition_end_date',\n",
    "              'condition_start_date','condition_end_datetime','condition_start_datetime']\n",
    "conditionDF=conditionDF.drop(columns=persondrop)\n",
    "conditionDF=conditionDF.drop(columns=visitdrop)\n",
    "conditionDF=conditionDF.drop(columns=conditiondrop)"
   ]
  },
  {
   "cell_type": "code",
   "execution_count": 4,
   "metadata": {},
   "outputs": [],
   "source": [
    "conditionDF.loc[pd.isnull(conditionDF['death_date']) , 'death'] = 0\n",
    "conditionDF.loc[pd.isnull(conditionDF['death_date'])==False , 'death'] = 1\n",
    "deathdrop=['death_date','death_datetime','death_type_concept_id','cause_source_concept_id']\n",
    "conditionDF=conditionDF.drop(columns=deathdrop)"
   ]
  },
  {
   "cell_type": "code",
   "execution_count": 5,
   "metadata": {},
   "outputs": [],
   "source": [
    "newconditionDF=conditionDF[conditionDF['visit_start_datetime'] == conditionDF.groupby('person_id')['visit_start_datetime'].transform('max')]"
   ]
  },
  {
   "cell_type": "code",
   "execution_count": 6,
   "metadata": {},
   "outputs": [
    {
     "data": {
      "text/html": [
       "<div>\n",
       "<style scoped>\n",
       "    .dataframe tbody tr th:only-of-type {\n",
       "        vertical-align: middle;\n",
       "    }\n",
       "\n",
       "    .dataframe tbody tr th {\n",
       "        vertical-align: top;\n",
       "    }\n",
       "\n",
       "    .dataframe thead th {\n",
       "        text-align: right;\n",
       "    }\n",
       "</style>\n",
       "<table border=\"1\" class=\"dataframe\">\n",
       "  <thead>\n",
       "    <tr style=\"text-align: right;\">\n",
       "      <th></th>\n",
       "      <th>column_name</th>\n",
       "      <th>percent_missing</th>\n",
       "    </tr>\n",
       "  </thead>\n",
       "  <tbody>\n",
       "    <tr>\n",
       "      <th>person_id</th>\n",
       "      <td>person_id</td>\n",
       "      <td>0.000000</td>\n",
       "    </tr>\n",
       "    <tr>\n",
       "      <th>visit_occurrence_id</th>\n",
       "      <td>visit_occurrence_id</td>\n",
       "      <td>0.000000</td>\n",
       "    </tr>\n",
       "    <tr>\n",
       "      <th>year_of_birth</th>\n",
       "      <td>year_of_birth</td>\n",
       "      <td>0.000000</td>\n",
       "    </tr>\n",
       "    <tr>\n",
       "      <th>ethnicity_concept_id</th>\n",
       "      <td>ethnicity_concept_id</td>\n",
       "      <td>0.000000</td>\n",
       "    </tr>\n",
       "    <tr>\n",
       "      <th>month_of_birth</th>\n",
       "      <td>month_of_birth</td>\n",
       "      <td>0.000000</td>\n",
       "    </tr>\n",
       "    <tr>\n",
       "      <th>day_of_birth</th>\n",
       "      <td>day_of_birth</td>\n",
       "      <td>0.000000</td>\n",
       "    </tr>\n",
       "    <tr>\n",
       "      <th>race_concept_id</th>\n",
       "      <td>race_concept_id</td>\n",
       "      <td>4.159311</td>\n",
       "    </tr>\n",
       "    <tr>\n",
       "      <th>gender_concept_id</th>\n",
       "      <td>gender_concept_id</td>\n",
       "      <td>0.000000</td>\n",
       "    </tr>\n",
       "    <tr>\n",
       "      <th>visit_start_datetime</th>\n",
       "      <td>visit_start_datetime</td>\n",
       "      <td>0.000000</td>\n",
       "    </tr>\n",
       "    <tr>\n",
       "      <th>visit_concept_id</th>\n",
       "      <td>visit_concept_id</td>\n",
       "      <td>0.000000</td>\n",
       "    </tr>\n",
       "    <tr>\n",
       "      <th>visit_type_concept_id</th>\n",
       "      <td>visit_type_concept_id</td>\n",
       "      <td>0.000000</td>\n",
       "    </tr>\n",
       "    <tr>\n",
       "      <th>condition_status_concept_id</th>\n",
       "      <td>condition_status_concept_id</td>\n",
       "      <td>16.577397</td>\n",
       "    </tr>\n",
       "    <tr>\n",
       "      <th>condition_type_concept_id</th>\n",
       "      <td>condition_type_concept_id</td>\n",
       "      <td>1.952304</td>\n",
       "    </tr>\n",
       "    <tr>\n",
       "      <th>condition_concept_id</th>\n",
       "      <td>condition_concept_id</td>\n",
       "      <td>1.952304</td>\n",
       "    </tr>\n",
       "    <tr>\n",
       "      <th>condition_occurrence_id</th>\n",
       "      <td>condition_occurrence_id</td>\n",
       "      <td>1.952304</td>\n",
       "    </tr>\n",
       "    <tr>\n",
       "      <th>visit_datetime_difference</th>\n",
       "      <td>visit_datetime_difference</td>\n",
       "      <td>0.000000</td>\n",
       "    </tr>\n",
       "    <tr>\n",
       "      <th>condition_datetime_difference</th>\n",
       "      <td>condition_datetime_difference</td>\n",
       "      <td>1.952304</td>\n",
       "    </tr>\n",
       "    <tr>\n",
       "      <th>death</th>\n",
       "      <td>death</td>\n",
       "      <td>0.000000</td>\n",
       "    </tr>\n",
       "  </tbody>\n",
       "</table>\n",
       "</div>"
      ],
      "text/plain": [
       "                                                 column_name  percent_missing\n",
       "person_id                                          person_id         0.000000\n",
       "visit_occurrence_id                      visit_occurrence_id         0.000000\n",
       "year_of_birth                                  year_of_birth         0.000000\n",
       "ethnicity_concept_id                    ethnicity_concept_id         0.000000\n",
       "month_of_birth                                month_of_birth         0.000000\n",
       "day_of_birth                                    day_of_birth         0.000000\n",
       "race_concept_id                              race_concept_id         4.159311\n",
       "gender_concept_id                          gender_concept_id         0.000000\n",
       "visit_start_datetime                    visit_start_datetime         0.000000\n",
       "visit_concept_id                            visit_concept_id         0.000000\n",
       "visit_type_concept_id                  visit_type_concept_id         0.000000\n",
       "condition_status_concept_id      condition_status_concept_id        16.577397\n",
       "condition_type_concept_id          condition_type_concept_id         1.952304\n",
       "condition_concept_id                    condition_concept_id         1.952304\n",
       "condition_occurrence_id              condition_occurrence_id         1.952304\n",
       "visit_datetime_difference          visit_datetime_difference         0.000000\n",
       "condition_datetime_difference  condition_datetime_difference         1.952304\n",
       "death                                                  death         0.000000"
      ]
     },
     "execution_count": 6,
     "metadata": {},
     "output_type": "execute_result"
    }
   ],
   "source": [
    "percent_missing = newconditionDF.isnull().sum() * 100 / len(conditionDF)\n",
    "missing_value_df = pd.DataFrame({'column_name': conditionDF.columns,\n",
    "                                 'percent_missing': percent_missing})\n",
    "missing_value_df"
   ]
  },
  {
   "cell_type": "code",
   "execution_count": 7,
   "metadata": {},
   "outputs": [],
   "source": [
    "newconditionDF = newconditionDF.apply(lambda x:x.fillna(x.value_counts().index[0]))"
   ]
  },
  {
   "cell_type": "code",
   "execution_count": 8,
   "metadata": {},
   "outputs": [],
   "source": [
    "categorical= ['person_id','visit_occurrence_id','ethnicity_concept_id','race_concept_id','gender_concept_id',\n",
    "             'visit_concept_id','visit_type_concept_id','condition_type_concept_id',\n",
    "             'condition_concept_id','condition_occurrence_id','condition_status_concept_id']\n",
    "for col in categorical:\n",
    "    newconditionDF[col] = newconditionDF[col].astype('object')\n",
    "newconditionDF['death'] = newconditionDF['death'].astype(int)"
   ]
  },
  {
   "cell_type": "code",
   "execution_count": 9,
   "metadata": {},
   "outputs": [
    {
     "data": {
      "text/plain": [
       "person_id                       97916\n",
       "visit_occurrence_id             94834\n",
       "ethnicity_concept_id                2\n",
       "race_concept_id                     6\n",
       "gender_concept_id                   2\n",
       "visit_concept_id                    3\n",
       "visit_type_concept_id               1\n",
       "condition_status_concept_id         1\n",
       "condition_type_concept_id           2\n",
       "condition_concept_id             6547\n",
       "condition_occurrence_id        746263\n",
       "dtype: int64"
      ]
     },
     "execution_count": 9,
     "metadata": {},
     "output_type": "execute_result"
    }
   ],
   "source": [
    "newconditionDF.select_dtypes('object').apply(pd.Series.nunique, axis = 0)"
   ]
  },
  {
   "cell_type": "code",
   "execution_count": 10,
   "metadata": {},
   "outputs": [],
   "source": [
    "newconditionDF2=newconditionDF.drop(columns=['visit_start_datetime','visit_type_concept_id','condition_occurrence_id','condition_status_concept_id'])"
   ]
  },
  {
   "cell_type": "code",
   "execution_count": 18,
   "metadata": {},
   "outputs": [],
   "source": [
    "columnstojoin=newconditionDF2[['person_id','visit_concept_id','condition_type_concept_id','death']]"
   ]
  },
  {
   "cell_type": "code",
   "execution_count": 22,
   "metadata": {},
   "outputs": [],
   "source": [
    "final=columnstojoin.drop_duplicates().groupby('person_id').head(1)"
   ]
  },
  {
   "cell_type": "code",
   "execution_count": 13,
   "metadata": {},
   "outputs": [
    {
     "name": "stderr",
     "output_type": "stream",
     "text": [
      "//anaconda3/lib/python3.7/site-packages/ipykernel_launcher.py:1: FutureWarning: using a dict on a Series for aggregation\n",
      "is deprecated and will be removed in a future version\n",
      "  \"\"\"Entry point for launching an IPython kernel.\n"
     ]
    }
   ],
   "source": [
    "newconditionDF3=newconditionDF2.groupby('person_id')['condition_concept_id'].agg({'count':len})"
   ]
  },
  {
   "cell_type": "code",
   "execution_count": 26,
   "metadata": {},
   "outputs": [],
   "source": [
    "finalcondition=pd.merge(newconditionDF3, final, on='person_id')"
   ]
  },
  {
   "cell_type": "code",
   "execution_count": 27,
   "metadata": {},
   "outputs": [],
   "source": [
    "finalcondition = finalcondition.rename(columns={'count': 'condition_num'})"
   ]
  },
  {
   "cell_type": "code",
   "execution_count": 29,
   "metadata": {},
   "outputs": [],
   "source": [
    "finalcondition.to_csv(\"finalcondition.csv\",index=False)"
   ]
  },
  {
   "cell_type": "code",
   "execution_count": null,
   "metadata": {},
   "outputs": [],
   "source": []
  }
 ],
 "metadata": {
  "kernelspec": {
   "display_name": "Python 3",
   "language": "python",
   "name": "python3"
  },
  "language_info": {
   "codemirror_mode": {
    "name": "ipython",
    "version": 3
   },
   "file_extension": ".py",
   "mimetype": "text/x-python",
   "name": "python",
   "nbconvert_exporter": "python",
   "pygments_lexer": "ipython3",
   "version": "3.7.3"
  }
 },
 "nbformat": 4,
 "nbformat_minor": 2
}
